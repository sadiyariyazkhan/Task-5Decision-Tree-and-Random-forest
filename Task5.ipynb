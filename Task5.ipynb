{
  "nbformat": 4,
  "nbformat_minor": 0,
  "metadata": {
    "colab": {
      "provenance": []
    },
    "kernelspec": {
      "name": "python3",
      "display_name": "Python 3"
    },
    "language_info": {
      "name": "python"
    }
  },
  "cells": [
    {
      "cell_type": "code",
      "execution_count": 99,
      "metadata": {
        "id": "yq4zkrBgpeb9"
      },
      "outputs": [],
      "source": [
        "import pandas as pd\n",
        "import numpy as np\n",
        "import matplotlib.pyplot as plt\n",
        "%matplotlib inline\n",
        "import seaborn as sns\n",
        "from sklearn.tree import export_graphviz\n",
        "import graphviz\n",
        "from sklearn.model_selection import train_test_split\n",
        "from sklearn.tree import DecisionTreeClassifier, plot_tree\n",
        "from sklearn.ensemble import RandomForestClassifier\n",
        "from sklearn.model_selection import cross_val_score\n",
        "\n",
        "import warnings\n",
        "warnings.filterwarnings('ignore')"
      ]
    },
    {
      "cell_type": "code",
      "source": [
        "df=pd.read_csv('/content/heart.csv')\n",
        "df.head()"
      ],
      "metadata": {
        "colab": {
          "base_uri": "https://localhost:8080/",
          "height": 206
        },
        "id": "3g7DGGVArDe_",
        "outputId": "3508583d-8aee-48dc-fadd-3bfe69f15418"
      },
      "execution_count": 100,
      "outputs": [
        {
          "output_type": "execute_result",
          "data": {
            "text/plain": [
              "   age  sex  cp  trestbps  chol  fbs  restecg  thalach  exang  oldpeak  slope  \\\n",
              "0   52    1   0       125   212    0        1      168      0      1.0      2   \n",
              "1   53    1   0       140   203    1        0      155      1      3.1      0   \n",
              "2   70    1   0       145   174    0        1      125      1      2.6      0   \n",
              "3   61    1   0       148   203    0        1      161      0      0.0      2   \n",
              "4   62    0   0       138   294    1        1      106      0      1.9      1   \n",
              "\n",
              "   ca  thal  target  \n",
              "0   2     3       0  \n",
              "1   0     3       0  \n",
              "2   0     3       0  \n",
              "3   1     3       0  \n",
              "4   3     2       0  "
            ],
            "text/html": [
              "\n",
              "  <div id=\"df-77e94964-d597-4f69-a8dc-f3b510f018ef\" class=\"colab-df-container\">\n",
              "    <div>\n",
              "<style scoped>\n",
              "    .dataframe tbody tr th:only-of-type {\n",
              "        vertical-align: middle;\n",
              "    }\n",
              "\n",
              "    .dataframe tbody tr th {\n",
              "        vertical-align: top;\n",
              "    }\n",
              "\n",
              "    .dataframe thead th {\n",
              "        text-align: right;\n",
              "    }\n",
              "</style>\n",
              "<table border=\"1\" class=\"dataframe\">\n",
              "  <thead>\n",
              "    <tr style=\"text-align: right;\">\n",
              "      <th></th>\n",
              "      <th>age</th>\n",
              "      <th>sex</th>\n",
              "      <th>cp</th>\n",
              "      <th>trestbps</th>\n",
              "      <th>chol</th>\n",
              "      <th>fbs</th>\n",
              "      <th>restecg</th>\n",
              "      <th>thalach</th>\n",
              "      <th>exang</th>\n",
              "      <th>oldpeak</th>\n",
              "      <th>slope</th>\n",
              "      <th>ca</th>\n",
              "      <th>thal</th>\n",
              "      <th>target</th>\n",
              "    </tr>\n",
              "  </thead>\n",
              "  <tbody>\n",
              "    <tr>\n",
              "      <th>0</th>\n",
              "      <td>52</td>\n",
              "      <td>1</td>\n",
              "      <td>0</td>\n",
              "      <td>125</td>\n",
              "      <td>212</td>\n",
              "      <td>0</td>\n",
              "      <td>1</td>\n",
              "      <td>168</td>\n",
              "      <td>0</td>\n",
              "      <td>1.0</td>\n",
              "      <td>2</td>\n",
              "      <td>2</td>\n",
              "      <td>3</td>\n",
              "      <td>0</td>\n",
              "    </tr>\n",
              "    <tr>\n",
              "      <th>1</th>\n",
              "      <td>53</td>\n",
              "      <td>1</td>\n",
              "      <td>0</td>\n",
              "      <td>140</td>\n",
              "      <td>203</td>\n",
              "      <td>1</td>\n",
              "      <td>0</td>\n",
              "      <td>155</td>\n",
              "      <td>1</td>\n",
              "      <td>3.1</td>\n",
              "      <td>0</td>\n",
              "      <td>0</td>\n",
              "      <td>3</td>\n",
              "      <td>0</td>\n",
              "    </tr>\n",
              "    <tr>\n",
              "      <th>2</th>\n",
              "      <td>70</td>\n",
              "      <td>1</td>\n",
              "      <td>0</td>\n",
              "      <td>145</td>\n",
              "      <td>174</td>\n",
              "      <td>0</td>\n",
              "      <td>1</td>\n",
              "      <td>125</td>\n",
              "      <td>1</td>\n",
              "      <td>2.6</td>\n",
              "      <td>0</td>\n",
              "      <td>0</td>\n",
              "      <td>3</td>\n",
              "      <td>0</td>\n",
              "    </tr>\n",
              "    <tr>\n",
              "      <th>3</th>\n",
              "      <td>61</td>\n",
              "      <td>1</td>\n",
              "      <td>0</td>\n",
              "      <td>148</td>\n",
              "      <td>203</td>\n",
              "      <td>0</td>\n",
              "      <td>1</td>\n",
              "      <td>161</td>\n",
              "      <td>0</td>\n",
              "      <td>0.0</td>\n",
              "      <td>2</td>\n",
              "      <td>1</td>\n",
              "      <td>3</td>\n",
              "      <td>0</td>\n",
              "    </tr>\n",
              "    <tr>\n",
              "      <th>4</th>\n",
              "      <td>62</td>\n",
              "      <td>0</td>\n",
              "      <td>0</td>\n",
              "      <td>138</td>\n",
              "      <td>294</td>\n",
              "      <td>1</td>\n",
              "      <td>1</td>\n",
              "      <td>106</td>\n",
              "      <td>0</td>\n",
              "      <td>1.9</td>\n",
              "      <td>1</td>\n",
              "      <td>3</td>\n",
              "      <td>2</td>\n",
              "      <td>0</td>\n",
              "    </tr>\n",
              "  </tbody>\n",
              "</table>\n",
              "</div>\n",
              "    <div class=\"colab-df-buttons\">\n",
              "\n",
              "  <div class=\"colab-df-container\">\n",
              "    <button class=\"colab-df-convert\" onclick=\"convertToInteractive('df-77e94964-d597-4f69-a8dc-f3b510f018ef')\"\n",
              "            title=\"Convert this dataframe to an interactive table.\"\n",
              "            style=\"display:none;\">\n",
              "\n",
              "  <svg xmlns=\"http://www.w3.org/2000/svg\" height=\"24px\" viewBox=\"0 -960 960 960\">\n",
              "    <path d=\"M120-120v-720h720v720H120Zm60-500h600v-160H180v160Zm220 220h160v-160H400v160Zm0 220h160v-160H400v160ZM180-400h160v-160H180v160Zm440 0h160v-160H620v160ZM180-180h160v-160H180v160Zm440 0h160v-160H620v160Z\"/>\n",
              "  </svg>\n",
              "    </button>\n",
              "\n",
              "  <style>\n",
              "    .colab-df-container {\n",
              "      display:flex;\n",
              "      gap: 12px;\n",
              "    }\n",
              "\n",
              "    .colab-df-convert {\n",
              "      background-color: #E8F0FE;\n",
              "      border: none;\n",
              "      border-radius: 50%;\n",
              "      cursor: pointer;\n",
              "      display: none;\n",
              "      fill: #1967D2;\n",
              "      height: 32px;\n",
              "      padding: 0 0 0 0;\n",
              "      width: 32px;\n",
              "    }\n",
              "\n",
              "    .colab-df-convert:hover {\n",
              "      background-color: #E2EBFA;\n",
              "      box-shadow: 0px 1px 2px rgba(60, 64, 67, 0.3), 0px 1px 3px 1px rgba(60, 64, 67, 0.15);\n",
              "      fill: #174EA6;\n",
              "    }\n",
              "\n",
              "    .colab-df-buttons div {\n",
              "      margin-bottom: 4px;\n",
              "    }\n",
              "\n",
              "    [theme=dark] .colab-df-convert {\n",
              "      background-color: #3B4455;\n",
              "      fill: #D2E3FC;\n",
              "    }\n",
              "\n",
              "    [theme=dark] .colab-df-convert:hover {\n",
              "      background-color: #434B5C;\n",
              "      box-shadow: 0px 1px 3px 1px rgba(0, 0, 0, 0.15);\n",
              "      filter: drop-shadow(0px 1px 2px rgba(0, 0, 0, 0.3));\n",
              "      fill: #FFFFFF;\n",
              "    }\n",
              "  </style>\n",
              "\n",
              "    <script>\n",
              "      const buttonEl =\n",
              "        document.querySelector('#df-77e94964-d597-4f69-a8dc-f3b510f018ef button.colab-df-convert');\n",
              "      buttonEl.style.display =\n",
              "        google.colab.kernel.accessAllowed ? 'block' : 'none';\n",
              "\n",
              "      async function convertToInteractive(key) {\n",
              "        const element = document.querySelector('#df-77e94964-d597-4f69-a8dc-f3b510f018ef');\n",
              "        const dataTable =\n",
              "          await google.colab.kernel.invokeFunction('convertToInteractive',\n",
              "                                                    [key], {});\n",
              "        if (!dataTable) return;\n",
              "\n",
              "        const docLinkHtml = 'Like what you see? Visit the ' +\n",
              "          '<a target=\"_blank\" href=https://colab.research.google.com/notebooks/data_table.ipynb>data table notebook</a>'\n",
              "          + ' to learn more about interactive tables.';\n",
              "        element.innerHTML = '';\n",
              "        dataTable['output_type'] = 'display_data';\n",
              "        await google.colab.output.renderOutput(dataTable, element);\n",
              "        const docLink = document.createElement('div');\n",
              "        docLink.innerHTML = docLinkHtml;\n",
              "        element.appendChild(docLink);\n",
              "      }\n",
              "    </script>\n",
              "  </div>\n",
              "\n",
              "\n",
              "    <div id=\"df-4a4deac5-c06c-4490-8e96-ea1f566983b7\">\n",
              "      <button class=\"colab-df-quickchart\" onclick=\"quickchart('df-4a4deac5-c06c-4490-8e96-ea1f566983b7')\"\n",
              "                title=\"Suggest charts\"\n",
              "                style=\"display:none;\">\n",
              "\n",
              "<svg xmlns=\"http://www.w3.org/2000/svg\" height=\"24px\"viewBox=\"0 0 24 24\"\n",
              "     width=\"24px\">\n",
              "    <g>\n",
              "        <path d=\"M19 3H5c-1.1 0-2 .9-2 2v14c0 1.1.9 2 2 2h14c1.1 0 2-.9 2-2V5c0-1.1-.9-2-2-2zM9 17H7v-7h2v7zm4 0h-2V7h2v10zm4 0h-2v-4h2v4z\"/>\n",
              "    </g>\n",
              "</svg>\n",
              "      </button>\n",
              "\n",
              "<style>\n",
              "  .colab-df-quickchart {\n",
              "      --bg-color: #E8F0FE;\n",
              "      --fill-color: #1967D2;\n",
              "      --hover-bg-color: #E2EBFA;\n",
              "      --hover-fill-color: #174EA6;\n",
              "      --disabled-fill-color: #AAA;\n",
              "      --disabled-bg-color: #DDD;\n",
              "  }\n",
              "\n",
              "  [theme=dark] .colab-df-quickchart {\n",
              "      --bg-color: #3B4455;\n",
              "      --fill-color: #D2E3FC;\n",
              "      --hover-bg-color: #434B5C;\n",
              "      --hover-fill-color: #FFFFFF;\n",
              "      --disabled-bg-color: #3B4455;\n",
              "      --disabled-fill-color: #666;\n",
              "  }\n",
              "\n",
              "  .colab-df-quickchart {\n",
              "    background-color: var(--bg-color);\n",
              "    border: none;\n",
              "    border-radius: 50%;\n",
              "    cursor: pointer;\n",
              "    display: none;\n",
              "    fill: var(--fill-color);\n",
              "    height: 32px;\n",
              "    padding: 0;\n",
              "    width: 32px;\n",
              "  }\n",
              "\n",
              "  .colab-df-quickchart:hover {\n",
              "    background-color: var(--hover-bg-color);\n",
              "    box-shadow: 0 1px 2px rgba(60, 64, 67, 0.3), 0 1px 3px 1px rgba(60, 64, 67, 0.15);\n",
              "    fill: var(--button-hover-fill-color);\n",
              "  }\n",
              "\n",
              "  .colab-df-quickchart-complete:disabled,\n",
              "  .colab-df-quickchart-complete:disabled:hover {\n",
              "    background-color: var(--disabled-bg-color);\n",
              "    fill: var(--disabled-fill-color);\n",
              "    box-shadow: none;\n",
              "  }\n",
              "\n",
              "  .colab-df-spinner {\n",
              "    border: 2px solid var(--fill-color);\n",
              "    border-color: transparent;\n",
              "    border-bottom-color: var(--fill-color);\n",
              "    animation:\n",
              "      spin 1s steps(1) infinite;\n",
              "  }\n",
              "\n",
              "  @keyframes spin {\n",
              "    0% {\n",
              "      border-color: transparent;\n",
              "      border-bottom-color: var(--fill-color);\n",
              "      border-left-color: var(--fill-color);\n",
              "    }\n",
              "    20% {\n",
              "      border-color: transparent;\n",
              "      border-left-color: var(--fill-color);\n",
              "      border-top-color: var(--fill-color);\n",
              "    }\n",
              "    30% {\n",
              "      border-color: transparent;\n",
              "      border-left-color: var(--fill-color);\n",
              "      border-top-color: var(--fill-color);\n",
              "      border-right-color: var(--fill-color);\n",
              "    }\n",
              "    40% {\n",
              "      border-color: transparent;\n",
              "      border-right-color: var(--fill-color);\n",
              "      border-top-color: var(--fill-color);\n",
              "    }\n",
              "    60% {\n",
              "      border-color: transparent;\n",
              "      border-right-color: var(--fill-color);\n",
              "    }\n",
              "    80% {\n",
              "      border-color: transparent;\n",
              "      border-right-color: var(--fill-color);\n",
              "      border-bottom-color: var(--fill-color);\n",
              "    }\n",
              "    90% {\n",
              "      border-color: transparent;\n",
              "      border-bottom-color: var(--fill-color);\n",
              "    }\n",
              "  }\n",
              "</style>\n",
              "\n",
              "      <script>\n",
              "        async function quickchart(key) {\n",
              "          const quickchartButtonEl =\n",
              "            document.querySelector('#' + key + ' button');\n",
              "          quickchartButtonEl.disabled = true;  // To prevent multiple clicks.\n",
              "          quickchartButtonEl.classList.add('colab-df-spinner');\n",
              "          try {\n",
              "            const charts = await google.colab.kernel.invokeFunction(\n",
              "                'suggestCharts', [key], {});\n",
              "          } catch (error) {\n",
              "            console.error('Error during call to suggestCharts:', error);\n",
              "          }\n",
              "          quickchartButtonEl.classList.remove('colab-df-spinner');\n",
              "          quickchartButtonEl.classList.add('colab-df-quickchart-complete');\n",
              "        }\n",
              "        (() => {\n",
              "          let quickchartButtonEl =\n",
              "            document.querySelector('#df-4a4deac5-c06c-4490-8e96-ea1f566983b7 button');\n",
              "          quickchartButtonEl.style.display =\n",
              "            google.colab.kernel.accessAllowed ? 'block' : 'none';\n",
              "        })();\n",
              "      </script>\n",
              "    </div>\n",
              "\n",
              "    </div>\n",
              "  </div>\n"
            ],
            "application/vnd.google.colaboratory.intrinsic+json": {
              "type": "dataframe",
              "variable_name": "df",
              "summary": "{\n  \"name\": \"df\",\n  \"rows\": 1025,\n  \"fields\": [\n    {\n      \"column\": \"age\",\n      \"properties\": {\n        \"dtype\": \"number\",\n        \"std\": 9,\n        \"min\": 29,\n        \"max\": 77,\n        \"num_unique_values\": 41,\n        \"samples\": [\n          65,\n          50,\n          54\n        ],\n        \"semantic_type\": \"\",\n        \"description\": \"\"\n      }\n    },\n    {\n      \"column\": \"sex\",\n      \"properties\": {\n        \"dtype\": \"number\",\n        \"std\": 0,\n        \"min\": 0,\n        \"max\": 1,\n        \"num_unique_values\": 2,\n        \"samples\": [\n          0,\n          1\n        ],\n        \"semantic_type\": \"\",\n        \"description\": \"\"\n      }\n    },\n    {\n      \"column\": \"cp\",\n      \"properties\": {\n        \"dtype\": \"number\",\n        \"std\": 1,\n        \"min\": 0,\n        \"max\": 3,\n        \"num_unique_values\": 4,\n        \"samples\": [\n          1,\n          3\n        ],\n        \"semantic_type\": \"\",\n        \"description\": \"\"\n      }\n    },\n    {\n      \"column\": \"trestbps\",\n      \"properties\": {\n        \"dtype\": \"number\",\n        \"std\": 17,\n        \"min\": 94,\n        \"max\": 200,\n        \"num_unique_values\": 49,\n        \"samples\": [\n          128,\n          172\n        ],\n        \"semantic_type\": \"\",\n        \"description\": \"\"\n      }\n    },\n    {\n      \"column\": \"chol\",\n      \"properties\": {\n        \"dtype\": \"number\",\n        \"std\": 51,\n        \"min\": 126,\n        \"max\": 564,\n        \"num_unique_values\": 152,\n        \"samples\": [\n          267,\n          262\n        ],\n        \"semantic_type\": \"\",\n        \"description\": \"\"\n      }\n    },\n    {\n      \"column\": \"fbs\",\n      \"properties\": {\n        \"dtype\": \"number\",\n        \"std\": 0,\n        \"min\": 0,\n        \"max\": 1,\n        \"num_unique_values\": 2,\n        \"samples\": [\n          1,\n          0\n        ],\n        \"semantic_type\": \"\",\n        \"description\": \"\"\n      }\n    },\n    {\n      \"column\": \"restecg\",\n      \"properties\": {\n        \"dtype\": \"number\",\n        \"std\": 0,\n        \"min\": 0,\n        \"max\": 2,\n        \"num_unique_values\": 3,\n        \"samples\": [\n          1,\n          0\n        ],\n        \"semantic_type\": \"\",\n        \"description\": \"\"\n      }\n    },\n    {\n      \"column\": \"thalach\",\n      \"properties\": {\n        \"dtype\": \"number\",\n        \"std\": 23,\n        \"min\": 71,\n        \"max\": 202,\n        \"num_unique_values\": 91,\n        \"samples\": [\n          180,\n          152\n        ],\n        \"semantic_type\": \"\",\n        \"description\": \"\"\n      }\n    },\n    {\n      \"column\": \"exang\",\n      \"properties\": {\n        \"dtype\": \"number\",\n        \"std\": 0,\n        \"min\": 0,\n        \"max\": 1,\n        \"num_unique_values\": 2,\n        \"samples\": [\n          1,\n          0\n        ],\n        \"semantic_type\": \"\",\n        \"description\": \"\"\n      }\n    },\n    {\n      \"column\": \"oldpeak\",\n      \"properties\": {\n        \"dtype\": \"number\",\n        \"std\": 1.175053255150173,\n        \"min\": 0.0,\n        \"max\": 6.2,\n        \"num_unique_values\": 40,\n        \"samples\": [\n          2.8,\n          0.4\n        ],\n        \"semantic_type\": \"\",\n        \"description\": \"\"\n      }\n    },\n    {\n      \"column\": \"slope\",\n      \"properties\": {\n        \"dtype\": \"number\",\n        \"std\": 0,\n        \"min\": 0,\n        \"max\": 2,\n        \"num_unique_values\": 3,\n        \"samples\": [\n          2,\n          0\n        ],\n        \"semantic_type\": \"\",\n        \"description\": \"\"\n      }\n    },\n    {\n      \"column\": \"ca\",\n      \"properties\": {\n        \"dtype\": \"number\",\n        \"std\": 1,\n        \"min\": 0,\n        \"max\": 4,\n        \"num_unique_values\": 5,\n        \"samples\": [\n          0,\n          4\n        ],\n        \"semantic_type\": \"\",\n        \"description\": \"\"\n      }\n    },\n    {\n      \"column\": \"thal\",\n      \"properties\": {\n        \"dtype\": \"number\",\n        \"std\": 0,\n        \"min\": 0,\n        \"max\": 3,\n        \"num_unique_values\": 4,\n        \"samples\": [\n          2,\n          0\n        ],\n        \"semantic_type\": \"\",\n        \"description\": \"\"\n      }\n    },\n    {\n      \"column\": \"target\",\n      \"properties\": {\n        \"dtype\": \"number\",\n        \"std\": 0,\n        \"min\": 0,\n        \"max\": 1,\n        \"num_unique_values\": 2,\n        \"samples\": [\n          1,\n          0\n        ],\n        \"semantic_type\": \"\",\n        \"description\": \"\"\n      }\n    }\n  ]\n}"
            }
          },
          "metadata": {},
          "execution_count": 100
        }
      ]
    },
    {
      "cell_type": "code",
      "source": [
        "df.shape"
      ],
      "metadata": {
        "colab": {
          "base_uri": "https://localhost:8080/"
        },
        "id": "nfrmbbRCxoa-",
        "outputId": "d05bc12b-425b-4758-8acc-6a04dbb613de"
      },
      "execution_count": 101,
      "outputs": [
        {
          "output_type": "execute_result",
          "data": {
            "text/plain": [
              "(1025, 14)"
            ]
          },
          "metadata": {},
          "execution_count": 101
        }
      ]
    },
    {
      "cell_type": "code",
      "source": [
        "df.isnull().sum()"
      ],
      "metadata": {
        "colab": {
          "base_uri": "https://localhost:8080/",
          "height": 523
        },
        "id": "2M6ZI42UxU5R",
        "outputId": "54733a52-d3a8-476c-90e0-aec0063a4fcd"
      },
      "execution_count": 102,
      "outputs": [
        {
          "output_type": "execute_result",
          "data": {
            "text/plain": [
              "age         0\n",
              "sex         0\n",
              "cp          0\n",
              "trestbps    0\n",
              "chol        0\n",
              "fbs         0\n",
              "restecg     0\n",
              "thalach     0\n",
              "exang       0\n",
              "oldpeak     0\n",
              "slope       0\n",
              "ca          0\n",
              "thal        0\n",
              "target      0\n",
              "dtype: int64"
            ],
            "text/html": [
              "<div>\n",
              "<style scoped>\n",
              "    .dataframe tbody tr th:only-of-type {\n",
              "        vertical-align: middle;\n",
              "    }\n",
              "\n",
              "    .dataframe tbody tr th {\n",
              "        vertical-align: top;\n",
              "    }\n",
              "\n",
              "    .dataframe thead th {\n",
              "        text-align: right;\n",
              "    }\n",
              "</style>\n",
              "<table border=\"1\" class=\"dataframe\">\n",
              "  <thead>\n",
              "    <tr style=\"text-align: right;\">\n",
              "      <th></th>\n",
              "      <th>0</th>\n",
              "    </tr>\n",
              "  </thead>\n",
              "  <tbody>\n",
              "    <tr>\n",
              "      <th>age</th>\n",
              "      <td>0</td>\n",
              "    </tr>\n",
              "    <tr>\n",
              "      <th>sex</th>\n",
              "      <td>0</td>\n",
              "    </tr>\n",
              "    <tr>\n",
              "      <th>cp</th>\n",
              "      <td>0</td>\n",
              "    </tr>\n",
              "    <tr>\n",
              "      <th>trestbps</th>\n",
              "      <td>0</td>\n",
              "    </tr>\n",
              "    <tr>\n",
              "      <th>chol</th>\n",
              "      <td>0</td>\n",
              "    </tr>\n",
              "    <tr>\n",
              "      <th>fbs</th>\n",
              "      <td>0</td>\n",
              "    </tr>\n",
              "    <tr>\n",
              "      <th>restecg</th>\n",
              "      <td>0</td>\n",
              "    </tr>\n",
              "    <tr>\n",
              "      <th>thalach</th>\n",
              "      <td>0</td>\n",
              "    </tr>\n",
              "    <tr>\n",
              "      <th>exang</th>\n",
              "      <td>0</td>\n",
              "    </tr>\n",
              "    <tr>\n",
              "      <th>oldpeak</th>\n",
              "      <td>0</td>\n",
              "    </tr>\n",
              "    <tr>\n",
              "      <th>slope</th>\n",
              "      <td>0</td>\n",
              "    </tr>\n",
              "    <tr>\n",
              "      <th>ca</th>\n",
              "      <td>0</td>\n",
              "    </tr>\n",
              "    <tr>\n",
              "      <th>thal</th>\n",
              "      <td>0</td>\n",
              "    </tr>\n",
              "    <tr>\n",
              "      <th>target</th>\n",
              "      <td>0</td>\n",
              "    </tr>\n",
              "  </tbody>\n",
              "</table>\n",
              "</div><br><label><b>dtype:</b> int64</label>"
            ]
          },
          "metadata": {},
          "execution_count": 102
        }
      ]
    },
    {
      "cell_type": "code",
      "source": [
        "df.describe()"
      ],
      "metadata": {
        "colab": {
          "base_uri": "https://localhost:8080/",
          "height": 320
        },
        "id": "7UNiZA5YxdwP",
        "outputId": "e6ccece3-cb29-46de-e897-404dedd08d48"
      },
      "execution_count": 103,
      "outputs": [
        {
          "output_type": "execute_result",
          "data": {
            "text/plain": [
              "               age          sex           cp     trestbps        chol  \\\n",
              "count  1025.000000  1025.000000  1025.000000  1025.000000  1025.00000   \n",
              "mean     54.434146     0.695610     0.942439   131.611707   246.00000   \n",
              "std       9.072290     0.460373     1.029641    17.516718    51.59251   \n",
              "min      29.000000     0.000000     0.000000    94.000000   126.00000   \n",
              "25%      48.000000     0.000000     0.000000   120.000000   211.00000   \n",
              "50%      56.000000     1.000000     1.000000   130.000000   240.00000   \n",
              "75%      61.000000     1.000000     2.000000   140.000000   275.00000   \n",
              "max      77.000000     1.000000     3.000000   200.000000   564.00000   \n",
              "\n",
              "               fbs      restecg      thalach        exang      oldpeak  \\\n",
              "count  1025.000000  1025.000000  1025.000000  1025.000000  1025.000000   \n",
              "mean      0.149268     0.529756   149.114146     0.336585     1.071512   \n",
              "std       0.356527     0.527878    23.005724     0.472772     1.175053   \n",
              "min       0.000000     0.000000    71.000000     0.000000     0.000000   \n",
              "25%       0.000000     0.000000   132.000000     0.000000     0.000000   \n",
              "50%       0.000000     1.000000   152.000000     0.000000     0.800000   \n",
              "75%       0.000000     1.000000   166.000000     1.000000     1.800000   \n",
              "max       1.000000     2.000000   202.000000     1.000000     6.200000   \n",
              "\n",
              "             slope           ca         thal       target  \n",
              "count  1025.000000  1025.000000  1025.000000  1025.000000  \n",
              "mean      1.385366     0.754146     2.323902     0.513171  \n",
              "std       0.617755     1.030798     0.620660     0.500070  \n",
              "min       0.000000     0.000000     0.000000     0.000000  \n",
              "25%       1.000000     0.000000     2.000000     0.000000  \n",
              "50%       1.000000     0.000000     2.000000     1.000000  \n",
              "75%       2.000000     1.000000     3.000000     1.000000  \n",
              "max       2.000000     4.000000     3.000000     1.000000  "
            ],
            "text/html": [
              "\n",
              "  <div id=\"df-fea90504-8ac8-4bf3-a2a7-81c2e2815c0a\" class=\"colab-df-container\">\n",
              "    <div>\n",
              "<style scoped>\n",
              "    .dataframe tbody tr th:only-of-type {\n",
              "        vertical-align: middle;\n",
              "    }\n",
              "\n",
              "    .dataframe tbody tr th {\n",
              "        vertical-align: top;\n",
              "    }\n",
              "\n",
              "    .dataframe thead th {\n",
              "        text-align: right;\n",
              "    }\n",
              "</style>\n",
              "<table border=\"1\" class=\"dataframe\">\n",
              "  <thead>\n",
              "    <tr style=\"text-align: right;\">\n",
              "      <th></th>\n",
              "      <th>age</th>\n",
              "      <th>sex</th>\n",
              "      <th>cp</th>\n",
              "      <th>trestbps</th>\n",
              "      <th>chol</th>\n",
              "      <th>fbs</th>\n",
              "      <th>restecg</th>\n",
              "      <th>thalach</th>\n",
              "      <th>exang</th>\n",
              "      <th>oldpeak</th>\n",
              "      <th>slope</th>\n",
              "      <th>ca</th>\n",
              "      <th>thal</th>\n",
              "      <th>target</th>\n",
              "    </tr>\n",
              "  </thead>\n",
              "  <tbody>\n",
              "    <tr>\n",
              "      <th>count</th>\n",
              "      <td>1025.000000</td>\n",
              "      <td>1025.000000</td>\n",
              "      <td>1025.000000</td>\n",
              "      <td>1025.000000</td>\n",
              "      <td>1025.00000</td>\n",
              "      <td>1025.000000</td>\n",
              "      <td>1025.000000</td>\n",
              "      <td>1025.000000</td>\n",
              "      <td>1025.000000</td>\n",
              "      <td>1025.000000</td>\n",
              "      <td>1025.000000</td>\n",
              "      <td>1025.000000</td>\n",
              "      <td>1025.000000</td>\n",
              "      <td>1025.000000</td>\n",
              "    </tr>\n",
              "    <tr>\n",
              "      <th>mean</th>\n",
              "      <td>54.434146</td>\n",
              "      <td>0.695610</td>\n",
              "      <td>0.942439</td>\n",
              "      <td>131.611707</td>\n",
              "      <td>246.00000</td>\n",
              "      <td>0.149268</td>\n",
              "      <td>0.529756</td>\n",
              "      <td>149.114146</td>\n",
              "      <td>0.336585</td>\n",
              "      <td>1.071512</td>\n",
              "      <td>1.385366</td>\n",
              "      <td>0.754146</td>\n",
              "      <td>2.323902</td>\n",
              "      <td>0.513171</td>\n",
              "    </tr>\n",
              "    <tr>\n",
              "      <th>std</th>\n",
              "      <td>9.072290</td>\n",
              "      <td>0.460373</td>\n",
              "      <td>1.029641</td>\n",
              "      <td>17.516718</td>\n",
              "      <td>51.59251</td>\n",
              "      <td>0.356527</td>\n",
              "      <td>0.527878</td>\n",
              "      <td>23.005724</td>\n",
              "      <td>0.472772</td>\n",
              "      <td>1.175053</td>\n",
              "      <td>0.617755</td>\n",
              "      <td>1.030798</td>\n",
              "      <td>0.620660</td>\n",
              "      <td>0.500070</td>\n",
              "    </tr>\n",
              "    <tr>\n",
              "      <th>min</th>\n",
              "      <td>29.000000</td>\n",
              "      <td>0.000000</td>\n",
              "      <td>0.000000</td>\n",
              "      <td>94.000000</td>\n",
              "      <td>126.00000</td>\n",
              "      <td>0.000000</td>\n",
              "      <td>0.000000</td>\n",
              "      <td>71.000000</td>\n",
              "      <td>0.000000</td>\n",
              "      <td>0.000000</td>\n",
              "      <td>0.000000</td>\n",
              "      <td>0.000000</td>\n",
              "      <td>0.000000</td>\n",
              "      <td>0.000000</td>\n",
              "    </tr>\n",
              "    <tr>\n",
              "      <th>25%</th>\n",
              "      <td>48.000000</td>\n",
              "      <td>0.000000</td>\n",
              "      <td>0.000000</td>\n",
              "      <td>120.000000</td>\n",
              "      <td>211.00000</td>\n",
              "      <td>0.000000</td>\n",
              "      <td>0.000000</td>\n",
              "      <td>132.000000</td>\n",
              "      <td>0.000000</td>\n",
              "      <td>0.000000</td>\n",
              "      <td>1.000000</td>\n",
              "      <td>0.000000</td>\n",
              "      <td>2.000000</td>\n",
              "      <td>0.000000</td>\n",
              "    </tr>\n",
              "    <tr>\n",
              "      <th>50%</th>\n",
              "      <td>56.000000</td>\n",
              "      <td>1.000000</td>\n",
              "      <td>1.000000</td>\n",
              "      <td>130.000000</td>\n",
              "      <td>240.00000</td>\n",
              "      <td>0.000000</td>\n",
              "      <td>1.000000</td>\n",
              "      <td>152.000000</td>\n",
              "      <td>0.000000</td>\n",
              "      <td>0.800000</td>\n",
              "      <td>1.000000</td>\n",
              "      <td>0.000000</td>\n",
              "      <td>2.000000</td>\n",
              "      <td>1.000000</td>\n",
              "    </tr>\n",
              "    <tr>\n",
              "      <th>75%</th>\n",
              "      <td>61.000000</td>\n",
              "      <td>1.000000</td>\n",
              "      <td>2.000000</td>\n",
              "      <td>140.000000</td>\n",
              "      <td>275.00000</td>\n",
              "      <td>0.000000</td>\n",
              "      <td>1.000000</td>\n",
              "      <td>166.000000</td>\n",
              "      <td>1.000000</td>\n",
              "      <td>1.800000</td>\n",
              "      <td>2.000000</td>\n",
              "      <td>1.000000</td>\n",
              "      <td>3.000000</td>\n",
              "      <td>1.000000</td>\n",
              "    </tr>\n",
              "    <tr>\n",
              "      <th>max</th>\n",
              "      <td>77.000000</td>\n",
              "      <td>1.000000</td>\n",
              "      <td>3.000000</td>\n",
              "      <td>200.000000</td>\n",
              "      <td>564.00000</td>\n",
              "      <td>1.000000</td>\n",
              "      <td>2.000000</td>\n",
              "      <td>202.000000</td>\n",
              "      <td>1.000000</td>\n",
              "      <td>6.200000</td>\n",
              "      <td>2.000000</td>\n",
              "      <td>4.000000</td>\n",
              "      <td>3.000000</td>\n",
              "      <td>1.000000</td>\n",
              "    </tr>\n",
              "  </tbody>\n",
              "</table>\n",
              "</div>\n",
              "    <div class=\"colab-df-buttons\">\n",
              "\n",
              "  <div class=\"colab-df-container\">\n",
              "    <button class=\"colab-df-convert\" onclick=\"convertToInteractive('df-fea90504-8ac8-4bf3-a2a7-81c2e2815c0a')\"\n",
              "            title=\"Convert this dataframe to an interactive table.\"\n",
              "            style=\"display:none;\">\n",
              "\n",
              "  <svg xmlns=\"http://www.w3.org/2000/svg\" height=\"24px\" viewBox=\"0 -960 960 960\">\n",
              "    <path d=\"M120-120v-720h720v720H120Zm60-500h600v-160H180v160Zm220 220h160v-160H400v160Zm0 220h160v-160H400v160ZM180-400h160v-160H180v160Zm440 0h160v-160H620v160ZM180-180h160v-160H180v160Zm440 0h160v-160H620v160Z\"/>\n",
              "  </svg>\n",
              "    </button>\n",
              "\n",
              "  <style>\n",
              "    .colab-df-container {\n",
              "      display:flex;\n",
              "      gap: 12px;\n",
              "    }\n",
              "\n",
              "    .colab-df-convert {\n",
              "      background-color: #E8F0FE;\n",
              "      border: none;\n",
              "      border-radius: 50%;\n",
              "      cursor: pointer;\n",
              "      display: none;\n",
              "      fill: #1967D2;\n",
              "      height: 32px;\n",
              "      padding: 0 0 0 0;\n",
              "      width: 32px;\n",
              "    }\n",
              "\n",
              "    .colab-df-convert:hover {\n",
              "      background-color: #E2EBFA;\n",
              "      box-shadow: 0px 1px 2px rgba(60, 64, 67, 0.3), 0px 1px 3px 1px rgba(60, 64, 67, 0.15);\n",
              "      fill: #174EA6;\n",
              "    }\n",
              "\n",
              "    .colab-df-buttons div {\n",
              "      margin-bottom: 4px;\n",
              "    }\n",
              "\n",
              "    [theme=dark] .colab-df-convert {\n",
              "      background-color: #3B4455;\n",
              "      fill: #D2E3FC;\n",
              "    }\n",
              "\n",
              "    [theme=dark] .colab-df-convert:hover {\n",
              "      background-color: #434B5C;\n",
              "      box-shadow: 0px 1px 3px 1px rgba(0, 0, 0, 0.15);\n",
              "      filter: drop-shadow(0px 1px 2px rgba(0, 0, 0, 0.3));\n",
              "      fill: #FFFFFF;\n",
              "    }\n",
              "  </style>\n",
              "\n",
              "    <script>\n",
              "      const buttonEl =\n",
              "        document.querySelector('#df-fea90504-8ac8-4bf3-a2a7-81c2e2815c0a button.colab-df-convert');\n",
              "      buttonEl.style.display =\n",
              "        google.colab.kernel.accessAllowed ? 'block' : 'none';\n",
              "\n",
              "      async function convertToInteractive(key) {\n",
              "        const element = document.querySelector('#df-fea90504-8ac8-4bf3-a2a7-81c2e2815c0a');\n",
              "        const dataTable =\n",
              "          await google.colab.kernel.invokeFunction('convertToInteractive',\n",
              "                                                    [key], {});\n",
              "        if (!dataTable) return;\n",
              "\n",
              "        const docLinkHtml = 'Like what you see? Visit the ' +\n",
              "          '<a target=\"_blank\" href=https://colab.research.google.com/notebooks/data_table.ipynb>data table notebook</a>'\n",
              "          + ' to learn more about interactive tables.';\n",
              "        element.innerHTML = '';\n",
              "        dataTable['output_type'] = 'display_data';\n",
              "        await google.colab.output.renderOutput(dataTable, element);\n",
              "        const docLink = document.createElement('div');\n",
              "        docLink.innerHTML = docLinkHtml;\n",
              "        element.appendChild(docLink);\n",
              "      }\n",
              "    </script>\n",
              "  </div>\n",
              "\n",
              "\n",
              "    <div id=\"df-372cde9b-1976-42c1-b75d-43c26a323201\">\n",
              "      <button class=\"colab-df-quickchart\" onclick=\"quickchart('df-372cde9b-1976-42c1-b75d-43c26a323201')\"\n",
              "                title=\"Suggest charts\"\n",
              "                style=\"display:none;\">\n",
              "\n",
              "<svg xmlns=\"http://www.w3.org/2000/svg\" height=\"24px\"viewBox=\"0 0 24 24\"\n",
              "     width=\"24px\">\n",
              "    <g>\n",
              "        <path d=\"M19 3H5c-1.1 0-2 .9-2 2v14c0 1.1.9 2 2 2h14c1.1 0 2-.9 2-2V5c0-1.1-.9-2-2-2zM9 17H7v-7h2v7zm4 0h-2V7h2v10zm4 0h-2v-4h2v4z\"/>\n",
              "    </g>\n",
              "</svg>\n",
              "      </button>\n",
              "\n",
              "<style>\n",
              "  .colab-df-quickchart {\n",
              "      --bg-color: #E8F0FE;\n",
              "      --fill-color: #1967D2;\n",
              "      --hover-bg-color: #E2EBFA;\n",
              "      --hover-fill-color: #174EA6;\n",
              "      --disabled-fill-color: #AAA;\n",
              "      --disabled-bg-color: #DDD;\n",
              "  }\n",
              "\n",
              "  [theme=dark] .colab-df-quickchart {\n",
              "      --bg-color: #3B4455;\n",
              "      --fill-color: #D2E3FC;\n",
              "      --hover-bg-color: #434B5C;\n",
              "      --hover-fill-color: #FFFFFF;\n",
              "      --disabled-bg-color: #3B4455;\n",
              "      --disabled-fill-color: #666;\n",
              "  }\n",
              "\n",
              "  .colab-df-quickchart {\n",
              "    background-color: var(--bg-color);\n",
              "    border: none;\n",
              "    border-radius: 50%;\n",
              "    cursor: pointer;\n",
              "    display: none;\n",
              "    fill: var(--fill-color);\n",
              "    height: 32px;\n",
              "    padding: 0;\n",
              "    width: 32px;\n",
              "  }\n",
              "\n",
              "  .colab-df-quickchart:hover {\n",
              "    background-color: var(--hover-bg-color);\n",
              "    box-shadow: 0 1px 2px rgba(60, 64, 67, 0.3), 0 1px 3px 1px rgba(60, 64, 67, 0.15);\n",
              "    fill: var(--button-hover-fill-color);\n",
              "  }\n",
              "\n",
              "  .colab-df-quickchart-complete:disabled,\n",
              "  .colab-df-quickchart-complete:disabled:hover {\n",
              "    background-color: var(--disabled-bg-color);\n",
              "    fill: var(--disabled-fill-color);\n",
              "    box-shadow: none;\n",
              "  }\n",
              "\n",
              "  .colab-df-spinner {\n",
              "    border: 2px solid var(--fill-color);\n",
              "    border-color: transparent;\n",
              "    border-bottom-color: var(--fill-color);\n",
              "    animation:\n",
              "      spin 1s steps(1) infinite;\n",
              "  }\n",
              "\n",
              "  @keyframes spin {\n",
              "    0% {\n",
              "      border-color: transparent;\n",
              "      border-bottom-color: var(--fill-color);\n",
              "      border-left-color: var(--fill-color);\n",
              "    }\n",
              "    20% {\n",
              "      border-color: transparent;\n",
              "      border-left-color: var(--fill-color);\n",
              "      border-top-color: var(--fill-color);\n",
              "    }\n",
              "    30% {\n",
              "      border-color: transparent;\n",
              "      border-left-color: var(--fill-color);\n",
              "      border-top-color: var(--fill-color);\n",
              "      border-right-color: var(--fill-color);\n",
              "    }\n",
              "    40% {\n",
              "      border-color: transparent;\n",
              "      border-right-color: var(--fill-color);\n",
              "      border-top-color: var(--fill-color);\n",
              "    }\n",
              "    60% {\n",
              "      border-color: transparent;\n",
              "      border-right-color: var(--fill-color);\n",
              "    }\n",
              "    80% {\n",
              "      border-color: transparent;\n",
              "      border-right-color: var(--fill-color);\n",
              "      border-bottom-color: var(--fill-color);\n",
              "    }\n",
              "    90% {\n",
              "      border-color: transparent;\n",
              "      border-bottom-color: var(--fill-color);\n",
              "    }\n",
              "  }\n",
              "</style>\n",
              "\n",
              "      <script>\n",
              "        async function quickchart(key) {\n",
              "          const quickchartButtonEl =\n",
              "            document.querySelector('#' + key + ' button');\n",
              "          quickchartButtonEl.disabled = true;  // To prevent multiple clicks.\n",
              "          quickchartButtonEl.classList.add('colab-df-spinner');\n",
              "          try {\n",
              "            const charts = await google.colab.kernel.invokeFunction(\n",
              "                'suggestCharts', [key], {});\n",
              "          } catch (error) {\n",
              "            console.error('Error during call to suggestCharts:', error);\n",
              "          }\n",
              "          quickchartButtonEl.classList.remove('colab-df-spinner');\n",
              "          quickchartButtonEl.classList.add('colab-df-quickchart-complete');\n",
              "        }\n",
              "        (() => {\n",
              "          let quickchartButtonEl =\n",
              "            document.querySelector('#df-372cde9b-1976-42c1-b75d-43c26a323201 button');\n",
              "          quickchartButtonEl.style.display =\n",
              "            google.colab.kernel.accessAllowed ? 'block' : 'none';\n",
              "        })();\n",
              "      </script>\n",
              "    </div>\n",
              "\n",
              "    </div>\n",
              "  </div>\n"
            ],
            "application/vnd.google.colaboratory.intrinsic+json": {
              "type": "dataframe",
              "summary": "{\n  \"name\": \"df\",\n  \"rows\": 8,\n  \"fields\": [\n    {\n      \"column\": \"age\",\n      \"properties\": {\n        \"dtype\": \"number\",\n        \"std\": 346.1150023272597,\n        \"min\": 9.072290233244281,\n        \"max\": 1025.0,\n        \"num_unique_values\": 8,\n        \"samples\": [\n          54.43414634146342,\n          56.0,\n          1025.0\n        ],\n        \"semantic_type\": \"\",\n        \"description\": \"\"\n      }\n    },\n    {\n      \"column\": \"sex\",\n      \"properties\": {\n        \"dtype\": \"number\",\n        \"std\": 362.1825587675373,\n        \"min\": 0.0,\n        \"max\": 1025.0,\n        \"num_unique_values\": 5,\n        \"samples\": [\n          0.6956097560975609,\n          1.0,\n          0.4603733241196503\n        ],\n        \"semantic_type\": \"\",\n        \"description\": \"\"\n      }\n    },\n    {\n      \"column\": \"cp\",\n      \"properties\": {\n        \"dtype\": \"number\",\n        \"std\": 361.9909299680307,\n        \"min\": 0.0,\n        \"max\": 1025.0,\n        \"num_unique_values\": 7,\n        \"samples\": [\n          1025.0,\n          0.9424390243902439,\n          2.0\n        ],\n        \"semantic_type\": \"\",\n        \"description\": \"\"\n      }\n    },\n    {\n      \"column\": \"trestbps\",\n      \"properties\": {\n        \"dtype\": \"number\",\n        \"std\": 324.3475475669103,\n        \"min\": 17.516718005376408,\n        \"max\": 1025.0,\n        \"num_unique_values\": 8,\n        \"samples\": [\n          131.61170731707318,\n          130.0,\n          1025.0\n        ],\n        \"semantic_type\": \"\",\n        \"description\": \"\"\n      }\n    },\n    {\n      \"column\": \"chol\",\n      \"properties\": {\n        \"dtype\": \"number\",\n        \"std\": 313.5134241805058,\n        \"min\": 51.59251020618206,\n        \"max\": 1025.0,\n        \"num_unique_values\": 8,\n        \"samples\": [\n          246.0,\n          240.0,\n          1025.0\n        ],\n        \"semantic_type\": \"\",\n        \"description\": \"\"\n      }\n    },\n    {\n      \"column\": \"fbs\",\n      \"properties\": {\n        \"dtype\": \"number\",\n        \"std\": 362.3163339641884,\n        \"min\": 0.0,\n        \"max\": 1025.0,\n        \"num_unique_values\": 5,\n        \"samples\": [\n          0.14926829268292682,\n          1.0,\n          0.3565266897271594\n        ],\n        \"semantic_type\": \"\",\n        \"description\": \"\"\n      }\n    },\n    {\n      \"column\": \"restecg\",\n      \"properties\": {\n        \"dtype\": \"number\",\n        \"std\": 362.1373492815066,\n        \"min\": 0.0,\n        \"max\": 1025.0,\n        \"num_unique_values\": 6,\n        \"samples\": [\n          1025.0,\n          0.5297560975609756,\n          2.0\n        ],\n        \"semantic_type\": \"\",\n        \"description\": \"\"\n      }\n    },\n    {\n      \"column\": \"thalach\",\n      \"properties\": {\n        \"dtype\": \"number\",\n        \"std\": 322.1492006877167,\n        \"min\": 23.005723745977196,\n        \"max\": 1025.0,\n        \"num_unique_values\": 8,\n        \"samples\": [\n          149.11414634146342,\n          152.0,\n          1025.0\n        ],\n        \"semantic_type\": \"\",\n        \"description\": \"\"\n      }\n    },\n    {\n      \"column\": \"exang\",\n      \"properties\": {\n        \"dtype\": \"number\",\n        \"std\": 362.2505698153287,\n        \"min\": 0.0,\n        \"max\": 1025.0,\n        \"num_unique_values\": 5,\n        \"samples\": [\n          0.33658536585365856,\n          1.0,\n          0.4727723760037095\n        ],\n        \"semantic_type\": \"\",\n        \"description\": \"\"\n      }\n    },\n    {\n      \"column\": \"oldpeak\",\n      \"properties\": {\n        \"dtype\": \"number\",\n        \"std\": 361.83970171608024,\n        \"min\": 0.0,\n        \"max\": 1025.0,\n        \"num_unique_values\": 7,\n        \"samples\": [\n          1025.0,\n          1.0715121951219515,\n          1.8\n        ],\n        \"semantic_type\": \"\",\n        \"description\": \"\"\n      }\n    },\n    {\n      \"column\": \"slope\",\n      \"properties\": {\n        \"dtype\": \"number\",\n        \"std\": 361.9886284380937,\n        \"min\": 0.0,\n        \"max\": 1025.0,\n        \"num_unique_values\": 6,\n        \"samples\": [\n          1025.0,\n          1.3853658536585365,\n          2.0\n        ],\n        \"semantic_type\": \"\",\n        \"description\": \"\"\n      }\n    },\n    {\n      \"column\": \"ca\",\n      \"properties\": {\n        \"dtype\": \"number\",\n        \"std\": 362.05191221025626,\n        \"min\": 0.0,\n        \"max\": 1025.0,\n        \"num_unique_values\": 6,\n        \"samples\": [\n          1025.0,\n          0.7541463414634146,\n          4.0\n        ],\n        \"semantic_type\": \"\",\n        \"description\": \"\"\n      }\n    },\n    {\n      \"column\": \"thal\",\n      \"properties\": {\n        \"dtype\": \"number\",\n        \"std\": 361.7399759382844,\n        \"min\": 0.0,\n        \"max\": 1025.0,\n        \"num_unique_values\": 6,\n        \"samples\": [\n          1025.0,\n          2.32390243902439,\n          3.0\n        ],\n        \"semantic_type\": \"\",\n        \"description\": \"\"\n      }\n    },\n    {\n      \"column\": \"target\",\n      \"properties\": {\n        \"dtype\": \"number\",\n        \"std\": 362.1897651954653,\n        \"min\": 0.0,\n        \"max\": 1025.0,\n        \"num_unique_values\": 5,\n        \"samples\": [\n          0.5131707317073171,\n          1.0,\n          0.5000704980788051\n        ],\n        \"semantic_type\": \"\",\n        \"description\": \"\"\n      }\n    }\n  ]\n}"
            }
          },
          "metadata": {},
          "execution_count": 103
        }
      ]
    },
    {
      "cell_type": "code",
      "source": [
        "df.info()"
      ],
      "metadata": {
        "colab": {
          "base_uri": "https://localhost:8080/"
        },
        "id": "oJwQDs61xkZf",
        "outputId": "c2752473-1213-4484-fdbf-6fbc81f318ce"
      },
      "execution_count": 104,
      "outputs": [
        {
          "output_type": "stream",
          "name": "stdout",
          "text": [
            "<class 'pandas.core.frame.DataFrame'>\n",
            "RangeIndex: 1025 entries, 0 to 1024\n",
            "Data columns (total 14 columns):\n",
            " #   Column    Non-Null Count  Dtype  \n",
            "---  ------    --------------  -----  \n",
            " 0   age       1025 non-null   int64  \n",
            " 1   sex       1025 non-null   int64  \n",
            " 2   cp        1025 non-null   int64  \n",
            " 3   trestbps  1025 non-null   int64  \n",
            " 4   chol      1025 non-null   int64  \n",
            " 5   fbs       1025 non-null   int64  \n",
            " 6   restecg   1025 non-null   int64  \n",
            " 7   thalach   1025 non-null   int64  \n",
            " 8   exang     1025 non-null   int64  \n",
            " 9   oldpeak   1025 non-null   float64\n",
            " 10  slope     1025 non-null   int64  \n",
            " 11  ca        1025 non-null   int64  \n",
            " 12  thal      1025 non-null   int64  \n",
            " 13  target    1025 non-null   int64  \n",
            "dtypes: float64(1), int64(13)\n",
            "memory usage: 112.2 KB\n"
          ]
        }
      ]
    },
    {
      "cell_type": "code",
      "source": [
        "X = df.drop(\"target\", axis=1)\n",
        "y = df[\"target\"]\n",
        "\n",
        "# Train-test split\n",
        "X_train, X_test, y_train, y_test = train_test_split(X, y, test_size=0.2, random_state=42)"
      ],
      "metadata": {
        "id": "TfKRRfgzrKkn"
      },
      "execution_count": 105,
      "outputs": []
    },
    {
      "cell_type": "code",
      "source": [
        "# Train model\n",
        "dt = DecisionTreeClassifier(random_state=42)\n",
        "dt.fit(X_train, y_train)\n",
        "\n",
        "# Evaluate\n",
        "print(\"Training Accuracy:\", dt.score(X_train, y_train))\n",
        "print(\"Test Accuracy:\", dt.score(X_test, y_test))"
      ],
      "metadata": {
        "colab": {
          "base_uri": "https://localhost:8080/"
        },
        "id": "tUNZDSqzrOTe",
        "outputId": "91730fbc-8131-4a63-f42b-f932eb334993"
      },
      "execution_count": 106,
      "outputs": [
        {
          "output_type": "stream",
          "name": "stdout",
          "text": [
            "Training Accuracy: 1.0\n",
            "Test Accuracy: 0.9853658536585366\n"
          ]
        }
      ]
    },
    {
      "cell_type": "code",
      "source": [
        "dot_data = export_graphviz(dt, out_file=None,\n",
        "                           feature_names=X.columns,\n",
        "                           class_names=['No', 'Yes'],\n",
        "                           filled=True, rounded=True,\n",
        "                           special_characters=True)\n",
        "graph = graphviz.Source(dot_data)\n",
        "graph.render(\"decision_tree\")  # saves as decision_tree.pdf\n",
        "graph"
      ],
      "metadata": {
        "colab": {
          "base_uri": "https://localhost:8080/",
          "height": 1000
        },
        "id": "8eFevfutrRub",
        "outputId": "f67ad82c-7d07-4a83-d8b6-4b95c6a0e9d9"
      },
      "execution_count": 107,
      "outputs": [
        {
          "output_type": "execute_result",
          "data": {
            "image/svg+xml": "<?xml version=\"1.0\" encoding=\"UTF-8\" standalone=\"no\"?>\n<!DOCTYPE svg PUBLIC \"-//W3C//DTD SVG 1.1//EN\"\n \"http://www.w3.org/Graphics/SVG/1.1/DTD/svg11.dtd\">\n<!-- Generated by graphviz version 2.43.0 (0)\n -->\n<!-- Title: Tree Pages: 1 -->\n<svg width=\"2822pt\" height=\"1266pt\"\n viewBox=\"0.00 0.00 2822.00 1266.00\" xmlns=\"http://www.w3.org/2000/svg\" xmlns:xlink=\"http://www.w3.org/1999/xlink\">\n<g id=\"graph0\" class=\"graph\" transform=\"scale(1 1) rotate(0) translate(4 1262)\">\n<title>Tree</title>\n<polygon fill=\"white\" stroke=\"transparent\" points=\"-4,4 -4,-1262 2818,-1262 2818,4 -4,4\"/>\n<!-- 0 -->\n<g id=\"node1\" class=\"node\">\n<title>0</title>\n<path fill=\"#f3f9fd\" stroke=\"black\" d=\"M1588.5,-1258C1588.5,-1258 1487.5,-1258 1487.5,-1258 1481.5,-1258 1475.5,-1252 1475.5,-1246 1475.5,-1246 1475.5,-1187 1475.5,-1187 1475.5,-1181 1481.5,-1175 1487.5,-1175 1487.5,-1175 1588.5,-1175 1588.5,-1175 1594.5,-1175 1600.5,-1181 1600.5,-1187 1600.5,-1187 1600.5,-1246 1600.5,-1246 1600.5,-1252 1594.5,-1258 1588.5,-1258\"/>\n<text text-anchor=\"start\" x=\"1513.5\" y=\"-1242.8\" font-family=\"Helvetica,sans-Serif\" font-size=\"14.00\">cp ≤ 0.5</text>\n<text text-anchor=\"start\" x=\"1502.5\" y=\"-1227.8\" font-family=\"Helvetica,sans-Serif\" font-size=\"14.00\">gini = 0.499</text>\n<text text-anchor=\"start\" x=\"1493\" y=\"-1212.8\" font-family=\"Helvetica,sans-Serif\" font-size=\"14.00\">samples = 820</text>\n<text text-anchor=\"start\" x=\"1483.5\" y=\"-1197.8\" font-family=\"Helvetica,sans-Serif\" font-size=\"14.00\">value = [397, 423]</text>\n<text text-anchor=\"start\" x=\"1503\" y=\"-1182.8\" font-family=\"Helvetica,sans-Serif\" font-size=\"14.00\">class = Yes</text>\n</g>\n<!-- 1 -->\n<g id=\"node2\" class=\"node\">\n<title>1</title>\n<path fill=\"#edaa7a\" stroke=\"black\" d=\"M1208.5,-1139C1208.5,-1139 1115.5,-1139 1115.5,-1139 1109.5,-1139 1103.5,-1133 1103.5,-1127 1103.5,-1127 1103.5,-1068 1103.5,-1068 1103.5,-1062 1109.5,-1056 1115.5,-1056 1115.5,-1056 1208.5,-1056 1208.5,-1056 1214.5,-1056 1220.5,-1062 1220.5,-1068 1220.5,-1068 1220.5,-1127 1220.5,-1127 1220.5,-1133 1214.5,-1139 1208.5,-1139\"/>\n<text text-anchor=\"start\" x=\"1137.5\" y=\"-1123.8\" font-family=\"Helvetica,sans-Serif\" font-size=\"14.00\">ca ≤ 0.5</text>\n<text text-anchor=\"start\" x=\"1126.5\" y=\"-1108.8\" font-family=\"Helvetica,sans-Serif\" font-size=\"14.00\">gini = 0.371</text>\n<text text-anchor=\"start\" x=\"1117\" y=\"-1093.8\" font-family=\"Helvetica,sans-Serif\" font-size=\"14.00\">samples = 398</text>\n<text text-anchor=\"start\" x=\"1111.5\" y=\"-1078.8\" font-family=\"Helvetica,sans-Serif\" font-size=\"14.00\">value = [300, 98]</text>\n<text text-anchor=\"start\" x=\"1130\" y=\"-1063.8\" font-family=\"Helvetica,sans-Serif\" font-size=\"14.00\">class = No</text>\n</g>\n<!-- 0&#45;&gt;1 -->\n<g id=\"edge1\" class=\"edge\">\n<title>0&#45;&gt;1</title>\n<path fill=\"none\" stroke=\"black\" d=\"M1475.49,-1196.05C1407.78,-1174.98 1300.1,-1141.47 1230.23,-1119.73\"/>\n<polygon fill=\"black\" stroke=\"black\" points=\"1231.22,-1116.37 1220.63,-1116.74 1229.14,-1123.06 1231.22,-1116.37\"/>\n<text text-anchor=\"middle\" x=\"1232.26\" y=\"-1135.18\" font-family=\"Helvetica,sans-Serif\" font-size=\"14.00\">True</text>\n</g>\n<!-- 38 -->\n<g id=\"node39\" class=\"node\">\n<title>38</title>\n<path fill=\"#74baed\" stroke=\"black\" d=\"M1826.5,-1139C1826.5,-1139 1733.5,-1139 1733.5,-1139 1727.5,-1139 1721.5,-1133 1721.5,-1127 1721.5,-1127 1721.5,-1068 1721.5,-1068 1721.5,-1062 1727.5,-1056 1733.5,-1056 1733.5,-1056 1826.5,-1056 1826.5,-1056 1832.5,-1056 1838.5,-1062 1838.5,-1068 1838.5,-1068 1838.5,-1127 1838.5,-1127 1838.5,-1133 1832.5,-1139 1826.5,-1139\"/>\n<text text-anchor=\"start\" x=\"1752\" y=\"-1123.8\" font-family=\"Helvetica,sans-Serif\" font-size=\"14.00\">thal ≤ 2.5</text>\n<text text-anchor=\"start\" x=\"1744.5\" y=\"-1108.8\" font-family=\"Helvetica,sans-Serif\" font-size=\"14.00\">gini = 0.354</text>\n<text text-anchor=\"start\" x=\"1735\" y=\"-1093.8\" font-family=\"Helvetica,sans-Serif\" font-size=\"14.00\">samples = 422</text>\n<text text-anchor=\"start\" x=\"1729.5\" y=\"-1078.8\" font-family=\"Helvetica,sans-Serif\" font-size=\"14.00\">value = [97, 325]</text>\n<text text-anchor=\"start\" x=\"1745\" y=\"-1063.8\" font-family=\"Helvetica,sans-Serif\" font-size=\"14.00\">class = Yes</text>\n</g>\n<!-- 0&#45;&gt;38 -->\n<g id=\"edge38\" class=\"edge\">\n<title>0&#45;&gt;38</title>\n<path fill=\"none\" stroke=\"black\" d=\"M1600.64,-1185.22C1634.83,-1168.68 1677.21,-1148.2 1712.18,-1131.29\"/>\n<polygon fill=\"black\" stroke=\"black\" points=\"1713.89,-1134.35 1721.37,-1126.85 1710.84,-1128.05 1713.89,-1134.35\"/>\n<text text-anchor=\"middle\" x=\"1713.15\" y=\"-1146.76\" font-family=\"Helvetica,sans-Serif\" font-size=\"14.00\">False</text>\n</g>\n<!-- 2 -->\n<g id=\"node3\" class=\"node\">\n<title>2</title>\n<path fill=\"#f8fcfe\" stroke=\"black\" d=\"M853,-1020C853,-1020 767,-1020 767,-1020 761,-1020 755,-1014 755,-1008 755,-1008 755,-949 755,-949 755,-943 761,-937 767,-937 767,-937 853,-937 853,-937 859,-937 865,-943 865,-949 865,-949 865,-1008 865,-1008 865,-1014 859,-1020 853,-1020\"/>\n<text text-anchor=\"start\" x=\"782\" y=\"-1004.8\" font-family=\"Helvetica,sans-Serif\" font-size=\"14.00\">thal ≤ 2.5</text>\n<text text-anchor=\"start\" x=\"782\" y=\"-989.8\" font-family=\"Helvetica,sans-Serif\" font-size=\"14.00\">gini = 0.5</text>\n<text text-anchor=\"start\" x=\"765\" y=\"-974.8\" font-family=\"Helvetica,sans-Serif\" font-size=\"14.00\">samples = 177</text>\n<text text-anchor=\"start\" x=\"763\" y=\"-959.8\" font-family=\"Helvetica,sans-Serif\" font-size=\"14.00\">value = [87, 90]</text>\n<text text-anchor=\"start\" x=\"775\" y=\"-944.8\" font-family=\"Helvetica,sans-Serif\" font-size=\"14.00\">class = Yes</text>\n</g>\n<!-- 1&#45;&gt;2 -->\n<g id=\"edge2\" class=\"edge\">\n<title>1&#45;&gt;2</title>\n<path fill=\"none\" stroke=\"black\" d=\"M1103.48,-1077.05C1040.44,-1056.1 940.4,-1022.84 874.97,-1001.1\"/>\n<polygon fill=\"black\" stroke=\"black\" points=\"875.77,-997.67 865.18,-997.84 873.56,-1004.32 875.77,-997.67\"/>\n</g>\n<!-- 27 -->\n<g id=\"node28\" class=\"node\">\n<title>27</title>\n<path fill=\"#e68640\" stroke=\"black\" d=\"M1206.5,-1020C1206.5,-1020 1117.5,-1020 1117.5,-1020 1111.5,-1020 1105.5,-1014 1105.5,-1008 1105.5,-1008 1105.5,-949 1105.5,-949 1105.5,-943 1111.5,-937 1117.5,-937 1117.5,-937 1206.5,-937 1206.5,-937 1212.5,-937 1218.5,-943 1218.5,-949 1218.5,-949 1218.5,-1008 1218.5,-1008 1218.5,-1014 1212.5,-1020 1206.5,-1020\"/>\n<text text-anchor=\"start\" x=\"1113.5\" y=\"-1004.8\" font-family=\"Helvetica,sans-Serif\" font-size=\"14.00\">trestbps ≤ 109.0</text>\n<text text-anchor=\"start\" x=\"1130\" y=\"-989.8\" font-family=\"Helvetica,sans-Serif\" font-size=\"14.00\">gini = 0.07</text>\n<text text-anchor=\"start\" x=\"1117\" y=\"-974.8\" font-family=\"Helvetica,sans-Serif\" font-size=\"14.00\">samples = 221</text>\n<text text-anchor=\"start\" x=\"1115\" y=\"-959.8\" font-family=\"Helvetica,sans-Serif\" font-size=\"14.00\">value = [213, 8]</text>\n<text text-anchor=\"start\" x=\"1130\" y=\"-944.8\" font-family=\"Helvetica,sans-Serif\" font-size=\"14.00\">class = No</text>\n</g>\n<!-- 1&#45;&gt;27 -->\n<g id=\"edge27\" class=\"edge\">\n<title>1&#45;&gt;27</title>\n<path fill=\"none\" stroke=\"black\" d=\"M1162,-1055.91C1162,-1047.65 1162,-1038.86 1162,-1030.3\"/>\n<polygon fill=\"black\" stroke=\"black\" points=\"1165.5,-1030.02 1162,-1020.02 1158.5,-1030.02 1165.5,-1030.02\"/>\n</g>\n<!-- 3 -->\n<g id=\"node4\" class=\"node\">\n<title>3</title>\n<path fill=\"#74baed\" stroke=\"black\" d=\"M501,-901C501,-901 415,-901 415,-901 409,-901 403,-895 403,-889 403,-889 403,-830 403,-830 403,-824 409,-818 415,-818 415,-818 501,-818 501,-818 507,-818 513,-824 513,-830 513,-830 513,-889 513,-889 513,-895 507,-901 501,-901\"/>\n<text text-anchor=\"start\" x=\"422.5\" y=\"-885.8\" font-family=\"Helvetica,sans-Serif\" font-size=\"14.00\">exang ≤ 0.5</text>\n<text text-anchor=\"start\" x=\"422.5\" y=\"-870.8\" font-family=\"Helvetica,sans-Serif\" font-size=\"14.00\">gini = 0.354</text>\n<text text-anchor=\"start\" x=\"413\" y=\"-855.8\" font-family=\"Helvetica,sans-Serif\" font-size=\"14.00\">samples = 100</text>\n<text text-anchor=\"start\" x=\"411\" y=\"-840.8\" font-family=\"Helvetica,sans-Serif\" font-size=\"14.00\">value = [23, 77]</text>\n<text text-anchor=\"start\" x=\"423\" y=\"-825.8\" font-family=\"Helvetica,sans-Serif\" font-size=\"14.00\">class = Yes</text>\n</g>\n<!-- 2&#45;&gt;3 -->\n<g id=\"edge3\" class=\"edge\">\n<title>2&#45;&gt;3</title>\n<path fill=\"none\" stroke=\"black\" d=\"M754.61,-959.09C691.69,-938.17 589.13,-904.08 522.61,-881.97\"/>\n<polygon fill=\"black\" stroke=\"black\" points=\"523.66,-878.64 513.06,-878.8 521.45,-885.28 523.66,-878.64\"/>\n</g>\n<!-- 20 -->\n<g id=\"node21\" class=\"node\">\n<title>20</title>\n<path fill=\"#ea9b61\" stroke=\"black\" d=\"M853,-901C853,-901 767,-901 767,-901 761,-901 755,-895 755,-889 755,-889 755,-830 755,-830 755,-824 761,-818 767,-818 767,-818 853,-818 853,-818 859,-818 865,-824 865,-830 865,-830 865,-889 865,-889 865,-895 859,-901 853,-901\"/>\n<text text-anchor=\"start\" x=\"765.5\" y=\"-885.8\" font-family=\"Helvetica,sans-Serif\" font-size=\"14.00\">oldpeak ≤ 0.65</text>\n<text text-anchor=\"start\" x=\"774.5\" y=\"-870.8\" font-family=\"Helvetica,sans-Serif\" font-size=\"14.00\">gini = 0.281</text>\n<text text-anchor=\"start\" x=\"769\" y=\"-855.8\" font-family=\"Helvetica,sans-Serif\" font-size=\"14.00\">samples = 77</text>\n<text text-anchor=\"start\" x=\"763\" y=\"-840.8\" font-family=\"Helvetica,sans-Serif\" font-size=\"14.00\">value = [64, 13]</text>\n<text text-anchor=\"start\" x=\"778\" y=\"-825.8\" font-family=\"Helvetica,sans-Serif\" font-size=\"14.00\">class = No</text>\n</g>\n<!-- 2&#45;&gt;20 -->\n<g id=\"edge20\" class=\"edge\">\n<title>2&#45;&gt;20</title>\n<path fill=\"none\" stroke=\"black\" d=\"M810,-936.91C810,-928.65 810,-919.86 810,-911.3\"/>\n<polygon fill=\"black\" stroke=\"black\" points=\"813.5,-911.02 810,-901.02 806.5,-911.02 813.5,-911.02\"/>\n</g>\n<!-- 4 -->\n<g id=\"node5\" class=\"node\">\n<title>4</title>\n<path fill=\"#4aa5e7\" stroke=\"black\" d=\"M207,-782C207,-782 129,-782 129,-782 123,-782 117,-776 117,-770 117,-770 117,-711 117,-711 117,-705 123,-699 129,-699 129,-699 207,-699 207,-699 213,-699 219,-705 219,-711 219,-711 219,-770 219,-770 219,-776 213,-782 207,-782\"/>\n<text text-anchor=\"start\" x=\"125.5\" y=\"-766.8\" font-family=\"Helvetica,sans-Serif\" font-size=\"14.00\">thalach ≤ 96.5</text>\n<text text-anchor=\"start\" x=\"132.5\" y=\"-751.8\" font-family=\"Helvetica,sans-Serif\" font-size=\"14.00\">gini = 0.146</text>\n<text text-anchor=\"start\" x=\"127\" y=\"-736.8\" font-family=\"Helvetica,sans-Serif\" font-size=\"14.00\">samples = 63</text>\n<text text-anchor=\"start\" x=\"125\" y=\"-721.8\" font-family=\"Helvetica,sans-Serif\" font-size=\"14.00\">value = [5, 58]</text>\n<text text-anchor=\"start\" x=\"133\" y=\"-706.8\" font-family=\"Helvetica,sans-Serif\" font-size=\"14.00\">class = Yes</text>\n</g>\n<!-- 3&#45;&gt;4 -->\n<g id=\"edge4\" class=\"edge\">\n<title>3&#45;&gt;4</title>\n<path fill=\"none\" stroke=\"black\" d=\"M402.77,-836.22C352.95,-816.12 279.83,-786.62 228.46,-765.89\"/>\n<polygon fill=\"black\" stroke=\"black\" points=\"229.72,-762.63 219.13,-762.13 227.1,-769.12 229.72,-762.63\"/>\n</g>\n<!-- 11 -->\n<g id=\"node12\" class=\"node\">\n<title>11</title>\n<path fill=\"#f5fafe\" stroke=\"black\" d=\"M501,-782C501,-782 415,-782 415,-782 409,-782 403,-776 403,-770 403,-770 403,-711 403,-711 403,-705 409,-699 415,-699 415,-699 501,-699 501,-699 507,-699 513,-705 513,-711 513,-711 513,-770 513,-770 513,-776 507,-782 501,-782\"/>\n<text text-anchor=\"start\" x=\"411.5\" y=\"-766.8\" font-family=\"Helvetica,sans-Serif\" font-size=\"14.00\">thalach ≤ 146.0</text>\n<text text-anchor=\"start\" x=\"430\" y=\"-751.8\" font-family=\"Helvetica,sans-Serif\" font-size=\"14.00\">gini = 0.5</text>\n<text text-anchor=\"start\" x=\"417\" y=\"-736.8\" font-family=\"Helvetica,sans-Serif\" font-size=\"14.00\">samples = 37</text>\n<text text-anchor=\"start\" x=\"411\" y=\"-721.8\" font-family=\"Helvetica,sans-Serif\" font-size=\"14.00\">value = [18, 19]</text>\n<text text-anchor=\"start\" x=\"423\" y=\"-706.8\" font-family=\"Helvetica,sans-Serif\" font-size=\"14.00\">class = Yes</text>\n</g>\n<!-- 3&#45;&gt;11 -->\n<g id=\"edge11\" class=\"edge\">\n<title>3&#45;&gt;11</title>\n<path fill=\"none\" stroke=\"black\" d=\"M458,-817.91C458,-809.65 458,-800.86 458,-792.3\"/>\n<polygon fill=\"black\" stroke=\"black\" points=\"461.5,-792.02 458,-782.02 454.5,-792.02 461.5,-792.02\"/>\n</g>\n<!-- 5 -->\n<g id=\"node6\" class=\"node\">\n<title>5</title>\n<path fill=\"#e58139\" stroke=\"black\" d=\"M86.5,-655.5C86.5,-655.5 15.5,-655.5 15.5,-655.5 9.5,-655.5 3.5,-649.5 3.5,-643.5 3.5,-643.5 3.5,-599.5 3.5,-599.5 3.5,-593.5 9.5,-587.5 15.5,-587.5 15.5,-587.5 86.5,-587.5 86.5,-587.5 92.5,-587.5 98.5,-593.5 98.5,-599.5 98.5,-599.5 98.5,-643.5 98.5,-643.5 98.5,-649.5 92.5,-655.5 86.5,-655.5\"/>\n<text text-anchor=\"start\" x=\"23\" y=\"-640.3\" font-family=\"Helvetica,sans-Serif\" font-size=\"14.00\">gini = 0.0</text>\n<text text-anchor=\"start\" x=\"13.5\" y=\"-625.3\" font-family=\"Helvetica,sans-Serif\" font-size=\"14.00\">samples = 3</text>\n<text text-anchor=\"start\" x=\"11.5\" y=\"-610.3\" font-family=\"Helvetica,sans-Serif\" font-size=\"14.00\">value = [3, 0]</text>\n<text text-anchor=\"start\" x=\"19\" y=\"-595.3\" font-family=\"Helvetica,sans-Serif\" font-size=\"14.00\">class = No</text>\n</g>\n<!-- 4&#45;&gt;5 -->\n<g id=\"edge5\" class=\"edge\">\n<title>4&#45;&gt;5</title>\n<path fill=\"none\" stroke=\"black\" d=\"M127.41,-698.91C115.71,-687.21 102.96,-674.46 91.28,-662.78\"/>\n<polygon fill=\"black\" stroke=\"black\" points=\"93.71,-660.26 84.17,-655.67 88.76,-665.21 93.71,-660.26\"/>\n</g>\n<!-- 6 -->\n<g id=\"node7\" class=\"node\">\n<title>6</title>\n<path fill=\"#40a0e6\" stroke=\"black\" d=\"M207,-663C207,-663 129,-663 129,-663 123,-663 117,-657 117,-651 117,-651 117,-592 117,-592 117,-586 123,-580 129,-580 129,-580 207,-580 207,-580 213,-580 219,-586 219,-592 219,-592 219,-651 219,-651 219,-657 213,-663 207,-663\"/>\n<text text-anchor=\"start\" x=\"131\" y=\"-647.8\" font-family=\"Helvetica,sans-Serif\" font-size=\"14.00\">chol ≤ 316.5</text>\n<text text-anchor=\"start\" x=\"132.5\" y=\"-632.8\" font-family=\"Helvetica,sans-Serif\" font-size=\"14.00\">gini = 0.064</text>\n<text text-anchor=\"start\" x=\"127\" y=\"-617.8\" font-family=\"Helvetica,sans-Serif\" font-size=\"14.00\">samples = 60</text>\n<text text-anchor=\"start\" x=\"125\" y=\"-602.8\" font-family=\"Helvetica,sans-Serif\" font-size=\"14.00\">value = [2, 58]</text>\n<text text-anchor=\"start\" x=\"133\" y=\"-587.8\" font-family=\"Helvetica,sans-Serif\" font-size=\"14.00\">class = Yes</text>\n</g>\n<!-- 4&#45;&gt;6 -->\n<g id=\"edge6\" class=\"edge\">\n<title>4&#45;&gt;6</title>\n<path fill=\"none\" stroke=\"black\" d=\"M168,-698.91C168,-690.65 168,-681.86 168,-673.3\"/>\n<polygon fill=\"black\" stroke=\"black\" points=\"171.5,-673.02 168,-663.02 164.5,-673.02 171.5,-673.02\"/>\n</g>\n<!-- 7 -->\n<g id=\"node8\" class=\"node\">\n<title>7</title>\n<path fill=\"#399de5\" stroke=\"black\" d=\"M90,-536.5C90,-536.5 12,-536.5 12,-536.5 6,-536.5 0,-530.5 0,-524.5 0,-524.5 0,-480.5 0,-480.5 0,-474.5 6,-468.5 12,-468.5 12,-468.5 90,-468.5 90,-468.5 96,-468.5 102,-474.5 102,-480.5 102,-480.5 102,-524.5 102,-524.5 102,-530.5 96,-536.5 90,-536.5\"/>\n<text text-anchor=\"start\" x=\"23\" y=\"-521.3\" font-family=\"Helvetica,sans-Serif\" font-size=\"14.00\">gini = 0.0</text>\n<text text-anchor=\"start\" x=\"10\" y=\"-506.3\" font-family=\"Helvetica,sans-Serif\" font-size=\"14.00\">samples = 56</text>\n<text text-anchor=\"start\" x=\"8\" y=\"-491.3\" font-family=\"Helvetica,sans-Serif\" font-size=\"14.00\">value = [0, 56]</text>\n<text text-anchor=\"start\" x=\"16\" y=\"-476.3\" font-family=\"Helvetica,sans-Serif\" font-size=\"14.00\">class = Yes</text>\n</g>\n<!-- 6&#45;&gt;7 -->\n<g id=\"edge7\" class=\"edge\">\n<title>6&#45;&gt;7</title>\n<path fill=\"none\" stroke=\"black\" d=\"M127.41,-579.91C115.71,-568.21 102.96,-555.46 91.28,-543.78\"/>\n<polygon fill=\"black\" stroke=\"black\" points=\"93.71,-541.26 84.17,-536.67 88.76,-546.21 93.71,-541.26\"/>\n</g>\n<!-- 8 -->\n<g id=\"node9\" class=\"node\">\n<title>8</title>\n<path fill=\"#ffffff\" stroke=\"black\" d=\"M203.5,-544C203.5,-544 132.5,-544 132.5,-544 126.5,-544 120.5,-538 120.5,-532 120.5,-532 120.5,-473 120.5,-473 120.5,-467 126.5,-461 132.5,-461 132.5,-461 203.5,-461 203.5,-461 209.5,-461 215.5,-467 215.5,-473 215.5,-473 215.5,-532 215.5,-532 215.5,-538 209.5,-544 203.5,-544\"/>\n<text text-anchor=\"start\" x=\"134.5\" y=\"-528.8\" font-family=\"Helvetica,sans-Serif\" font-size=\"14.00\">slope ≤ 1.5</text>\n<text text-anchor=\"start\" x=\"140\" y=\"-513.8\" font-family=\"Helvetica,sans-Serif\" font-size=\"14.00\">gini = 0.5</text>\n<text text-anchor=\"start\" x=\"130.5\" y=\"-498.8\" font-family=\"Helvetica,sans-Serif\" font-size=\"14.00\">samples = 4</text>\n<text text-anchor=\"start\" x=\"128.5\" y=\"-483.8\" font-family=\"Helvetica,sans-Serif\" font-size=\"14.00\">value = [2, 2]</text>\n<text text-anchor=\"start\" x=\"136\" y=\"-468.8\" font-family=\"Helvetica,sans-Serif\" font-size=\"14.00\">class = No</text>\n</g>\n<!-- 6&#45;&gt;8 -->\n<g id=\"edge8\" class=\"edge\">\n<title>6&#45;&gt;8</title>\n<path fill=\"none\" stroke=\"black\" d=\"M168,-579.91C168,-571.65 168,-562.86 168,-554.3\"/>\n<polygon fill=\"black\" stroke=\"black\" points=\"171.5,-554.02 168,-544.02 164.5,-554.02 171.5,-554.02\"/>\n</g>\n<!-- 9 -->\n<g id=\"node10\" class=\"node\">\n<title>9</title>\n<path fill=\"#399de5\" stroke=\"black\" d=\"M147.5,-417.5C147.5,-417.5 76.5,-417.5 76.5,-417.5 70.5,-417.5 64.5,-411.5 64.5,-405.5 64.5,-405.5 64.5,-361.5 64.5,-361.5 64.5,-355.5 70.5,-349.5 76.5,-349.5 76.5,-349.5 147.5,-349.5 147.5,-349.5 153.5,-349.5 159.5,-355.5 159.5,-361.5 159.5,-361.5 159.5,-405.5 159.5,-405.5 159.5,-411.5 153.5,-417.5 147.5,-417.5\"/>\n<text text-anchor=\"start\" x=\"84\" y=\"-402.3\" font-family=\"Helvetica,sans-Serif\" font-size=\"14.00\">gini = 0.0</text>\n<text text-anchor=\"start\" x=\"74.5\" y=\"-387.3\" font-family=\"Helvetica,sans-Serif\" font-size=\"14.00\">samples = 2</text>\n<text text-anchor=\"start\" x=\"72.5\" y=\"-372.3\" font-family=\"Helvetica,sans-Serif\" font-size=\"14.00\">value = [0, 2]</text>\n<text text-anchor=\"start\" x=\"77\" y=\"-357.3\" font-family=\"Helvetica,sans-Serif\" font-size=\"14.00\">class = Yes</text>\n</g>\n<!-- 8&#45;&gt;9 -->\n<g id=\"edge9\" class=\"edge\">\n<title>8&#45;&gt;9</title>\n<path fill=\"none\" stroke=\"black\" d=\"M148.57,-460.91C143.29,-449.87 137.56,-437.9 132.23,-426.77\"/>\n<polygon fill=\"black\" stroke=\"black\" points=\"135.35,-425.18 127.87,-417.67 129.04,-428.2 135.35,-425.18\"/>\n</g>\n<!-- 10 -->\n<g id=\"node11\" class=\"node\">\n<title>10</title>\n<path fill=\"#e58139\" stroke=\"black\" d=\"M260.5,-417.5C260.5,-417.5 189.5,-417.5 189.5,-417.5 183.5,-417.5 177.5,-411.5 177.5,-405.5 177.5,-405.5 177.5,-361.5 177.5,-361.5 177.5,-355.5 183.5,-349.5 189.5,-349.5 189.5,-349.5 260.5,-349.5 260.5,-349.5 266.5,-349.5 272.5,-355.5 272.5,-361.5 272.5,-361.5 272.5,-405.5 272.5,-405.5 272.5,-411.5 266.5,-417.5 260.5,-417.5\"/>\n<text text-anchor=\"start\" x=\"197\" y=\"-402.3\" font-family=\"Helvetica,sans-Serif\" font-size=\"14.00\">gini = 0.0</text>\n<text text-anchor=\"start\" x=\"187.5\" y=\"-387.3\" font-family=\"Helvetica,sans-Serif\" font-size=\"14.00\">samples = 2</text>\n<text text-anchor=\"start\" x=\"185.5\" y=\"-372.3\" font-family=\"Helvetica,sans-Serif\" font-size=\"14.00\">value = [2, 0]</text>\n<text text-anchor=\"start\" x=\"193\" y=\"-357.3\" font-family=\"Helvetica,sans-Serif\" font-size=\"14.00\">class = No</text>\n</g>\n<!-- 8&#45;&gt;10 -->\n<g id=\"edge10\" class=\"edge\">\n<title>8&#45;&gt;10</title>\n<path fill=\"none\" stroke=\"black\" d=\"M187.78,-460.91C193.15,-449.87 198.99,-437.9 204.41,-426.77\"/>\n<polygon fill=\"black\" stroke=\"black\" points=\"207.61,-428.19 208.84,-417.67 201.32,-425.12 207.61,-428.19\"/>\n</g>\n<!-- 12 -->\n<g id=\"node13\" class=\"node\">\n<title>12</title>\n<path fill=\"#eb9c63\" stroke=\"black\" d=\"M439.5,-663C439.5,-663 350.5,-663 350.5,-663 344.5,-663 338.5,-657 338.5,-651 338.5,-651 338.5,-592 338.5,-592 338.5,-586 344.5,-580 350.5,-580 350.5,-580 439.5,-580 439.5,-580 445.5,-580 451.5,-586 451.5,-592 451.5,-592 451.5,-651 451.5,-651 451.5,-657 445.5,-663 439.5,-663\"/>\n<text text-anchor=\"start\" x=\"346.5\" y=\"-647.8\" font-family=\"Helvetica,sans-Serif\" font-size=\"14.00\">trestbps ≤ 115.0</text>\n<text text-anchor=\"start\" x=\"359.5\" y=\"-632.8\" font-family=\"Helvetica,sans-Serif\" font-size=\"14.00\">gini = 0.291</text>\n<text text-anchor=\"start\" x=\"354\" y=\"-617.8\" font-family=\"Helvetica,sans-Serif\" font-size=\"14.00\">samples = 17</text>\n<text text-anchor=\"start\" x=\"352\" y=\"-602.8\" font-family=\"Helvetica,sans-Serif\" font-size=\"14.00\">value = [14, 3]</text>\n<text text-anchor=\"start\" x=\"363\" y=\"-587.8\" font-family=\"Helvetica,sans-Serif\" font-size=\"14.00\">class = No</text>\n</g>\n<!-- 11&#45;&gt;12 -->\n<g id=\"edge12\" class=\"edge\">\n<title>11&#45;&gt;12</title>\n<path fill=\"none\" stroke=\"black\" d=\"M436.14,-698.91C431.45,-690.2 426.44,-680.9 421.6,-671.89\"/>\n<polygon fill=\"black\" stroke=\"black\" points=\"424.64,-670.17 416.82,-663.02 418.48,-673.48 424.64,-670.17\"/>\n</g>\n<!-- 15 -->\n<g id=\"node16\" class=\"node\">\n<title>15</title>\n<path fill=\"#6ab6ec\" stroke=\"black\" d=\"M560,-663C560,-663 482,-663 482,-663 476,-663 470,-657 470,-651 470,-651 470,-592 470,-592 470,-586 476,-580 482,-580 482,-580 560,-580 560,-580 566,-580 572,-586 572,-592 572,-592 572,-651 572,-651 572,-657 566,-663 560,-663\"/>\n<text text-anchor=\"start\" x=\"480\" y=\"-647.8\" font-family=\"Helvetica,sans-Serif\" font-size=\"14.00\">oldpeak ≤ 0.8</text>\n<text text-anchor=\"start\" x=\"489\" y=\"-632.8\" font-family=\"Helvetica,sans-Serif\" font-size=\"14.00\">gini = 0.32</text>\n<text text-anchor=\"start\" x=\"480\" y=\"-617.8\" font-family=\"Helvetica,sans-Serif\" font-size=\"14.00\">samples = 20</text>\n<text text-anchor=\"start\" x=\"478\" y=\"-602.8\" font-family=\"Helvetica,sans-Serif\" font-size=\"14.00\">value = [4, 16]</text>\n<text text-anchor=\"start\" x=\"486\" y=\"-587.8\" font-family=\"Helvetica,sans-Serif\" font-size=\"14.00\">class = Yes</text>\n</g>\n<!-- 11&#45;&gt;15 -->\n<g id=\"edge15\" class=\"edge\">\n<title>11&#45;&gt;15</title>\n<path fill=\"none\" stroke=\"black\" d=\"M479.86,-698.91C484.55,-690.2 489.56,-680.9 494.4,-671.89\"/>\n<polygon fill=\"black\" stroke=\"black\" points=\"497.52,-673.48 499.18,-663.02 491.36,-670.17 497.52,-673.48\"/>\n</g>\n<!-- 13 -->\n<g id=\"node14\" class=\"node\">\n<title>13</title>\n<path fill=\"#399de5\" stroke=\"black\" d=\"M316.5,-536.5C316.5,-536.5 245.5,-536.5 245.5,-536.5 239.5,-536.5 233.5,-530.5 233.5,-524.5 233.5,-524.5 233.5,-480.5 233.5,-480.5 233.5,-474.5 239.5,-468.5 245.5,-468.5 245.5,-468.5 316.5,-468.5 316.5,-468.5 322.5,-468.5 328.5,-474.5 328.5,-480.5 328.5,-480.5 328.5,-524.5 328.5,-524.5 328.5,-530.5 322.5,-536.5 316.5,-536.5\"/>\n<text text-anchor=\"start\" x=\"253\" y=\"-521.3\" font-family=\"Helvetica,sans-Serif\" font-size=\"14.00\">gini = 0.0</text>\n<text text-anchor=\"start\" x=\"243.5\" y=\"-506.3\" font-family=\"Helvetica,sans-Serif\" font-size=\"14.00\">samples = 3</text>\n<text text-anchor=\"start\" x=\"241.5\" y=\"-491.3\" font-family=\"Helvetica,sans-Serif\" font-size=\"14.00\">value = [0, 3]</text>\n<text text-anchor=\"start\" x=\"246\" y=\"-476.3\" font-family=\"Helvetica,sans-Serif\" font-size=\"14.00\">class = Yes</text>\n</g>\n<!-- 12&#45;&gt;13 -->\n<g id=\"edge13\" class=\"edge\">\n<title>12&#45;&gt;13</title>\n<path fill=\"none\" stroke=\"black\" d=\"M355.45,-579.91C344.16,-568.32 331.86,-555.7 320.57,-544.11\"/>\n<polygon fill=\"black\" stroke=\"black\" points=\"322.8,-541.39 313.32,-536.67 317.79,-546.27 322.8,-541.39\"/>\n</g>\n<!-- 14 -->\n<g id=\"node15\" class=\"node\">\n<title>14</title>\n<path fill=\"#e58139\" stroke=\"black\" d=\"M437,-536.5C437,-536.5 359,-536.5 359,-536.5 353,-536.5 347,-530.5 347,-524.5 347,-524.5 347,-480.5 347,-480.5 347,-474.5 353,-468.5 359,-468.5 359,-468.5 437,-468.5 437,-468.5 443,-468.5 449,-474.5 449,-480.5 449,-480.5 449,-524.5 449,-524.5 449,-530.5 443,-536.5 437,-536.5\"/>\n<text text-anchor=\"start\" x=\"370\" y=\"-521.3\" font-family=\"Helvetica,sans-Serif\" font-size=\"14.00\">gini = 0.0</text>\n<text text-anchor=\"start\" x=\"357\" y=\"-506.3\" font-family=\"Helvetica,sans-Serif\" font-size=\"14.00\">samples = 14</text>\n<text text-anchor=\"start\" x=\"355\" y=\"-491.3\" font-family=\"Helvetica,sans-Serif\" font-size=\"14.00\">value = [14, 0]</text>\n<text text-anchor=\"start\" x=\"366\" y=\"-476.3\" font-family=\"Helvetica,sans-Serif\" font-size=\"14.00\">class = No</text>\n</g>\n<!-- 12&#45;&gt;14 -->\n<g id=\"edge14\" class=\"edge\">\n<title>12&#45;&gt;14</title>\n<path fill=\"none\" stroke=\"black\" d=\"M396.04,-579.91C396.32,-569.2 396.61,-557.62 396.89,-546.78\"/>\n<polygon fill=\"black\" stroke=\"black\" points=\"400.39,-546.75 397.15,-536.67 393.39,-546.57 400.39,-546.75\"/>\n</g>\n<!-- 16 -->\n<g id=\"node17\" class=\"node\">\n<title>16</title>\n<path fill=\"#399de5\" stroke=\"black\" d=\"M557,-536.5C557,-536.5 479,-536.5 479,-536.5 473,-536.5 467,-530.5 467,-524.5 467,-524.5 467,-480.5 467,-480.5 467,-474.5 473,-468.5 479,-468.5 479,-468.5 557,-468.5 557,-468.5 563,-468.5 569,-474.5 569,-480.5 569,-480.5 569,-524.5 569,-524.5 569,-530.5 563,-536.5 557,-536.5\"/>\n<text text-anchor=\"start\" x=\"490\" y=\"-521.3\" font-family=\"Helvetica,sans-Serif\" font-size=\"14.00\">gini = 0.0</text>\n<text text-anchor=\"start\" x=\"477\" y=\"-506.3\" font-family=\"Helvetica,sans-Serif\" font-size=\"14.00\">samples = 14</text>\n<text text-anchor=\"start\" x=\"475\" y=\"-491.3\" font-family=\"Helvetica,sans-Serif\" font-size=\"14.00\">value = [0, 14]</text>\n<text text-anchor=\"start\" x=\"483\" y=\"-476.3\" font-family=\"Helvetica,sans-Serif\" font-size=\"14.00\">class = Yes</text>\n</g>\n<!-- 15&#45;&gt;16 -->\n<g id=\"edge16\" class=\"edge\">\n<title>15&#45;&gt;16</title>\n<path fill=\"none\" stroke=\"black\" d=\"M519.96,-579.91C519.68,-569.2 519.39,-557.62 519.11,-546.78\"/>\n<polygon fill=\"black\" stroke=\"black\" points=\"522.61,-546.57 518.85,-536.67 515.61,-546.75 522.61,-546.57\"/>\n</g>\n<!-- 17 -->\n<g id=\"node18\" class=\"node\">\n<title>17</title>\n<path fill=\"#f2c09c\" stroke=\"black\" d=\"M670.5,-544C670.5,-544 599.5,-544 599.5,-544 593.5,-544 587.5,-538 587.5,-532 587.5,-532 587.5,-473 587.5,-473 587.5,-467 593.5,-461 599.5,-461 599.5,-461 670.5,-461 670.5,-461 676.5,-461 682.5,-467 682.5,-473 682.5,-473 682.5,-532 682.5,-532 682.5,-538 676.5,-544 670.5,-544\"/>\n<text text-anchor=\"start\" x=\"595.5\" y=\"-528.8\" font-family=\"Helvetica,sans-Serif\" font-size=\"14.00\">restecg ≤ 0.5</text>\n<text text-anchor=\"start\" x=\"599.5\" y=\"-513.8\" font-family=\"Helvetica,sans-Serif\" font-size=\"14.00\">gini = 0.444</text>\n<text text-anchor=\"start\" x=\"597.5\" y=\"-498.8\" font-family=\"Helvetica,sans-Serif\" font-size=\"14.00\">samples = 6</text>\n<text text-anchor=\"start\" x=\"595.5\" y=\"-483.8\" font-family=\"Helvetica,sans-Serif\" font-size=\"14.00\">value = [4, 2]</text>\n<text text-anchor=\"start\" x=\"603\" y=\"-468.8\" font-family=\"Helvetica,sans-Serif\" font-size=\"14.00\">class = No</text>\n</g>\n<!-- 15&#45;&gt;17 -->\n<g id=\"edge17\" class=\"edge\">\n<title>15&#45;&gt;17</title>\n<path fill=\"none\" stroke=\"black\" d=\"M560.55,-579.91C569.57,-570.65 579.24,-560.73 588.51,-551.21\"/>\n<polygon fill=\"black\" stroke=\"black\" points=\"591.05,-553.63 595.52,-544.02 586.03,-548.74 591.05,-553.63\"/>\n</g>\n<!-- 18 -->\n<g id=\"node19\" class=\"node\">\n<title>18</title>\n<path fill=\"#399de5\" stroke=\"black\" d=\"M613.5,-417.5C613.5,-417.5 542.5,-417.5 542.5,-417.5 536.5,-417.5 530.5,-411.5 530.5,-405.5 530.5,-405.5 530.5,-361.5 530.5,-361.5 530.5,-355.5 536.5,-349.5 542.5,-349.5 542.5,-349.5 613.5,-349.5 613.5,-349.5 619.5,-349.5 625.5,-355.5 625.5,-361.5 625.5,-361.5 625.5,-405.5 625.5,-405.5 625.5,-411.5 619.5,-417.5 613.5,-417.5\"/>\n<text text-anchor=\"start\" x=\"550\" y=\"-402.3\" font-family=\"Helvetica,sans-Serif\" font-size=\"14.00\">gini = 0.0</text>\n<text text-anchor=\"start\" x=\"540.5\" y=\"-387.3\" font-family=\"Helvetica,sans-Serif\" font-size=\"14.00\">samples = 2</text>\n<text text-anchor=\"start\" x=\"538.5\" y=\"-372.3\" font-family=\"Helvetica,sans-Serif\" font-size=\"14.00\">value = [0, 2]</text>\n<text text-anchor=\"start\" x=\"543\" y=\"-357.3\" font-family=\"Helvetica,sans-Serif\" font-size=\"14.00\">class = Yes</text>\n</g>\n<!-- 17&#45;&gt;18 -->\n<g id=\"edge18\" class=\"edge\">\n<title>17&#45;&gt;18</title>\n<path fill=\"none\" stroke=\"black\" d=\"M615.22,-460.91C609.85,-449.87 604.01,-437.9 598.59,-426.77\"/>\n<polygon fill=\"black\" stroke=\"black\" points=\"601.68,-425.12 594.16,-417.67 595.39,-428.19 601.68,-425.12\"/>\n</g>\n<!-- 19 -->\n<g id=\"node20\" class=\"node\">\n<title>19</title>\n<path fill=\"#e58139\" stroke=\"black\" d=\"M726.5,-417.5C726.5,-417.5 655.5,-417.5 655.5,-417.5 649.5,-417.5 643.5,-411.5 643.5,-405.5 643.5,-405.5 643.5,-361.5 643.5,-361.5 643.5,-355.5 649.5,-349.5 655.5,-349.5 655.5,-349.5 726.5,-349.5 726.5,-349.5 732.5,-349.5 738.5,-355.5 738.5,-361.5 738.5,-361.5 738.5,-405.5 738.5,-405.5 738.5,-411.5 732.5,-417.5 726.5,-417.5\"/>\n<text text-anchor=\"start\" x=\"663\" y=\"-402.3\" font-family=\"Helvetica,sans-Serif\" font-size=\"14.00\">gini = 0.0</text>\n<text text-anchor=\"start\" x=\"653.5\" y=\"-387.3\" font-family=\"Helvetica,sans-Serif\" font-size=\"14.00\">samples = 4</text>\n<text text-anchor=\"start\" x=\"651.5\" y=\"-372.3\" font-family=\"Helvetica,sans-Serif\" font-size=\"14.00\">value = [4, 0]</text>\n<text text-anchor=\"start\" x=\"659\" y=\"-357.3\" font-family=\"Helvetica,sans-Serif\" font-size=\"14.00\">class = No</text>\n</g>\n<!-- 17&#45;&gt;19 -->\n<g id=\"edge19\" class=\"edge\">\n<title>17&#45;&gt;19</title>\n<path fill=\"none\" stroke=\"black\" d=\"M654.43,-460.91C659.71,-449.87 665.44,-437.9 670.77,-426.77\"/>\n<polygon fill=\"black\" stroke=\"black\" points=\"673.96,-428.2 675.13,-417.67 667.65,-425.18 673.96,-428.2\"/>\n</g>\n<!-- 21 -->\n<g id=\"node22\" class=\"node\">\n<title>21</title>\n<path fill=\"#ffffff\" stroke=\"black\" d=\"M791,-782C791,-782 705,-782 705,-782 699,-782 693,-776 693,-770 693,-770 693,-711 693,-711 693,-705 699,-699 705,-699 705,-699 791,-699 791,-699 797,-699 803,-705 803,-711 803,-711 803,-770 803,-770 803,-776 797,-782 791,-782\"/>\n<text text-anchor=\"start\" x=\"711\" y=\"-766.8\" font-family=\"Helvetica,sans-Serif\" font-size=\"14.00\">chol ≤ 237.5</text>\n<text text-anchor=\"start\" x=\"720\" y=\"-751.8\" font-family=\"Helvetica,sans-Serif\" font-size=\"14.00\">gini = 0.5</text>\n<text text-anchor=\"start\" x=\"707\" y=\"-736.8\" font-family=\"Helvetica,sans-Serif\" font-size=\"14.00\">samples = 26</text>\n<text text-anchor=\"start\" x=\"701\" y=\"-721.8\" font-family=\"Helvetica,sans-Serif\" font-size=\"14.00\">value = [13, 13]</text>\n<text text-anchor=\"start\" x=\"716\" y=\"-706.8\" font-family=\"Helvetica,sans-Serif\" font-size=\"14.00\">class = No</text>\n</g>\n<!-- 20&#45;&gt;21 -->\n<g id=\"edge21\" class=\"edge\">\n<title>20&#45;&gt;21</title>\n<path fill=\"none\" stroke=\"black\" d=\"M788.49,-817.91C783.87,-809.2 778.95,-799.9 774.17,-790.89\"/>\n<polygon fill=\"black\" stroke=\"black\" points=\"777.25,-789.22 769.47,-782.02 771.06,-792.5 777.25,-789.22\"/>\n</g>\n<!-- 26 -->\n<g id=\"node27\" class=\"node\">\n<title>26</title>\n<path fill=\"#e58139\" stroke=\"black\" d=\"M911,-774.5C911,-774.5 833,-774.5 833,-774.5 827,-774.5 821,-768.5 821,-762.5 821,-762.5 821,-718.5 821,-718.5 821,-712.5 827,-706.5 833,-706.5 833,-706.5 911,-706.5 911,-706.5 917,-706.5 923,-712.5 923,-718.5 923,-718.5 923,-762.5 923,-762.5 923,-768.5 917,-774.5 911,-774.5\"/>\n<text text-anchor=\"start\" x=\"844\" y=\"-759.3\" font-family=\"Helvetica,sans-Serif\" font-size=\"14.00\">gini = 0.0</text>\n<text text-anchor=\"start\" x=\"831\" y=\"-744.3\" font-family=\"Helvetica,sans-Serif\" font-size=\"14.00\">samples = 51</text>\n<text text-anchor=\"start\" x=\"829\" y=\"-729.3\" font-family=\"Helvetica,sans-Serif\" font-size=\"14.00\">value = [51, 0]</text>\n<text text-anchor=\"start\" x=\"840\" y=\"-714.3\" font-family=\"Helvetica,sans-Serif\" font-size=\"14.00\">class = No</text>\n</g>\n<!-- 20&#45;&gt;26 -->\n<g id=\"edge26\" class=\"edge\">\n<title>20&#45;&gt;26</title>\n<path fill=\"none\" stroke=\"black\" d=\"M831.51,-817.91C837.36,-806.87 843.7,-794.9 849.6,-783.77\"/>\n<polygon fill=\"black\" stroke=\"black\" points=\"852.83,-785.14 854.42,-774.67 846.65,-781.86 852.83,-785.14\"/>\n</g>\n<!-- 22 -->\n<g id=\"node23\" class=\"node\">\n<title>22</title>\n<path fill=\"#76bbed\" stroke=\"black\" d=\"M787,-663C787,-663 709,-663 709,-663 703,-663 697,-657 697,-651 697,-651 697,-592 697,-592 697,-586 703,-580 709,-580 709,-580 787,-580 787,-580 793,-580 799,-586 799,-592 799,-592 799,-651 799,-651 799,-657 793,-663 787,-663\"/>\n<text text-anchor=\"start\" x=\"716\" y=\"-647.8\" font-family=\"Helvetica,sans-Serif\" font-size=\"14.00\">age ≤ 42.0</text>\n<text text-anchor=\"start\" x=\"716\" y=\"-632.8\" font-family=\"Helvetica,sans-Serif\" font-size=\"14.00\">gini = 0.36</text>\n<text text-anchor=\"start\" x=\"707\" y=\"-617.8\" font-family=\"Helvetica,sans-Serif\" font-size=\"14.00\">samples = 17</text>\n<text text-anchor=\"start\" x=\"705\" y=\"-602.8\" font-family=\"Helvetica,sans-Serif\" font-size=\"14.00\">value = [4, 13]</text>\n<text text-anchor=\"start\" x=\"713\" y=\"-587.8\" font-family=\"Helvetica,sans-Serif\" font-size=\"14.00\">class = Yes</text>\n</g>\n<!-- 21&#45;&gt;22 -->\n<g id=\"edge22\" class=\"edge\">\n<title>21&#45;&gt;22</title>\n<path fill=\"none\" stroke=\"black\" d=\"M748,-698.91C748,-690.65 748,-681.86 748,-673.3\"/>\n<polygon fill=\"black\" stroke=\"black\" points=\"751.5,-673.02 748,-663.02 744.5,-673.02 751.5,-673.02\"/>\n</g>\n<!-- 25 -->\n<g id=\"node26\" class=\"node\">\n<title>25</title>\n<path fill=\"#e58139\" stroke=\"black\" d=\"M900.5,-655.5C900.5,-655.5 829.5,-655.5 829.5,-655.5 823.5,-655.5 817.5,-649.5 817.5,-643.5 817.5,-643.5 817.5,-599.5 817.5,-599.5 817.5,-593.5 823.5,-587.5 829.5,-587.5 829.5,-587.5 900.5,-587.5 900.5,-587.5 906.5,-587.5 912.5,-593.5 912.5,-599.5 912.5,-599.5 912.5,-643.5 912.5,-643.5 912.5,-649.5 906.5,-655.5 900.5,-655.5\"/>\n<text text-anchor=\"start\" x=\"837\" y=\"-640.3\" font-family=\"Helvetica,sans-Serif\" font-size=\"14.00\">gini = 0.0</text>\n<text text-anchor=\"start\" x=\"827.5\" y=\"-625.3\" font-family=\"Helvetica,sans-Serif\" font-size=\"14.00\">samples = 9</text>\n<text text-anchor=\"start\" x=\"825.5\" y=\"-610.3\" font-family=\"Helvetica,sans-Serif\" font-size=\"14.00\">value = [9, 0]</text>\n<text text-anchor=\"start\" x=\"833\" y=\"-595.3\" font-family=\"Helvetica,sans-Serif\" font-size=\"14.00\">class = No</text>\n</g>\n<!-- 21&#45;&gt;25 -->\n<g id=\"edge25\" class=\"edge\">\n<title>21&#45;&gt;25</title>\n<path fill=\"none\" stroke=\"black\" d=\"M788.59,-698.91C800.29,-687.21 813.04,-674.46 824.72,-662.78\"/>\n<polygon fill=\"black\" stroke=\"black\" points=\"827.24,-665.21 831.83,-655.67 822.29,-660.26 827.24,-665.21\"/>\n</g>\n<!-- 23 -->\n<g id=\"node24\" class=\"node\">\n<title>23</title>\n<path fill=\"#e58139\" stroke=\"black\" d=\"M783.5,-536.5C783.5,-536.5 712.5,-536.5 712.5,-536.5 706.5,-536.5 700.5,-530.5 700.5,-524.5 700.5,-524.5 700.5,-480.5 700.5,-480.5 700.5,-474.5 706.5,-468.5 712.5,-468.5 712.5,-468.5 783.5,-468.5 783.5,-468.5 789.5,-468.5 795.5,-474.5 795.5,-480.5 795.5,-480.5 795.5,-524.5 795.5,-524.5 795.5,-530.5 789.5,-536.5 783.5,-536.5\"/>\n<text text-anchor=\"start\" x=\"720\" y=\"-521.3\" font-family=\"Helvetica,sans-Serif\" font-size=\"14.00\">gini = 0.0</text>\n<text text-anchor=\"start\" x=\"710.5\" y=\"-506.3\" font-family=\"Helvetica,sans-Serif\" font-size=\"14.00\">samples = 4</text>\n<text text-anchor=\"start\" x=\"708.5\" y=\"-491.3\" font-family=\"Helvetica,sans-Serif\" font-size=\"14.00\">value = [4, 0]</text>\n<text text-anchor=\"start\" x=\"716\" y=\"-476.3\" font-family=\"Helvetica,sans-Serif\" font-size=\"14.00\">class = No</text>\n</g>\n<!-- 22&#45;&gt;23 -->\n<g id=\"edge23\" class=\"edge\">\n<title>22&#45;&gt;23</title>\n<path fill=\"none\" stroke=\"black\" d=\"M748,-579.91C748,-569.2 748,-557.62 748,-546.78\"/>\n<polygon fill=\"black\" stroke=\"black\" points=\"751.5,-546.67 748,-536.67 744.5,-546.67 751.5,-546.67\"/>\n</g>\n<!-- 24 -->\n<g id=\"node25\" class=\"node\">\n<title>24</title>\n<path fill=\"#399de5\" stroke=\"black\" d=\"M904,-536.5C904,-536.5 826,-536.5 826,-536.5 820,-536.5 814,-530.5 814,-524.5 814,-524.5 814,-480.5 814,-480.5 814,-474.5 820,-468.5 826,-468.5 826,-468.5 904,-468.5 904,-468.5 910,-468.5 916,-474.5 916,-480.5 916,-480.5 916,-524.5 916,-524.5 916,-530.5 910,-536.5 904,-536.5\"/>\n<text text-anchor=\"start\" x=\"837\" y=\"-521.3\" font-family=\"Helvetica,sans-Serif\" font-size=\"14.00\">gini = 0.0</text>\n<text text-anchor=\"start\" x=\"824\" y=\"-506.3\" font-family=\"Helvetica,sans-Serif\" font-size=\"14.00\">samples = 13</text>\n<text text-anchor=\"start\" x=\"822\" y=\"-491.3\" font-family=\"Helvetica,sans-Serif\" font-size=\"14.00\">value = [0, 13]</text>\n<text text-anchor=\"start\" x=\"830\" y=\"-476.3\" font-family=\"Helvetica,sans-Serif\" font-size=\"14.00\">class = Yes</text>\n</g>\n<!-- 22&#45;&gt;24 -->\n<g id=\"edge24\" class=\"edge\">\n<title>22&#45;&gt;24</title>\n<path fill=\"none\" stroke=\"black\" d=\"M788.59,-579.91C800.29,-568.21 813.04,-555.46 824.72,-543.78\"/>\n<polygon fill=\"black\" stroke=\"black\" points=\"827.24,-546.21 831.83,-536.67 822.29,-541.26 827.24,-546.21\"/>\n</g>\n<!-- 28 -->\n<g id=\"node29\" class=\"node\">\n<title>28</title>\n<path fill=\"#f1b991\" stroke=\"black\" d=\"M1138,-901C1138,-901 1064,-901 1064,-901 1058,-901 1052,-895 1052,-889 1052,-889 1052,-830 1052,-830 1052,-824 1058,-818 1064,-818 1064,-818 1138,-818 1138,-818 1144,-818 1150,-824 1150,-830 1150,-830 1150,-889 1150,-889 1150,-895 1144,-901 1138,-901\"/>\n<text text-anchor=\"start\" x=\"1064\" y=\"-885.8\" font-family=\"Helvetica,sans-Serif\" font-size=\"14.00\">chol ≤ 233.5</text>\n<text text-anchor=\"start\" x=\"1065.5\" y=\"-870.8\" font-family=\"Helvetica,sans-Serif\" font-size=\"14.00\">gini = 0.426</text>\n<text text-anchor=\"start\" x=\"1060\" y=\"-855.8\" font-family=\"Helvetica,sans-Serif\" font-size=\"14.00\">samples = 13</text>\n<text text-anchor=\"start\" x=\"1061.5\" y=\"-840.8\" font-family=\"Helvetica,sans-Serif\" font-size=\"14.00\">value = [9, 4]</text>\n<text text-anchor=\"start\" x=\"1069\" y=\"-825.8\" font-family=\"Helvetica,sans-Serif\" font-size=\"14.00\">class = No</text>\n</g>\n<!-- 27&#45;&gt;28 -->\n<g id=\"edge28\" class=\"edge\">\n<title>27&#45;&gt;28</title>\n<path fill=\"none\" stroke=\"black\" d=\"M1140.84,-936.91C1136.29,-928.2 1131.45,-918.9 1126.75,-909.89\"/>\n<polygon fill=\"black\" stroke=\"black\" points=\"1129.85,-908.27 1122.13,-901.02 1123.65,-911.51 1129.85,-908.27\"/>\n</g>\n<!-- 31 -->\n<g id=\"node32\" class=\"node\">\n<title>31</title>\n<path fill=\"#e6833d\" stroke=\"black\" d=\"M1266,-901C1266,-901 1180,-901 1180,-901 1174,-901 1168,-895 1168,-889 1168,-889 1168,-830 1168,-830 1168,-824 1174,-818 1180,-818 1180,-818 1266,-818 1266,-818 1272,-818 1278,-824 1278,-830 1278,-830 1278,-889 1278,-889 1278,-895 1272,-901 1266,-901\"/>\n<text text-anchor=\"start\" x=\"1191\" y=\"-885.8\" font-family=\"Helvetica,sans-Serif\" font-size=\"14.00\">age ≤ 63.5</text>\n<text text-anchor=\"start\" x=\"1187.5\" y=\"-870.8\" font-family=\"Helvetica,sans-Serif\" font-size=\"14.00\">gini = 0.038</text>\n<text text-anchor=\"start\" x=\"1178\" y=\"-855.8\" font-family=\"Helvetica,sans-Serif\" font-size=\"14.00\">samples = 208</text>\n<text text-anchor=\"start\" x=\"1176\" y=\"-840.8\" font-family=\"Helvetica,sans-Serif\" font-size=\"14.00\">value = [204, 4]</text>\n<text text-anchor=\"start\" x=\"1191\" y=\"-825.8\" font-family=\"Helvetica,sans-Serif\" font-size=\"14.00\">class = No</text>\n</g>\n<!-- 27&#45;&gt;31 -->\n<g id=\"edge31\" class=\"edge\">\n<title>27&#45;&gt;31</title>\n<path fill=\"none\" stroke=\"black\" d=\"M1183.16,-936.91C1187.71,-928.2 1192.55,-918.9 1197.25,-909.89\"/>\n<polygon fill=\"black\" stroke=\"black\" points=\"1200.35,-911.51 1201.87,-901.02 1194.15,-908.27 1200.35,-911.51\"/>\n</g>\n<!-- 29 -->\n<g id=\"node30\" class=\"node\">\n<title>29</title>\n<path fill=\"#399de5\" stroke=\"black\" d=\"M1024.5,-774.5C1024.5,-774.5 953.5,-774.5 953.5,-774.5 947.5,-774.5 941.5,-768.5 941.5,-762.5 941.5,-762.5 941.5,-718.5 941.5,-718.5 941.5,-712.5 947.5,-706.5 953.5,-706.5 953.5,-706.5 1024.5,-706.5 1024.5,-706.5 1030.5,-706.5 1036.5,-712.5 1036.5,-718.5 1036.5,-718.5 1036.5,-762.5 1036.5,-762.5 1036.5,-768.5 1030.5,-774.5 1024.5,-774.5\"/>\n<text text-anchor=\"start\" x=\"961\" y=\"-759.3\" font-family=\"Helvetica,sans-Serif\" font-size=\"14.00\">gini = 0.0</text>\n<text text-anchor=\"start\" x=\"951.5\" y=\"-744.3\" font-family=\"Helvetica,sans-Serif\" font-size=\"14.00\">samples = 4</text>\n<text text-anchor=\"start\" x=\"949.5\" y=\"-729.3\" font-family=\"Helvetica,sans-Serif\" font-size=\"14.00\">value = [0, 4]</text>\n<text text-anchor=\"start\" x=\"954\" y=\"-714.3\" font-family=\"Helvetica,sans-Serif\" font-size=\"14.00\">class = Yes</text>\n</g>\n<!-- 28&#45;&gt;29 -->\n<g id=\"edge29\" class=\"edge\">\n<title>28&#45;&gt;29</title>\n<path fill=\"none\" stroke=\"black\" d=\"M1062.14,-817.91C1051.05,-806.32 1038.97,-793.7 1027.88,-782.11\"/>\n<polygon fill=\"black\" stroke=\"black\" points=\"1030.19,-779.47 1020.75,-774.67 1025.14,-784.31 1030.19,-779.47\"/>\n</g>\n<!-- 30 -->\n<g id=\"node31\" class=\"node\">\n<title>30</title>\n<path fill=\"#e58139\" stroke=\"black\" d=\"M1137.5,-774.5C1137.5,-774.5 1066.5,-774.5 1066.5,-774.5 1060.5,-774.5 1054.5,-768.5 1054.5,-762.5 1054.5,-762.5 1054.5,-718.5 1054.5,-718.5 1054.5,-712.5 1060.5,-706.5 1066.5,-706.5 1066.5,-706.5 1137.5,-706.5 1137.5,-706.5 1143.5,-706.5 1149.5,-712.5 1149.5,-718.5 1149.5,-718.5 1149.5,-762.5 1149.5,-762.5 1149.5,-768.5 1143.5,-774.5 1137.5,-774.5\"/>\n<text text-anchor=\"start\" x=\"1074\" y=\"-759.3\" font-family=\"Helvetica,sans-Serif\" font-size=\"14.00\">gini = 0.0</text>\n<text text-anchor=\"start\" x=\"1064.5\" y=\"-744.3\" font-family=\"Helvetica,sans-Serif\" font-size=\"14.00\">samples = 9</text>\n<text text-anchor=\"start\" x=\"1062.5\" y=\"-729.3\" font-family=\"Helvetica,sans-Serif\" font-size=\"14.00\">value = [9, 0]</text>\n<text text-anchor=\"start\" x=\"1070\" y=\"-714.3\" font-family=\"Helvetica,sans-Serif\" font-size=\"14.00\">class = No</text>\n</g>\n<!-- 28&#45;&gt;30 -->\n<g id=\"edge30\" class=\"edge\">\n<title>28&#45;&gt;30</title>\n<path fill=\"none\" stroke=\"black\" d=\"M1101.35,-817.91C1101.44,-807.2 1101.54,-795.62 1101.63,-784.78\"/>\n<polygon fill=\"black\" stroke=\"black\" points=\"1105.13,-784.7 1101.72,-774.67 1098.13,-784.64 1105.13,-784.7\"/>\n</g>\n<!-- 32 -->\n<g id=\"node33\" class=\"node\">\n<title>32</title>\n<path fill=\"#e58139\" stroke=\"black\" d=\"M1266,-774.5C1266,-774.5 1180,-774.5 1180,-774.5 1174,-774.5 1168,-768.5 1168,-762.5 1168,-762.5 1168,-718.5 1168,-718.5 1168,-712.5 1174,-706.5 1180,-706.5 1180,-706.5 1266,-706.5 1266,-706.5 1272,-706.5 1278,-712.5 1278,-718.5 1278,-718.5 1278,-762.5 1278,-762.5 1278,-768.5 1272,-774.5 1266,-774.5\"/>\n<text text-anchor=\"start\" x=\"1195\" y=\"-759.3\" font-family=\"Helvetica,sans-Serif\" font-size=\"14.00\">gini = 0.0</text>\n<text text-anchor=\"start\" x=\"1178\" y=\"-744.3\" font-family=\"Helvetica,sans-Serif\" font-size=\"14.00\">samples = 162</text>\n<text text-anchor=\"start\" x=\"1176\" y=\"-729.3\" font-family=\"Helvetica,sans-Serif\" font-size=\"14.00\">value = [162, 0]</text>\n<text text-anchor=\"start\" x=\"1191\" y=\"-714.3\" font-family=\"Helvetica,sans-Serif\" font-size=\"14.00\">class = No</text>\n</g>\n<!-- 31&#45;&gt;32 -->\n<g id=\"edge32\" class=\"edge\">\n<title>31&#45;&gt;32</title>\n<path fill=\"none\" stroke=\"black\" d=\"M1223,-817.91C1223,-807.2 1223,-795.62 1223,-784.78\"/>\n<polygon fill=\"black\" stroke=\"black\" points=\"1226.5,-784.67 1223,-774.67 1219.5,-784.67 1226.5,-784.67\"/>\n</g>\n<!-- 33 -->\n<g id=\"node34\" class=\"node\">\n<title>33</title>\n<path fill=\"#e78d4c\" stroke=\"black\" d=\"M1386,-782C1386,-782 1308,-782 1308,-782 1302,-782 1296,-776 1296,-770 1296,-770 1296,-711 1296,-711 1296,-705 1302,-699 1308,-699 1308,-699 1386,-699 1386,-699 1392,-699 1398,-705 1398,-711 1398,-711 1398,-770 1398,-770 1398,-776 1392,-782 1386,-782\"/>\n<text text-anchor=\"start\" x=\"1315\" y=\"-766.8\" font-family=\"Helvetica,sans-Serif\" font-size=\"14.00\">age ≤ 64.5</text>\n<text text-anchor=\"start\" x=\"1311.5\" y=\"-751.8\" font-family=\"Helvetica,sans-Serif\" font-size=\"14.00\">gini = 0.159</text>\n<text text-anchor=\"start\" x=\"1306\" y=\"-736.8\" font-family=\"Helvetica,sans-Serif\" font-size=\"14.00\">samples = 46</text>\n<text text-anchor=\"start\" x=\"1304\" y=\"-721.8\" font-family=\"Helvetica,sans-Serif\" font-size=\"14.00\">value = [42, 4]</text>\n<text text-anchor=\"start\" x=\"1315\" y=\"-706.8\" font-family=\"Helvetica,sans-Serif\" font-size=\"14.00\">class = No</text>\n</g>\n<!-- 31&#45;&gt;33 -->\n<g id=\"edge33\" class=\"edge\">\n<title>31&#45;&gt;33</title>\n<path fill=\"none\" stroke=\"black\" d=\"M1266.02,-817.91C1275.93,-808.56 1286.55,-798.54 1296.73,-788.93\"/>\n<polygon fill=\"black\" stroke=\"black\" points=\"1299.18,-791.43 1304.05,-782.02 1294.38,-786.34 1299.18,-791.43\"/>\n</g>\n<!-- 34 -->\n<g id=\"node35\" class=\"node\">\n<title>34</title>\n<path fill=\"#ffffff\" stroke=\"black\" d=\"M1265.5,-663C1265.5,-663 1194.5,-663 1194.5,-663 1188.5,-663 1182.5,-657 1182.5,-651 1182.5,-651 1182.5,-592 1182.5,-592 1182.5,-586 1188.5,-580 1194.5,-580 1194.5,-580 1265.5,-580 1265.5,-580 1271.5,-580 1277.5,-586 1277.5,-592 1277.5,-592 1277.5,-651 1277.5,-651 1277.5,-657 1271.5,-663 1265.5,-663\"/>\n<text text-anchor=\"start\" x=\"1193\" y=\"-647.8\" font-family=\"Helvetica,sans-Serif\" font-size=\"14.00\">chol ≤ 254.5</text>\n<text text-anchor=\"start\" x=\"1202\" y=\"-632.8\" font-family=\"Helvetica,sans-Serif\" font-size=\"14.00\">gini = 0.5</text>\n<text text-anchor=\"start\" x=\"1192.5\" y=\"-617.8\" font-family=\"Helvetica,sans-Serif\" font-size=\"14.00\">samples = 8</text>\n<text text-anchor=\"start\" x=\"1190.5\" y=\"-602.8\" font-family=\"Helvetica,sans-Serif\" font-size=\"14.00\">value = [4, 4]</text>\n<text text-anchor=\"start\" x=\"1198\" y=\"-587.8\" font-family=\"Helvetica,sans-Serif\" font-size=\"14.00\">class = No</text>\n</g>\n<!-- 33&#45;&gt;34 -->\n<g id=\"edge34\" class=\"edge\">\n<title>33&#45;&gt;34</title>\n<path fill=\"none\" stroke=\"black\" d=\"M1306.41,-698.91C1297.15,-689.65 1287.23,-679.73 1277.71,-670.21\"/>\n<polygon fill=\"black\" stroke=\"black\" points=\"1280.07,-667.62 1270.52,-663.02 1275.12,-672.57 1280.07,-667.62\"/>\n</g>\n<!-- 37 -->\n<g id=\"node38\" class=\"node\">\n<title>37</title>\n<path fill=\"#e58139\" stroke=\"black\" d=\"M1386,-655.5C1386,-655.5 1308,-655.5 1308,-655.5 1302,-655.5 1296,-649.5 1296,-643.5 1296,-643.5 1296,-599.5 1296,-599.5 1296,-593.5 1302,-587.5 1308,-587.5 1308,-587.5 1386,-587.5 1386,-587.5 1392,-587.5 1398,-593.5 1398,-599.5 1398,-599.5 1398,-643.5 1398,-643.5 1398,-649.5 1392,-655.5 1386,-655.5\"/>\n<text text-anchor=\"start\" x=\"1319\" y=\"-640.3\" font-family=\"Helvetica,sans-Serif\" font-size=\"14.00\">gini = 0.0</text>\n<text text-anchor=\"start\" x=\"1306\" y=\"-625.3\" font-family=\"Helvetica,sans-Serif\" font-size=\"14.00\">samples = 38</text>\n<text text-anchor=\"start\" x=\"1304\" y=\"-610.3\" font-family=\"Helvetica,sans-Serif\" font-size=\"14.00\">value = [38, 0]</text>\n<text text-anchor=\"start\" x=\"1315\" y=\"-595.3\" font-family=\"Helvetica,sans-Serif\" font-size=\"14.00\">class = No</text>\n</g>\n<!-- 33&#45;&gt;37 -->\n<g id=\"edge37\" class=\"edge\">\n<title>33&#45;&gt;37</title>\n<path fill=\"none\" stroke=\"black\" d=\"M1347,-698.91C1347,-688.2 1347,-676.62 1347,-665.78\"/>\n<polygon fill=\"black\" stroke=\"black\" points=\"1350.5,-665.67 1347,-655.67 1343.5,-665.67 1350.5,-665.67\"/>\n</g>\n<!-- 35 -->\n<g id=\"node36\" class=\"node\">\n<title>35</title>\n<path fill=\"#e58139\" stroke=\"black\" d=\"M1156.5,-536.5C1156.5,-536.5 1085.5,-536.5 1085.5,-536.5 1079.5,-536.5 1073.5,-530.5 1073.5,-524.5 1073.5,-524.5 1073.5,-480.5 1073.5,-480.5 1073.5,-474.5 1079.5,-468.5 1085.5,-468.5 1085.5,-468.5 1156.5,-468.5 1156.5,-468.5 1162.5,-468.5 1168.5,-474.5 1168.5,-480.5 1168.5,-480.5 1168.5,-524.5 1168.5,-524.5 1168.5,-530.5 1162.5,-536.5 1156.5,-536.5\"/>\n<text text-anchor=\"start\" x=\"1093\" y=\"-521.3\" font-family=\"Helvetica,sans-Serif\" font-size=\"14.00\">gini = 0.0</text>\n<text text-anchor=\"start\" x=\"1083.5\" y=\"-506.3\" font-family=\"Helvetica,sans-Serif\" font-size=\"14.00\">samples = 4</text>\n<text text-anchor=\"start\" x=\"1081.5\" y=\"-491.3\" font-family=\"Helvetica,sans-Serif\" font-size=\"14.00\">value = [4, 0]</text>\n<text text-anchor=\"start\" x=\"1089\" y=\"-476.3\" font-family=\"Helvetica,sans-Serif\" font-size=\"14.00\">class = No</text>\n</g>\n<!-- 34&#45;&gt;35 -->\n<g id=\"edge35\" class=\"edge\">\n<title>34&#45;&gt;35</title>\n<path fill=\"none\" stroke=\"black\" d=\"M1192.18,-579.91C1181.39,-568.32 1169.63,-555.7 1158.83,-544.11\"/>\n<polygon fill=\"black\" stroke=\"black\" points=\"1161.28,-541.6 1151.9,-536.67 1156.15,-546.37 1161.28,-541.6\"/>\n</g>\n<!-- 36 -->\n<g id=\"node37\" class=\"node\">\n<title>36</title>\n<path fill=\"#399de5\" stroke=\"black\" d=\"M1269.5,-536.5C1269.5,-536.5 1198.5,-536.5 1198.5,-536.5 1192.5,-536.5 1186.5,-530.5 1186.5,-524.5 1186.5,-524.5 1186.5,-480.5 1186.5,-480.5 1186.5,-474.5 1192.5,-468.5 1198.5,-468.5 1198.5,-468.5 1269.5,-468.5 1269.5,-468.5 1275.5,-468.5 1281.5,-474.5 1281.5,-480.5 1281.5,-480.5 1281.5,-524.5 1281.5,-524.5 1281.5,-530.5 1275.5,-536.5 1269.5,-536.5\"/>\n<text text-anchor=\"start\" x=\"1206\" y=\"-521.3\" font-family=\"Helvetica,sans-Serif\" font-size=\"14.00\">gini = 0.0</text>\n<text text-anchor=\"start\" x=\"1196.5\" y=\"-506.3\" font-family=\"Helvetica,sans-Serif\" font-size=\"14.00\">samples = 4</text>\n<text text-anchor=\"start\" x=\"1194.5\" y=\"-491.3\" font-family=\"Helvetica,sans-Serif\" font-size=\"14.00\">value = [0, 4]</text>\n<text text-anchor=\"start\" x=\"1199\" y=\"-476.3\" font-family=\"Helvetica,sans-Serif\" font-size=\"14.00\">class = Yes</text>\n</g>\n<!-- 34&#45;&gt;36 -->\n<g id=\"edge36\" class=\"edge\">\n<title>34&#45;&gt;36</title>\n<path fill=\"none\" stroke=\"black\" d=\"M1231.39,-579.91C1231.75,-569.2 1232.15,-557.62 1232.52,-546.78\"/>\n<polygon fill=\"black\" stroke=\"black\" points=\"1236.02,-546.78 1232.87,-536.67 1229.03,-546.54 1236.02,-546.78\"/>\n</g>\n<!-- 39 -->\n<g id=\"node40\" class=\"node\">\n<title>39</title>\n<path fill=\"#58ace9\" stroke=\"black\" d=\"M1826.5,-1020C1826.5,-1020 1733.5,-1020 1733.5,-1020 1727.5,-1020 1721.5,-1014 1721.5,-1008 1721.5,-1008 1721.5,-949 1721.5,-949 1721.5,-943 1727.5,-937 1733.5,-937 1733.5,-937 1826.5,-937 1826.5,-937 1832.5,-937 1838.5,-943 1838.5,-949 1838.5,-949 1838.5,-1008 1838.5,-1008 1838.5,-1014 1832.5,-1020 1826.5,-1020\"/>\n<text text-anchor=\"start\" x=\"1739\" y=\"-1004.8\" font-family=\"Helvetica,sans-Serif\" font-size=\"14.00\">oldpeak ≤ 2.1</text>\n<text text-anchor=\"start\" x=\"1744.5\" y=\"-989.8\" font-family=\"Helvetica,sans-Serif\" font-size=\"14.00\">gini = 0.234</text>\n<text text-anchor=\"start\" x=\"1735\" y=\"-974.8\" font-family=\"Helvetica,sans-Serif\" font-size=\"14.00\">samples = 317</text>\n<text text-anchor=\"start\" x=\"1729.5\" y=\"-959.8\" font-family=\"Helvetica,sans-Serif\" font-size=\"14.00\">value = [43, 274]</text>\n<text text-anchor=\"start\" x=\"1745\" y=\"-944.8\" font-family=\"Helvetica,sans-Serif\" font-size=\"14.00\">class = Yes</text>\n</g>\n<!-- 38&#45;&gt;39 -->\n<g id=\"edge39\" class=\"edge\">\n<title>38&#45;&gt;39</title>\n<path fill=\"none\" stroke=\"black\" d=\"M1780,-1055.91C1780,-1047.65 1780,-1038.86 1780,-1030.3\"/>\n<polygon fill=\"black\" stroke=\"black\" points=\"1783.5,-1030.02 1780,-1020.02 1776.5,-1030.02 1783.5,-1030.02\"/>\n</g>\n<!-- 72 -->\n<g id=\"node73\" class=\"node\">\n<title>72</title>\n<path fill=\"#fef8f4\" stroke=\"black\" d=\"M2211,-1020C2211,-1020 2103,-1020 2103,-1020 2097,-1020 2091,-1014 2091,-1008 2091,-1008 2091,-949 2091,-949 2091,-943 2097,-937 2103,-937 2103,-937 2211,-937 2211,-937 2217,-937 2223,-943 2223,-949 2223,-949 2223,-1008 2223,-1008 2223,-1014 2217,-1020 2211,-1020\"/>\n<text text-anchor=\"start\" x=\"2110.5\" y=\"-1004.8\" font-family=\"Helvetica,sans-Serif\" font-size=\"14.00\">thalach ≤ 132.5</text>\n<text text-anchor=\"start\" x=\"2129\" y=\"-989.8\" font-family=\"Helvetica,sans-Serif\" font-size=\"14.00\">gini = 0.5</text>\n<text text-anchor=\"start\" x=\"2112\" y=\"-974.8\" font-family=\"Helvetica,sans-Serif\" font-size=\"14.00\">samples = 105</text>\n<text text-anchor=\"start\" x=\"2099\" y=\"-959.8\" font-family=\"Helvetica,sans-Serif\" font-size=\"14.00\">value = [54.0, 51.0]</text>\n<text text-anchor=\"start\" x=\"2125\" y=\"-944.8\" font-family=\"Helvetica,sans-Serif\" font-size=\"14.00\">class = No</text>\n</g>\n<!-- 38&#45;&gt;72 -->\n<g id=\"edge72\" class=\"edge\">\n<title>38&#45;&gt;72</title>\n<path fill=\"none\" stroke=\"black\" d=\"M1838.91,-1078.22C1904.18,-1057.96 2009.63,-1025.24 2081.05,-1003.07\"/>\n<polygon fill=\"black\" stroke=\"black\" points=\"2082.39,-1006.32 2090.9,-1000.01 2080.31,-999.64 2082.39,-1006.32\"/>\n</g>\n<!-- 40 -->\n<g id=\"node41\" class=\"node\">\n<title>40</title>\n<path fill=\"#4fa8e8\" stroke=\"black\" d=\"M1768,-901C1768,-901 1652,-901 1652,-901 1646,-901 1640,-895 1640,-889 1640,-889 1640,-830 1640,-830 1640,-824 1646,-818 1652,-818 1652,-818 1768,-818 1768,-818 1774,-818 1780,-824 1780,-830 1780,-830 1780,-889 1780,-889 1780,-895 1774,-901 1768,-901\"/>\n<text text-anchor=\"start\" x=\"1678\" y=\"-885.8\" font-family=\"Helvetica,sans-Serif\" font-size=\"14.00\">age ≤ 55.5</text>\n<text text-anchor=\"start\" x=\"1674.5\" y=\"-870.8\" font-family=\"Helvetica,sans-Serif\" font-size=\"14.00\">gini = 0.183</text>\n<text text-anchor=\"start\" x=\"1665\" y=\"-855.8\" font-family=\"Helvetica,sans-Serif\" font-size=\"14.00\">samples = 295</text>\n<text text-anchor=\"start\" x=\"1648\" y=\"-840.8\" font-family=\"Helvetica,sans-Serif\" font-size=\"14.00\">value = [30.0, 265.0]</text>\n<text text-anchor=\"start\" x=\"1675\" y=\"-825.8\" font-family=\"Helvetica,sans-Serif\" font-size=\"14.00\">class = Yes</text>\n</g>\n<!-- 39&#45;&gt;40 -->\n<g id=\"edge40\" class=\"edge\">\n<title>39&#45;&gt;40</title>\n<path fill=\"none\" stroke=\"black\" d=\"M1755.71,-936.91C1750.45,-928.1 1744.82,-918.7 1739.38,-909.61\"/>\n<polygon fill=\"black\" stroke=\"black\" points=\"1742.38,-907.81 1734.24,-901.02 1736.37,-911.4 1742.38,-907.81\"/>\n</g>\n<!-- 67 -->\n<g id=\"node68\" class=\"node\">\n<title>67</title>\n<path fill=\"#f7d8c2\" stroke=\"black\" d=\"M1888,-901C1888,-901 1810,-901 1810,-901 1804,-901 1798,-895 1798,-889 1798,-889 1798,-830 1798,-830 1798,-824 1804,-818 1810,-818 1810,-818 1888,-818 1888,-818 1894,-818 1900,-824 1900,-830 1900,-830 1900,-889 1900,-889 1900,-895 1894,-901 1888,-901\"/>\n<text text-anchor=\"start\" x=\"1815.5\" y=\"-885.8\" font-family=\"Helvetica,sans-Serif\" font-size=\"14.00\">slope ≤ 0.5</text>\n<text text-anchor=\"start\" x=\"1813.5\" y=\"-870.8\" font-family=\"Helvetica,sans-Serif\" font-size=\"14.00\">gini = 0.483</text>\n<text text-anchor=\"start\" x=\"1808\" y=\"-855.8\" font-family=\"Helvetica,sans-Serif\" font-size=\"14.00\">samples = 22</text>\n<text text-anchor=\"start\" x=\"1806\" y=\"-840.8\" font-family=\"Helvetica,sans-Serif\" font-size=\"14.00\">value = [13, 9]</text>\n<text text-anchor=\"start\" x=\"1817\" y=\"-825.8\" font-family=\"Helvetica,sans-Serif\" font-size=\"14.00\">class = No</text>\n</g>\n<!-- 39&#45;&gt;67 -->\n<g id=\"edge67\" class=\"edge\">\n<title>39&#45;&gt;67</title>\n<path fill=\"none\" stroke=\"black\" d=\"M1803.94,-936.91C1809.08,-928.2 1814.56,-918.9 1819.87,-909.89\"/>\n<polygon fill=\"black\" stroke=\"black\" points=\"1823.04,-911.41 1825.1,-901.02 1817.01,-907.86 1823.04,-911.41\"/>\n</g>\n<!-- 41 -->\n<g id=\"node42\" class=\"node\">\n<title>41</title>\n<path fill=\"#40a1e6\" stroke=\"black\" d=\"M1628,-782C1628,-782 1542,-782 1542,-782 1536,-782 1530,-776 1530,-770 1530,-770 1530,-711 1530,-711 1530,-705 1536,-699 1542,-699 1542,-699 1628,-699 1628,-699 1634,-699 1640,-705 1640,-711 1640,-711 1640,-770 1640,-770 1640,-776 1634,-782 1628,-782\"/>\n<text text-anchor=\"start\" x=\"1548\" y=\"-766.8\" font-family=\"Helvetica,sans-Serif\" font-size=\"14.00\">chol ≤ 153.0</text>\n<text text-anchor=\"start\" x=\"1549.5\" y=\"-751.8\" font-family=\"Helvetica,sans-Serif\" font-size=\"14.00\">gini = 0.069</text>\n<text text-anchor=\"start\" x=\"1540\" y=\"-736.8\" font-family=\"Helvetica,sans-Serif\" font-size=\"14.00\">samples = 196</text>\n<text text-anchor=\"start\" x=\"1538\" y=\"-721.8\" font-family=\"Helvetica,sans-Serif\" font-size=\"14.00\">value = [7, 189]</text>\n<text text-anchor=\"start\" x=\"1550\" y=\"-706.8\" font-family=\"Helvetica,sans-Serif\" font-size=\"14.00\">class = Yes</text>\n</g>\n<!-- 40&#45;&gt;41 -->\n<g id=\"edge41\" class=\"edge\">\n<title>40&#45;&gt;41</title>\n<path fill=\"none\" stroke=\"black\" d=\"M1666.63,-817.91C1656.65,-808.56 1645.94,-798.54 1635.67,-788.93\"/>\n<polygon fill=\"black\" stroke=\"black\" points=\"1637.98,-786.3 1628.29,-782.02 1633.2,-791.41 1637.98,-786.3\"/>\n</g>\n<!-- 52 -->\n<g id=\"node53\" class=\"node\">\n<title>52</title>\n<path fill=\"#75bbed\" stroke=\"black\" d=\"M1756,-782C1756,-782 1670,-782 1670,-782 1664,-782 1658,-776 1658,-770 1658,-770 1658,-711 1658,-711 1658,-705 1664,-699 1670,-699 1670,-699 1756,-699 1756,-699 1762,-699 1768,-705 1768,-711 1768,-711 1768,-770 1768,-770 1768,-776 1762,-782 1756,-782\"/>\n<text text-anchor=\"start\" x=\"1685\" y=\"-766.8\" font-family=\"Helvetica,sans-Serif\" font-size=\"14.00\">thal ≤ 1.5</text>\n<text text-anchor=\"start\" x=\"1677.5\" y=\"-751.8\" font-family=\"Helvetica,sans-Serif\" font-size=\"14.00\">gini = 0.357</text>\n<text text-anchor=\"start\" x=\"1672\" y=\"-736.8\" font-family=\"Helvetica,sans-Serif\" font-size=\"14.00\">samples = 99</text>\n<text text-anchor=\"start\" x=\"1666\" y=\"-721.8\" font-family=\"Helvetica,sans-Serif\" font-size=\"14.00\">value = [23, 76]</text>\n<text text-anchor=\"start\" x=\"1678\" y=\"-706.8\" font-family=\"Helvetica,sans-Serif\" font-size=\"14.00\">class = Yes</text>\n</g>\n<!-- 40&#45;&gt;52 -->\n<g id=\"edge52\" class=\"edge\">\n<title>40&#45;&gt;52</title>\n<path fill=\"none\" stroke=\"black\" d=\"M1711.04,-817.91C1711.25,-809.56 1711.48,-800.67 1711.7,-792.02\"/>\n<polygon fill=\"black\" stroke=\"black\" points=\"1715.2,-792.11 1711.96,-782.02 1708.21,-791.93 1715.2,-792.11\"/>\n</g>\n<!-- 42 -->\n<g id=\"node43\" class=\"node\">\n<title>42</title>\n<path fill=\"#f8e0ce\" stroke=\"black\" d=\"M1499.5,-663C1499.5,-663 1428.5,-663 1428.5,-663 1422.5,-663 1416.5,-657 1416.5,-651 1416.5,-651 1416.5,-592 1416.5,-592 1416.5,-586 1422.5,-580 1428.5,-580 1428.5,-580 1499.5,-580 1499.5,-580 1505.5,-580 1511.5,-586 1511.5,-592 1511.5,-592 1511.5,-651 1511.5,-651 1511.5,-657 1505.5,-663 1499.5,-663\"/>\n<text text-anchor=\"start\" x=\"1424.5\" y=\"-647.8\" font-family=\"Helvetica,sans-Serif\" font-size=\"14.00\">restecg ≤ 0.5</text>\n<text text-anchor=\"start\" x=\"1432\" y=\"-632.8\" font-family=\"Helvetica,sans-Serif\" font-size=\"14.00\">gini = 0.49</text>\n<text text-anchor=\"start\" x=\"1426.5\" y=\"-617.8\" font-family=\"Helvetica,sans-Serif\" font-size=\"14.00\">samples = 7</text>\n<text text-anchor=\"start\" x=\"1424.5\" y=\"-602.8\" font-family=\"Helvetica,sans-Serif\" font-size=\"14.00\">value = [4, 3]</text>\n<text text-anchor=\"start\" x=\"1432\" y=\"-587.8\" font-family=\"Helvetica,sans-Serif\" font-size=\"14.00\">class = No</text>\n</g>\n<!-- 41&#45;&gt;42 -->\n<g id=\"edge42\" class=\"edge\">\n<title>41&#45;&gt;42</title>\n<path fill=\"none\" stroke=\"black\" d=\"M1543.02,-698.91C1533.45,-689.65 1523.19,-679.73 1513.34,-670.21\"/>\n<polygon fill=\"black\" stroke=\"black\" points=\"1515.53,-667.46 1505.91,-663.02 1510.66,-672.49 1515.53,-667.46\"/>\n</g>\n<!-- 45 -->\n<g id=\"node46\" class=\"node\">\n<title>45</title>\n<path fill=\"#3c9fe5\" stroke=\"black\" d=\"M1630.5,-663C1630.5,-663 1541.5,-663 1541.5,-663 1535.5,-663 1529.5,-657 1529.5,-651 1529.5,-651 1529.5,-592 1529.5,-592 1529.5,-586 1535.5,-580 1541.5,-580 1541.5,-580 1630.5,-580 1630.5,-580 1636.5,-580 1642.5,-586 1642.5,-592 1642.5,-592 1642.5,-651 1642.5,-651 1642.5,-657 1636.5,-663 1630.5,-663\"/>\n<text text-anchor=\"start\" x=\"1537.5\" y=\"-647.8\" font-family=\"Helvetica,sans-Serif\" font-size=\"14.00\">trestbps ≤ 109.0</text>\n<text text-anchor=\"start\" x=\"1550.5\" y=\"-632.8\" font-family=\"Helvetica,sans-Serif\" font-size=\"14.00\">gini = 0.031</text>\n<text text-anchor=\"start\" x=\"1541\" y=\"-617.8\" font-family=\"Helvetica,sans-Serif\" font-size=\"14.00\">samples = 189</text>\n<text text-anchor=\"start\" x=\"1539\" y=\"-602.8\" font-family=\"Helvetica,sans-Serif\" font-size=\"14.00\">value = [3, 186]</text>\n<text text-anchor=\"start\" x=\"1551\" y=\"-587.8\" font-family=\"Helvetica,sans-Serif\" font-size=\"14.00\">class = Yes</text>\n</g>\n<!-- 41&#45;&gt;45 -->\n<g id=\"edge45\" class=\"edge\">\n<title>41&#45;&gt;45</title>\n<path fill=\"none\" stroke=\"black\" d=\"M1585.35,-698.91C1585.42,-690.65 1585.49,-681.86 1585.57,-673.3\"/>\n<polygon fill=\"black\" stroke=\"black\" points=\"1589.07,-673.05 1585.65,-663.02 1582.07,-672.99 1589.07,-673.05\"/>\n</g>\n<!-- 43 -->\n<g id=\"node44\" class=\"node\">\n<title>43</title>\n<path fill=\"#e58139\" stroke=\"black\" d=\"M1386.5,-536.5C1386.5,-536.5 1315.5,-536.5 1315.5,-536.5 1309.5,-536.5 1303.5,-530.5 1303.5,-524.5 1303.5,-524.5 1303.5,-480.5 1303.5,-480.5 1303.5,-474.5 1309.5,-468.5 1315.5,-468.5 1315.5,-468.5 1386.5,-468.5 1386.5,-468.5 1392.5,-468.5 1398.5,-474.5 1398.5,-480.5 1398.5,-480.5 1398.5,-524.5 1398.5,-524.5 1398.5,-530.5 1392.5,-536.5 1386.5,-536.5\"/>\n<text text-anchor=\"start\" x=\"1323\" y=\"-521.3\" font-family=\"Helvetica,sans-Serif\" font-size=\"14.00\">gini = 0.0</text>\n<text text-anchor=\"start\" x=\"1313.5\" y=\"-506.3\" font-family=\"Helvetica,sans-Serif\" font-size=\"14.00\">samples = 4</text>\n<text text-anchor=\"start\" x=\"1311.5\" y=\"-491.3\" font-family=\"Helvetica,sans-Serif\" font-size=\"14.00\">value = [4, 0]</text>\n<text text-anchor=\"start\" x=\"1319\" y=\"-476.3\" font-family=\"Helvetica,sans-Serif\" font-size=\"14.00\">class = No</text>\n</g>\n<!-- 42&#45;&gt;43 -->\n<g id=\"edge43\" class=\"edge\">\n<title>42&#45;&gt;43</title>\n<path fill=\"none\" stroke=\"black\" d=\"M1424.8,-579.91C1413.61,-568.32 1401.41,-555.7 1390.22,-544.11\"/>\n<polygon fill=\"black\" stroke=\"black\" points=\"1392.5,-541.43 1383.03,-536.67 1387.46,-546.29 1392.5,-541.43\"/>\n</g>\n<!-- 44 -->\n<g id=\"node45\" class=\"node\">\n<title>44</title>\n<path fill=\"#399de5\" stroke=\"black\" d=\"M1499.5,-536.5C1499.5,-536.5 1428.5,-536.5 1428.5,-536.5 1422.5,-536.5 1416.5,-530.5 1416.5,-524.5 1416.5,-524.5 1416.5,-480.5 1416.5,-480.5 1416.5,-474.5 1422.5,-468.5 1428.5,-468.5 1428.5,-468.5 1499.5,-468.5 1499.5,-468.5 1505.5,-468.5 1511.5,-474.5 1511.5,-480.5 1511.5,-480.5 1511.5,-524.5 1511.5,-524.5 1511.5,-530.5 1505.5,-536.5 1499.5,-536.5\"/>\n<text text-anchor=\"start\" x=\"1436\" y=\"-521.3\" font-family=\"Helvetica,sans-Serif\" font-size=\"14.00\">gini = 0.0</text>\n<text text-anchor=\"start\" x=\"1426.5\" y=\"-506.3\" font-family=\"Helvetica,sans-Serif\" font-size=\"14.00\">samples = 3</text>\n<text text-anchor=\"start\" x=\"1424.5\" y=\"-491.3\" font-family=\"Helvetica,sans-Serif\" font-size=\"14.00\">value = [0, 3]</text>\n<text text-anchor=\"start\" x=\"1429\" y=\"-476.3\" font-family=\"Helvetica,sans-Serif\" font-size=\"14.00\">class = Yes</text>\n</g>\n<!-- 42&#45;&gt;44 -->\n<g id=\"edge44\" class=\"edge\">\n<title>42&#45;&gt;44</title>\n<path fill=\"none\" stroke=\"black\" d=\"M1464,-579.91C1464,-569.2 1464,-557.62 1464,-546.78\"/>\n<polygon fill=\"black\" stroke=\"black\" points=\"1467.5,-546.67 1464,-536.67 1460.5,-546.67 1467.5,-546.67\"/>\n</g>\n<!-- 46 -->\n<g id=\"node47\" class=\"node\">\n<title>46</title>\n<path fill=\"#67b4eb\" stroke=\"black\" d=\"M1620,-544C1620,-544 1542,-544 1542,-544 1536,-544 1530,-538 1530,-532 1530,-532 1530,-473 1530,-473 1530,-467 1536,-461 1542,-461 1542,-461 1620,-461 1620,-461 1626,-461 1632,-467 1632,-473 1632,-473 1632,-532 1632,-532 1632,-538 1626,-544 1620,-544\"/>\n<text text-anchor=\"start\" x=\"1544\" y=\"-528.8\" font-family=\"Helvetica,sans-Serif\" font-size=\"14.00\">chol ≤ 232.5</text>\n<text text-anchor=\"start\" x=\"1545.5\" y=\"-513.8\" font-family=\"Helvetica,sans-Serif\" font-size=\"14.00\">gini = 0.305</text>\n<text text-anchor=\"start\" x=\"1540\" y=\"-498.8\" font-family=\"Helvetica,sans-Serif\" font-size=\"14.00\">samples = 16</text>\n<text text-anchor=\"start\" x=\"1538\" y=\"-483.8\" font-family=\"Helvetica,sans-Serif\" font-size=\"14.00\">value = [3, 13]</text>\n<text text-anchor=\"start\" x=\"1546\" y=\"-468.8\" font-family=\"Helvetica,sans-Serif\" font-size=\"14.00\">class = Yes</text>\n</g>\n<!-- 45&#45;&gt;46 -->\n<g id=\"edge46\" class=\"edge\">\n<title>45&#45;&gt;46</title>\n<path fill=\"none\" stroke=\"black\" d=\"M1584.27,-579.91C1583.91,-571.56 1583.53,-562.67 1583.16,-554.02\"/>\n<polygon fill=\"black\" stroke=\"black\" points=\"1586.66,-553.86 1582.73,-544.02 1579.66,-554.16 1586.66,-553.86\"/>\n</g>\n<!-- 51 -->\n<g id=\"node52\" class=\"node\">\n<title>51</title>\n<path fill=\"#399de5\" stroke=\"black\" d=\"M1748,-536.5C1748,-536.5 1662,-536.5 1662,-536.5 1656,-536.5 1650,-530.5 1650,-524.5 1650,-524.5 1650,-480.5 1650,-480.5 1650,-474.5 1656,-468.5 1662,-468.5 1662,-468.5 1748,-468.5 1748,-468.5 1754,-468.5 1760,-474.5 1760,-480.5 1760,-480.5 1760,-524.5 1760,-524.5 1760,-530.5 1754,-536.5 1748,-536.5\"/>\n<text text-anchor=\"start\" x=\"1677\" y=\"-521.3\" font-family=\"Helvetica,sans-Serif\" font-size=\"14.00\">gini = 0.0</text>\n<text text-anchor=\"start\" x=\"1660\" y=\"-506.3\" font-family=\"Helvetica,sans-Serif\" font-size=\"14.00\">samples = 173</text>\n<text text-anchor=\"start\" x=\"1658\" y=\"-491.3\" font-family=\"Helvetica,sans-Serif\" font-size=\"14.00\">value = [0, 173]</text>\n<text text-anchor=\"start\" x=\"1670\" y=\"-476.3\" font-family=\"Helvetica,sans-Serif\" font-size=\"14.00\">class = Yes</text>\n</g>\n<!-- 45&#45;&gt;51 -->\n<g id=\"edge51\" class=\"edge\">\n<title>45&#45;&gt;51</title>\n<path fill=\"none\" stroke=\"black\" d=\"M1627.29,-579.91C1639.18,-568.21 1652.15,-555.46 1664.03,-543.78\"/>\n<polygon fill=\"black\" stroke=\"black\" points=\"1666.59,-546.17 1671.27,-536.67 1661.68,-541.18 1666.59,-546.17\"/>\n</g>\n<!-- 47 -->\n<g id=\"node48\" class=\"node\">\n<title>47</title>\n<path fill=\"#399de5\" stroke=\"black\" d=\"M1509,-417.5C1509,-417.5 1431,-417.5 1431,-417.5 1425,-417.5 1419,-411.5 1419,-405.5 1419,-405.5 1419,-361.5 1419,-361.5 1419,-355.5 1425,-349.5 1431,-349.5 1431,-349.5 1509,-349.5 1509,-349.5 1515,-349.5 1521,-355.5 1521,-361.5 1521,-361.5 1521,-405.5 1521,-405.5 1521,-411.5 1515,-417.5 1509,-417.5\"/>\n<text text-anchor=\"start\" x=\"1442\" y=\"-402.3\" font-family=\"Helvetica,sans-Serif\" font-size=\"14.00\">gini = 0.0</text>\n<text text-anchor=\"start\" x=\"1429\" y=\"-387.3\" font-family=\"Helvetica,sans-Serif\" font-size=\"14.00\">samples = 10</text>\n<text text-anchor=\"start\" x=\"1427\" y=\"-372.3\" font-family=\"Helvetica,sans-Serif\" font-size=\"14.00\">value = [0, 10]</text>\n<text text-anchor=\"start\" x=\"1435\" y=\"-357.3\" font-family=\"Helvetica,sans-Serif\" font-size=\"14.00\">class = Yes</text>\n</g>\n<!-- 46&#45;&gt;47 -->\n<g id=\"edge47\" class=\"edge\">\n<title>46&#45;&gt;47</title>\n<path fill=\"none\" stroke=\"black\" d=\"M1542.49,-460.91C1531.5,-449.32 1519.52,-436.7 1508.53,-425.11\"/>\n<polygon fill=\"black\" stroke=\"black\" points=\"1510.89,-422.51 1501.47,-417.67 1505.81,-427.33 1510.89,-422.51\"/>\n</g>\n<!-- 48 -->\n<g id=\"node49\" class=\"node\">\n<title>48</title>\n<path fill=\"#ffffff\" stroke=\"black\" d=\"M1622.5,-425C1622.5,-425 1551.5,-425 1551.5,-425 1545.5,-425 1539.5,-419 1539.5,-413 1539.5,-413 1539.5,-354 1539.5,-354 1539.5,-348 1545.5,-342 1551.5,-342 1551.5,-342 1622.5,-342 1622.5,-342 1628.5,-342 1634.5,-348 1634.5,-354 1634.5,-354 1634.5,-413 1634.5,-413 1634.5,-419 1628.5,-425 1622.5,-425\"/>\n<text text-anchor=\"start\" x=\"1550\" y=\"-409.8\" font-family=\"Helvetica,sans-Serif\" font-size=\"14.00\">chol ≤ 255.0</text>\n<text text-anchor=\"start\" x=\"1559\" y=\"-394.8\" font-family=\"Helvetica,sans-Serif\" font-size=\"14.00\">gini = 0.5</text>\n<text text-anchor=\"start\" x=\"1549.5\" y=\"-379.8\" font-family=\"Helvetica,sans-Serif\" font-size=\"14.00\">samples = 6</text>\n<text text-anchor=\"start\" x=\"1547.5\" y=\"-364.8\" font-family=\"Helvetica,sans-Serif\" font-size=\"14.00\">value = [3, 3]</text>\n<text text-anchor=\"start\" x=\"1555\" y=\"-349.8\" font-family=\"Helvetica,sans-Serif\" font-size=\"14.00\">class = No</text>\n</g>\n<!-- 46&#45;&gt;48 -->\n<g id=\"edge48\" class=\"edge\">\n<title>46&#45;&gt;48</title>\n<path fill=\"none\" stroke=\"black\" d=\"M1583.08,-460.91C1583.51,-452.56 1583.97,-443.67 1584.41,-435.02\"/>\n<polygon fill=\"black\" stroke=\"black\" points=\"1587.91,-435.19 1584.92,-425.02 1580.91,-434.83 1587.91,-435.19\"/>\n</g>\n<!-- 49 -->\n<g id=\"node50\" class=\"node\">\n<title>49</title>\n<path fill=\"#e58139\" stroke=\"black\" d=\"M1518.5,-298.5C1518.5,-298.5 1447.5,-298.5 1447.5,-298.5 1441.5,-298.5 1435.5,-292.5 1435.5,-286.5 1435.5,-286.5 1435.5,-242.5 1435.5,-242.5 1435.5,-236.5 1441.5,-230.5 1447.5,-230.5 1447.5,-230.5 1518.5,-230.5 1518.5,-230.5 1524.5,-230.5 1530.5,-236.5 1530.5,-242.5 1530.5,-242.5 1530.5,-286.5 1530.5,-286.5 1530.5,-292.5 1524.5,-298.5 1518.5,-298.5\"/>\n<text text-anchor=\"start\" x=\"1455\" y=\"-283.3\" font-family=\"Helvetica,sans-Serif\" font-size=\"14.00\">gini = 0.0</text>\n<text text-anchor=\"start\" x=\"1445.5\" y=\"-268.3\" font-family=\"Helvetica,sans-Serif\" font-size=\"14.00\">samples = 3</text>\n<text text-anchor=\"start\" x=\"1443.5\" y=\"-253.3\" font-family=\"Helvetica,sans-Serif\" font-size=\"14.00\">value = [3, 0]</text>\n<text text-anchor=\"start\" x=\"1451\" y=\"-238.3\" font-family=\"Helvetica,sans-Serif\" font-size=\"14.00\">class = No</text>\n</g>\n<!-- 48&#45;&gt;49 -->\n<g id=\"edge49\" class=\"edge\">\n<title>48&#45;&gt;49</title>\n<path fill=\"none\" stroke=\"black\" d=\"M1550.92,-341.91C1540.72,-330.43 1529.61,-317.94 1519.39,-306.44\"/>\n<polygon fill=\"black\" stroke=\"black\" points=\"1521.74,-303.82 1512.48,-298.67 1516.51,-308.47 1521.74,-303.82\"/>\n</g>\n<!-- 50 -->\n<g id=\"node51\" class=\"node\">\n<title>50</title>\n<path fill=\"#399de5\" stroke=\"black\" d=\"M1631.5,-298.5C1631.5,-298.5 1560.5,-298.5 1560.5,-298.5 1554.5,-298.5 1548.5,-292.5 1548.5,-286.5 1548.5,-286.5 1548.5,-242.5 1548.5,-242.5 1548.5,-236.5 1554.5,-230.5 1560.5,-230.5 1560.5,-230.5 1631.5,-230.5 1631.5,-230.5 1637.5,-230.5 1643.5,-236.5 1643.5,-242.5 1643.5,-242.5 1643.5,-286.5 1643.5,-286.5 1643.5,-292.5 1637.5,-298.5 1631.5,-298.5\"/>\n<text text-anchor=\"start\" x=\"1568\" y=\"-283.3\" font-family=\"Helvetica,sans-Serif\" font-size=\"14.00\">gini = 0.0</text>\n<text text-anchor=\"start\" x=\"1558.5\" y=\"-268.3\" font-family=\"Helvetica,sans-Serif\" font-size=\"14.00\">samples = 3</text>\n<text text-anchor=\"start\" x=\"1556.5\" y=\"-253.3\" font-family=\"Helvetica,sans-Serif\" font-size=\"14.00\">value = [0, 3]</text>\n<text text-anchor=\"start\" x=\"1561\" y=\"-238.3\" font-family=\"Helvetica,sans-Serif\" font-size=\"14.00\">class = Yes</text>\n</g>\n<!-- 48&#45;&gt;50 -->\n<g id=\"edge50\" class=\"edge\">\n<title>48&#45;&gt;50</title>\n<path fill=\"none\" stroke=\"black\" d=\"M1590.12,-341.91C1590.95,-331.2 1591.84,-319.62 1592.67,-308.78\"/>\n<polygon fill=\"black\" stroke=\"black\" points=\"1596.17,-308.91 1593.45,-298.67 1589.19,-308.37 1596.17,-308.91\"/>\n</g>\n<!-- 53 -->\n<g id=\"node54\" class=\"node\">\n<title>53</title>\n<path fill=\"#e58139\" stroke=\"black\" d=\"M1746.5,-655.5C1746.5,-655.5 1675.5,-655.5 1675.5,-655.5 1669.5,-655.5 1663.5,-649.5 1663.5,-643.5 1663.5,-643.5 1663.5,-599.5 1663.5,-599.5 1663.5,-593.5 1669.5,-587.5 1675.5,-587.5 1675.5,-587.5 1746.5,-587.5 1746.5,-587.5 1752.5,-587.5 1758.5,-593.5 1758.5,-599.5 1758.5,-599.5 1758.5,-643.5 1758.5,-643.5 1758.5,-649.5 1752.5,-655.5 1746.5,-655.5\"/>\n<text text-anchor=\"start\" x=\"1683\" y=\"-640.3\" font-family=\"Helvetica,sans-Serif\" font-size=\"14.00\">gini = 0.0</text>\n<text text-anchor=\"start\" x=\"1673.5\" y=\"-625.3\" font-family=\"Helvetica,sans-Serif\" font-size=\"14.00\">samples = 5</text>\n<text text-anchor=\"start\" x=\"1671.5\" y=\"-610.3\" font-family=\"Helvetica,sans-Serif\" font-size=\"14.00\">value = [5, 0]</text>\n<text text-anchor=\"start\" x=\"1679\" y=\"-595.3\" font-family=\"Helvetica,sans-Serif\" font-size=\"14.00\">class = No</text>\n</g>\n<!-- 52&#45;&gt;53 -->\n<g id=\"edge53\" class=\"edge\">\n<title>52&#45;&gt;53</title>\n<path fill=\"none\" stroke=\"black\" d=\"M1712.31,-698.91C1712.12,-688.2 1711.93,-676.62 1711.74,-665.78\"/>\n<polygon fill=\"black\" stroke=\"black\" points=\"1715.24,-665.61 1711.57,-655.67 1708.24,-665.73 1715.24,-665.61\"/>\n</g>\n<!-- 54 -->\n<g id=\"node55\" class=\"node\">\n<title>54</title>\n<path fill=\"#68b4eb\" stroke=\"black\" d=\"M1875,-663C1875,-663 1789,-663 1789,-663 1783,-663 1777,-657 1777,-651 1777,-651 1777,-592 1777,-592 1777,-586 1783,-580 1789,-580 1789,-580 1875,-580 1875,-580 1881,-580 1887,-586 1887,-592 1887,-592 1887,-651 1887,-651 1887,-657 1881,-663 1875,-663\"/>\n<text text-anchor=\"start\" x=\"1795\" y=\"-647.8\" font-family=\"Helvetica,sans-Serif\" font-size=\"14.00\">chol ≤ 271.0</text>\n<text text-anchor=\"start\" x=\"1800\" y=\"-632.8\" font-family=\"Helvetica,sans-Serif\" font-size=\"14.00\">gini = 0.31</text>\n<text text-anchor=\"start\" x=\"1791\" y=\"-617.8\" font-family=\"Helvetica,sans-Serif\" font-size=\"14.00\">samples = 94</text>\n<text text-anchor=\"start\" x=\"1785\" y=\"-602.8\" font-family=\"Helvetica,sans-Serif\" font-size=\"14.00\">value = [18, 76]</text>\n<text text-anchor=\"start\" x=\"1797\" y=\"-587.8\" font-family=\"Helvetica,sans-Serif\" font-size=\"14.00\">class = Yes</text>\n</g>\n<!-- 52&#45;&gt;54 -->\n<g id=\"edge54\" class=\"edge\">\n<title>52&#45;&gt;54</title>\n<path fill=\"none\" stroke=\"black\" d=\"M1754.29,-698.91C1763.7,-689.65 1773.79,-679.73 1783.48,-670.21\"/>\n<polygon fill=\"black\" stroke=\"black\" points=\"1786.11,-672.53 1790.79,-663.02 1781.2,-667.54 1786.11,-672.53\"/>\n</g>\n<!-- 55 -->\n<g id=\"node56\" class=\"node\">\n<title>55</title>\n<path fill=\"#48a5e7\" stroke=\"black\" d=\"M1868,-544C1868,-544 1790,-544 1790,-544 1784,-544 1778,-538 1778,-532 1778,-532 1778,-473 1778,-473 1778,-467 1784,-461 1790,-461 1790,-461 1868,-461 1868,-461 1874,-461 1880,-467 1880,-473 1880,-473 1880,-532 1880,-532 1880,-538 1874,-544 1868,-544\"/>\n<text text-anchor=\"start\" x=\"1804.5\" y=\"-528.8\" font-family=\"Helvetica,sans-Serif\" font-size=\"14.00\">ca ≤ 0.5</text>\n<text text-anchor=\"start\" x=\"1793.5\" y=\"-513.8\" font-family=\"Helvetica,sans-Serif\" font-size=\"14.00\">gini = 0.133</text>\n<text text-anchor=\"start\" x=\"1788\" y=\"-498.8\" font-family=\"Helvetica,sans-Serif\" font-size=\"14.00\">samples = 56</text>\n<text text-anchor=\"start\" x=\"1786\" y=\"-483.8\" font-family=\"Helvetica,sans-Serif\" font-size=\"14.00\">value = [4, 52]</text>\n<text text-anchor=\"start\" x=\"1794\" y=\"-468.8\" font-family=\"Helvetica,sans-Serif\" font-size=\"14.00\">class = Yes</text>\n</g>\n<!-- 54&#45;&gt;55 -->\n<g id=\"edge55\" class=\"edge\">\n<title>54&#45;&gt;55</title>\n<path fill=\"none\" stroke=\"black\" d=\"M1830.96,-579.91C1830.75,-571.56 1830.52,-562.67 1830.3,-554.02\"/>\n<polygon fill=\"black\" stroke=\"black\" points=\"1833.79,-553.93 1830.04,-544.02 1826.8,-554.11 1833.79,-553.93\"/>\n</g>\n<!-- 60 -->\n<g id=\"node61\" class=\"node\">\n<title>60</title>\n<path fill=\"#acd6f4\" stroke=\"black\" d=\"M1996,-544C1996,-544 1910,-544 1910,-544 1904,-544 1898,-538 1898,-532 1898,-532 1898,-473 1898,-473 1898,-467 1904,-461 1910,-461 1910,-461 1996,-461 1996,-461 2002,-461 2008,-467 2008,-473 2008,-473 2008,-532 2008,-532 2008,-538 2002,-544 1996,-544\"/>\n<text text-anchor=\"start\" x=\"1925.5\" y=\"-528.8\" font-family=\"Helvetica,sans-Serif\" font-size=\"14.00\">sex ≤ 0.5</text>\n<text text-anchor=\"start\" x=\"1917.5\" y=\"-513.8\" font-family=\"Helvetica,sans-Serif\" font-size=\"14.00\">gini = 0.465</text>\n<text text-anchor=\"start\" x=\"1912\" y=\"-498.8\" font-family=\"Helvetica,sans-Serif\" font-size=\"14.00\">samples = 38</text>\n<text text-anchor=\"start\" x=\"1906\" y=\"-483.8\" font-family=\"Helvetica,sans-Serif\" font-size=\"14.00\">value = [14, 24]</text>\n<text text-anchor=\"start\" x=\"1918\" y=\"-468.8\" font-family=\"Helvetica,sans-Serif\" font-size=\"14.00\">class = Yes</text>\n</g>\n<!-- 54&#45;&gt;60 -->\n<g id=\"edge60\" class=\"edge\">\n<title>54&#45;&gt;60</title>\n<path fill=\"none\" stroke=\"black\" d=\"M1873.98,-579.91C1883.55,-570.65 1893.81,-560.73 1903.66,-551.21\"/>\n<polygon fill=\"black\" stroke=\"black\" points=\"1906.34,-553.49 1911.09,-544.02 1901.47,-548.46 1906.34,-553.49\"/>\n</g>\n<!-- 56 -->\n<g id=\"node57\" class=\"node\">\n<title>56</title>\n<path fill=\"#399de5\" stroke=\"black\" d=\"M1748,-417.5C1748,-417.5 1670,-417.5 1670,-417.5 1664,-417.5 1658,-411.5 1658,-405.5 1658,-405.5 1658,-361.5 1658,-361.5 1658,-355.5 1664,-349.5 1670,-349.5 1670,-349.5 1748,-349.5 1748,-349.5 1754,-349.5 1760,-355.5 1760,-361.5 1760,-361.5 1760,-405.5 1760,-405.5 1760,-411.5 1754,-417.5 1748,-417.5\"/>\n<text text-anchor=\"start\" x=\"1681\" y=\"-402.3\" font-family=\"Helvetica,sans-Serif\" font-size=\"14.00\">gini = 0.0</text>\n<text text-anchor=\"start\" x=\"1668\" y=\"-387.3\" font-family=\"Helvetica,sans-Serif\" font-size=\"14.00\">samples = 40</text>\n<text text-anchor=\"start\" x=\"1666\" y=\"-372.3\" font-family=\"Helvetica,sans-Serif\" font-size=\"14.00\">value = [0, 40]</text>\n<text text-anchor=\"start\" x=\"1674\" y=\"-357.3\" font-family=\"Helvetica,sans-Serif\" font-size=\"14.00\">class = Yes</text>\n</g>\n<!-- 55&#45;&gt;56 -->\n<g id=\"edge56\" class=\"edge\">\n<title>55&#45;&gt;56</title>\n<path fill=\"none\" stroke=\"black\" d=\"M1787.37,-460.91C1775.37,-449.21 1762.29,-436.46 1750.31,-424.78\"/>\n<polygon fill=\"black\" stroke=\"black\" points=\"1752.62,-422.14 1743.02,-417.67 1747.73,-427.15 1752.62,-422.14\"/>\n</g>\n<!-- 57 -->\n<g id=\"node58\" class=\"node\">\n<title>57</title>\n<path fill=\"#7bbeee\" stroke=\"black\" d=\"M1868,-425C1868,-425 1790,-425 1790,-425 1784,-425 1778,-419 1778,-413 1778,-413 1778,-354 1778,-354 1778,-348 1784,-342 1790,-342 1790,-342 1868,-342 1868,-342 1874,-342 1880,-348 1880,-354 1880,-354 1880,-413 1880,-413 1880,-419 1874,-425 1868,-425\"/>\n<text text-anchor=\"start\" x=\"1797\" y=\"-409.8\" font-family=\"Helvetica,sans-Serif\" font-size=\"14.00\">age ≤ 61.0</text>\n<text text-anchor=\"start\" x=\"1793.5\" y=\"-394.8\" font-family=\"Helvetica,sans-Serif\" font-size=\"14.00\">gini = 0.375</text>\n<text text-anchor=\"start\" x=\"1788\" y=\"-379.8\" font-family=\"Helvetica,sans-Serif\" font-size=\"14.00\">samples = 16</text>\n<text text-anchor=\"start\" x=\"1786\" y=\"-364.8\" font-family=\"Helvetica,sans-Serif\" font-size=\"14.00\">value = [4, 12]</text>\n<text text-anchor=\"start\" x=\"1794\" y=\"-349.8\" font-family=\"Helvetica,sans-Serif\" font-size=\"14.00\">class = Yes</text>\n</g>\n<!-- 55&#45;&gt;57 -->\n<g id=\"edge57\" class=\"edge\">\n<title>55&#45;&gt;57</title>\n<path fill=\"none\" stroke=\"black\" d=\"M1829,-460.91C1829,-452.65 1829,-443.86 1829,-435.3\"/>\n<polygon fill=\"black\" stroke=\"black\" points=\"1832.5,-435.02 1829,-425.02 1825.5,-435.02 1832.5,-435.02\"/>\n</g>\n<!-- 58 -->\n<g id=\"node59\" class=\"node\">\n<title>58</title>\n<path fill=\"#e58139\" stroke=\"black\" d=\"M1747.5,-298.5C1747.5,-298.5 1676.5,-298.5 1676.5,-298.5 1670.5,-298.5 1664.5,-292.5 1664.5,-286.5 1664.5,-286.5 1664.5,-242.5 1664.5,-242.5 1664.5,-236.5 1670.5,-230.5 1676.5,-230.5 1676.5,-230.5 1747.5,-230.5 1747.5,-230.5 1753.5,-230.5 1759.5,-236.5 1759.5,-242.5 1759.5,-242.5 1759.5,-286.5 1759.5,-286.5 1759.5,-292.5 1753.5,-298.5 1747.5,-298.5\"/>\n<text text-anchor=\"start\" x=\"1684\" y=\"-283.3\" font-family=\"Helvetica,sans-Serif\" font-size=\"14.00\">gini = 0.0</text>\n<text text-anchor=\"start\" x=\"1674.5\" y=\"-268.3\" font-family=\"Helvetica,sans-Serif\" font-size=\"14.00\">samples = 4</text>\n<text text-anchor=\"start\" x=\"1672.5\" y=\"-253.3\" font-family=\"Helvetica,sans-Serif\" font-size=\"14.00\">value = [4, 0]</text>\n<text text-anchor=\"start\" x=\"1680\" y=\"-238.3\" font-family=\"Helvetica,sans-Serif\" font-size=\"14.00\">class = No</text>\n</g>\n<!-- 57&#45;&gt;58 -->\n<g id=\"edge58\" class=\"edge\">\n<title>57&#45;&gt;58</title>\n<path fill=\"none\" stroke=\"black\" d=\"M1788.41,-341.91C1776.71,-330.21 1763.96,-317.46 1752.28,-305.78\"/>\n<polygon fill=\"black\" stroke=\"black\" points=\"1754.71,-303.26 1745.17,-298.67 1749.76,-308.21 1754.71,-303.26\"/>\n</g>\n<!-- 59 -->\n<g id=\"node60\" class=\"node\">\n<title>59</title>\n<path fill=\"#399de5\" stroke=\"black\" d=\"M1868,-298.5C1868,-298.5 1790,-298.5 1790,-298.5 1784,-298.5 1778,-292.5 1778,-286.5 1778,-286.5 1778,-242.5 1778,-242.5 1778,-236.5 1784,-230.5 1790,-230.5 1790,-230.5 1868,-230.5 1868,-230.5 1874,-230.5 1880,-236.5 1880,-242.5 1880,-242.5 1880,-286.5 1880,-286.5 1880,-292.5 1874,-298.5 1868,-298.5\"/>\n<text text-anchor=\"start\" x=\"1801\" y=\"-283.3\" font-family=\"Helvetica,sans-Serif\" font-size=\"14.00\">gini = 0.0</text>\n<text text-anchor=\"start\" x=\"1788\" y=\"-268.3\" font-family=\"Helvetica,sans-Serif\" font-size=\"14.00\">samples = 12</text>\n<text text-anchor=\"start\" x=\"1786\" y=\"-253.3\" font-family=\"Helvetica,sans-Serif\" font-size=\"14.00\">value = [0, 12]</text>\n<text text-anchor=\"start\" x=\"1794\" y=\"-238.3\" font-family=\"Helvetica,sans-Serif\" font-size=\"14.00\">class = Yes</text>\n</g>\n<!-- 57&#45;&gt;59 -->\n<g id=\"edge59\" class=\"edge\">\n<title>57&#45;&gt;59</title>\n<path fill=\"none\" stroke=\"black\" d=\"M1829,-341.91C1829,-331.2 1829,-319.62 1829,-308.78\"/>\n<polygon fill=\"black\" stroke=\"black\" points=\"1832.5,-308.67 1829,-298.67 1825.5,-308.67 1832.5,-308.67\"/>\n</g>\n<!-- 61 -->\n<g id=\"node62\" class=\"node\">\n<title>61</title>\n<path fill=\"#5aade9\" stroke=\"black\" d=\"M1990,-425C1990,-425 1912,-425 1912,-425 1906,-425 1900,-419 1900,-413 1900,-413 1900,-354 1900,-354 1900,-348 1906,-342 1912,-342 1912,-342 1990,-342 1990,-342 1996,-342 2002,-348 2002,-354 2002,-354 2002,-413 2002,-413 2002,-419 1996,-425 1990,-425\"/>\n<text text-anchor=\"start\" x=\"1926.5\" y=\"-409.8\" font-family=\"Helvetica,sans-Serif\" font-size=\"14.00\">ca ≤ 1.5</text>\n<text text-anchor=\"start\" x=\"1915.5\" y=\"-394.8\" font-family=\"Helvetica,sans-Serif\" font-size=\"14.00\">gini = 0.245</text>\n<text text-anchor=\"start\" x=\"1910\" y=\"-379.8\" font-family=\"Helvetica,sans-Serif\" font-size=\"14.00\">samples = 28</text>\n<text text-anchor=\"start\" x=\"1908\" y=\"-364.8\" font-family=\"Helvetica,sans-Serif\" font-size=\"14.00\">value = [4, 24]</text>\n<text text-anchor=\"start\" x=\"1916\" y=\"-349.8\" font-family=\"Helvetica,sans-Serif\" font-size=\"14.00\">class = Yes</text>\n</g>\n<!-- 60&#45;&gt;61 -->\n<g id=\"edge61\" class=\"edge\">\n<title>60&#45;&gt;61</title>\n<path fill=\"none\" stroke=\"black\" d=\"M1952.31,-460.91C1952.16,-452.56 1952.01,-443.67 1951.86,-435.02\"/>\n<polygon fill=\"black\" stroke=\"black\" points=\"1955.36,-434.96 1951.69,-425.02 1948.36,-435.08 1955.36,-434.96\"/>\n</g>\n<!-- 66 -->\n<g id=\"node67\" class=\"node\">\n<title>66</title>\n<path fill=\"#e58139\" stroke=\"black\" d=\"M2110,-417.5C2110,-417.5 2032,-417.5 2032,-417.5 2026,-417.5 2020,-411.5 2020,-405.5 2020,-405.5 2020,-361.5 2020,-361.5 2020,-355.5 2026,-349.5 2032,-349.5 2032,-349.5 2110,-349.5 2110,-349.5 2116,-349.5 2122,-355.5 2122,-361.5 2122,-361.5 2122,-405.5 2122,-405.5 2122,-411.5 2116,-417.5 2110,-417.5\"/>\n<text text-anchor=\"start\" x=\"2043\" y=\"-402.3\" font-family=\"Helvetica,sans-Serif\" font-size=\"14.00\">gini = 0.0</text>\n<text text-anchor=\"start\" x=\"2030\" y=\"-387.3\" font-family=\"Helvetica,sans-Serif\" font-size=\"14.00\">samples = 10</text>\n<text text-anchor=\"start\" x=\"2028\" y=\"-372.3\" font-family=\"Helvetica,sans-Serif\" font-size=\"14.00\">value = [10, 0]</text>\n<text text-anchor=\"start\" x=\"2039\" y=\"-357.3\" font-family=\"Helvetica,sans-Serif\" font-size=\"14.00\">class = No</text>\n</g>\n<!-- 60&#45;&gt;66 -->\n<g id=\"edge66\" class=\"edge\">\n<title>60&#45;&gt;66</title>\n<path fill=\"none\" stroke=\"black\" d=\"M1993.94,-460.91C2005.74,-449.21 2018.6,-436.46 2030.38,-424.78\"/>\n<polygon fill=\"black\" stroke=\"black\" points=\"2032.91,-427.19 2037.55,-417.67 2027.98,-422.22 2032.91,-427.19\"/>\n</g>\n<!-- 62 -->\n<g id=\"node63\" class=\"node\">\n<title>62</title>\n<path fill=\"#399de5\" stroke=\"black\" d=\"M1988,-298.5C1988,-298.5 1910,-298.5 1910,-298.5 1904,-298.5 1898,-292.5 1898,-286.5 1898,-286.5 1898,-242.5 1898,-242.5 1898,-236.5 1904,-230.5 1910,-230.5 1910,-230.5 1988,-230.5 1988,-230.5 1994,-230.5 2000,-236.5 2000,-242.5 2000,-242.5 2000,-286.5 2000,-286.5 2000,-292.5 1994,-298.5 1988,-298.5\"/>\n<text text-anchor=\"start\" x=\"1921\" y=\"-283.3\" font-family=\"Helvetica,sans-Serif\" font-size=\"14.00\">gini = 0.0</text>\n<text text-anchor=\"start\" x=\"1908\" y=\"-268.3\" font-family=\"Helvetica,sans-Serif\" font-size=\"14.00\">samples = 21</text>\n<text text-anchor=\"start\" x=\"1906\" y=\"-253.3\" font-family=\"Helvetica,sans-Serif\" font-size=\"14.00\">value = [0, 21]</text>\n<text text-anchor=\"start\" x=\"1914\" y=\"-238.3\" font-family=\"Helvetica,sans-Serif\" font-size=\"14.00\">class = Yes</text>\n</g>\n<!-- 61&#45;&gt;62 -->\n<g id=\"edge62\" class=\"edge\">\n<title>61&#45;&gt;62</title>\n<path fill=\"none\" stroke=\"black\" d=\"M1950.31,-341.91C1950.12,-331.2 1949.93,-319.62 1949.74,-308.78\"/>\n<polygon fill=\"black\" stroke=\"black\" points=\"1953.24,-308.61 1949.57,-298.67 1946.24,-308.73 1953.24,-308.61\"/>\n</g>\n<!-- 63 -->\n<g id=\"node64\" class=\"node\">\n<title>63</title>\n<path fill=\"#f8e0ce\" stroke=\"black\" d=\"M2101.5,-306C2101.5,-306 2030.5,-306 2030.5,-306 2024.5,-306 2018.5,-300 2018.5,-294 2018.5,-294 2018.5,-235 2018.5,-235 2018.5,-229 2024.5,-223 2030.5,-223 2030.5,-223 2101.5,-223 2101.5,-223 2107.5,-223 2113.5,-229 2113.5,-235 2113.5,-235 2113.5,-294 2113.5,-294 2113.5,-300 2107.5,-306 2101.5,-306\"/>\n<text text-anchor=\"start\" x=\"2040\" y=\"-290.8\" font-family=\"Helvetica,sans-Serif\" font-size=\"14.00\">fbs ≤ 0.5</text>\n<text text-anchor=\"start\" x=\"2034\" y=\"-275.8\" font-family=\"Helvetica,sans-Serif\" font-size=\"14.00\">gini = 0.49</text>\n<text text-anchor=\"start\" x=\"2028.5\" y=\"-260.8\" font-family=\"Helvetica,sans-Serif\" font-size=\"14.00\">samples = 7</text>\n<text text-anchor=\"start\" x=\"2026.5\" y=\"-245.8\" font-family=\"Helvetica,sans-Serif\" font-size=\"14.00\">value = [4, 3]</text>\n<text text-anchor=\"start\" x=\"2034\" y=\"-230.8\" font-family=\"Helvetica,sans-Serif\" font-size=\"14.00\">class = No</text>\n</g>\n<!-- 61&#45;&gt;63 -->\n<g id=\"edge63\" class=\"edge\">\n<title>61&#45;&gt;63</title>\n<path fill=\"none\" stroke=\"black\" d=\"M1990.9,-341.91C2000,-332.65 2009.75,-322.73 2019.11,-313.21\"/>\n<polygon fill=\"black\" stroke=\"black\" points=\"2021.66,-315.61 2026.17,-306.02 2016.67,-310.7 2021.66,-315.61\"/>\n</g>\n<!-- 64 -->\n<g id=\"node65\" class=\"node\">\n<title>64</title>\n<path fill=\"#399de5\" stroke=\"black\" d=\"M1988.5,-179.5C1988.5,-179.5 1917.5,-179.5 1917.5,-179.5 1911.5,-179.5 1905.5,-173.5 1905.5,-167.5 1905.5,-167.5 1905.5,-123.5 1905.5,-123.5 1905.5,-117.5 1911.5,-111.5 1917.5,-111.5 1917.5,-111.5 1988.5,-111.5 1988.5,-111.5 1994.5,-111.5 2000.5,-117.5 2000.5,-123.5 2000.5,-123.5 2000.5,-167.5 2000.5,-167.5 2000.5,-173.5 1994.5,-179.5 1988.5,-179.5\"/>\n<text text-anchor=\"start\" x=\"1925\" y=\"-164.3\" font-family=\"Helvetica,sans-Serif\" font-size=\"14.00\">gini = 0.0</text>\n<text text-anchor=\"start\" x=\"1915.5\" y=\"-149.3\" font-family=\"Helvetica,sans-Serif\" font-size=\"14.00\">samples = 3</text>\n<text text-anchor=\"start\" x=\"1913.5\" y=\"-134.3\" font-family=\"Helvetica,sans-Serif\" font-size=\"14.00\">value = [0, 3]</text>\n<text text-anchor=\"start\" x=\"1918\" y=\"-119.3\" font-family=\"Helvetica,sans-Serif\" font-size=\"14.00\">class = Yes</text>\n</g>\n<!-- 63&#45;&gt;64 -->\n<g id=\"edge64\" class=\"edge\">\n<title>63&#45;&gt;64</title>\n<path fill=\"none\" stroke=\"black\" d=\"M2026.8,-222.91C2015.61,-211.32 2003.41,-198.7 1992.22,-187.11\"/>\n<polygon fill=\"black\" stroke=\"black\" points=\"1994.5,-184.43 1985.03,-179.67 1989.46,-189.29 1994.5,-184.43\"/>\n</g>\n<!-- 65 -->\n<g id=\"node66\" class=\"node\">\n<title>65</title>\n<path fill=\"#e58139\" stroke=\"black\" d=\"M2101.5,-179.5C2101.5,-179.5 2030.5,-179.5 2030.5,-179.5 2024.5,-179.5 2018.5,-173.5 2018.5,-167.5 2018.5,-167.5 2018.5,-123.5 2018.5,-123.5 2018.5,-117.5 2024.5,-111.5 2030.5,-111.5 2030.5,-111.5 2101.5,-111.5 2101.5,-111.5 2107.5,-111.5 2113.5,-117.5 2113.5,-123.5 2113.5,-123.5 2113.5,-167.5 2113.5,-167.5 2113.5,-173.5 2107.5,-179.5 2101.5,-179.5\"/>\n<text text-anchor=\"start\" x=\"2038\" y=\"-164.3\" font-family=\"Helvetica,sans-Serif\" font-size=\"14.00\">gini = 0.0</text>\n<text text-anchor=\"start\" x=\"2028.5\" y=\"-149.3\" font-family=\"Helvetica,sans-Serif\" font-size=\"14.00\">samples = 4</text>\n<text text-anchor=\"start\" x=\"2026.5\" y=\"-134.3\" font-family=\"Helvetica,sans-Serif\" font-size=\"14.00\">value = [4, 0]</text>\n<text text-anchor=\"start\" x=\"2034\" y=\"-119.3\" font-family=\"Helvetica,sans-Serif\" font-size=\"14.00\">class = No</text>\n</g>\n<!-- 63&#45;&gt;65 -->\n<g id=\"edge65\" class=\"edge\">\n<title>63&#45;&gt;65</title>\n<path fill=\"none\" stroke=\"black\" d=\"M2066,-222.91C2066,-212.2 2066,-200.62 2066,-189.78\"/>\n<polygon fill=\"black\" stroke=\"black\" points=\"2069.5,-189.67 2066,-179.67 2062.5,-189.67 2069.5,-189.67\"/>\n</g>\n<!-- 68 -->\n<g id=\"node69\" class=\"node\">\n<title>68</title>\n<path fill=\"#399de5\" stroke=\"black\" d=\"M1882.5,-774.5C1882.5,-774.5 1811.5,-774.5 1811.5,-774.5 1805.5,-774.5 1799.5,-768.5 1799.5,-762.5 1799.5,-762.5 1799.5,-718.5 1799.5,-718.5 1799.5,-712.5 1805.5,-706.5 1811.5,-706.5 1811.5,-706.5 1882.5,-706.5 1882.5,-706.5 1888.5,-706.5 1894.5,-712.5 1894.5,-718.5 1894.5,-718.5 1894.5,-762.5 1894.5,-762.5 1894.5,-768.5 1888.5,-774.5 1882.5,-774.5\"/>\n<text text-anchor=\"start\" x=\"1819\" y=\"-759.3\" font-family=\"Helvetica,sans-Serif\" font-size=\"14.00\">gini = 0.0</text>\n<text text-anchor=\"start\" x=\"1809.5\" y=\"-744.3\" font-family=\"Helvetica,sans-Serif\" font-size=\"14.00\">samples = 8</text>\n<text text-anchor=\"start\" x=\"1807.5\" y=\"-729.3\" font-family=\"Helvetica,sans-Serif\" font-size=\"14.00\">value = [0, 8]</text>\n<text text-anchor=\"start\" x=\"1812\" y=\"-714.3\" font-family=\"Helvetica,sans-Serif\" font-size=\"14.00\">class = Yes</text>\n</g>\n<!-- 67&#45;&gt;68 -->\n<g id=\"edge68\" class=\"edge\">\n<title>67&#45;&gt;68</title>\n<path fill=\"none\" stroke=\"black\" d=\"M1848.31,-817.91C1848.12,-807.2 1847.93,-795.62 1847.74,-784.78\"/>\n<polygon fill=\"black\" stroke=\"black\" points=\"1851.24,-784.61 1847.57,-774.67 1844.24,-784.73 1851.24,-784.61\"/>\n</g>\n<!-- 69 -->\n<g id=\"node70\" class=\"node\">\n<title>69</title>\n<path fill=\"#e78b48\" stroke=\"black\" d=\"M2003,-782C2003,-782 1925,-782 1925,-782 1919,-782 1913,-776 1913,-770 1913,-770 1913,-711 1913,-711 1913,-705 1919,-699 1925,-699 1925,-699 2003,-699 2003,-699 2009,-699 2015,-705 2015,-711 2015,-711 2015,-770 2015,-770 2015,-776 2009,-782 2003,-782\"/>\n<text text-anchor=\"start\" x=\"1927\" y=\"-766.8\" font-family=\"Helvetica,sans-Serif\" font-size=\"14.00\">chol ≤ 239.5</text>\n<text text-anchor=\"start\" x=\"1928.5\" y=\"-751.8\" font-family=\"Helvetica,sans-Serif\" font-size=\"14.00\">gini = 0.133</text>\n<text text-anchor=\"start\" x=\"1923\" y=\"-736.8\" font-family=\"Helvetica,sans-Serif\" font-size=\"14.00\">samples = 14</text>\n<text text-anchor=\"start\" x=\"1921\" y=\"-721.8\" font-family=\"Helvetica,sans-Serif\" font-size=\"14.00\">value = [13, 1]</text>\n<text text-anchor=\"start\" x=\"1932\" y=\"-706.8\" font-family=\"Helvetica,sans-Serif\" font-size=\"14.00\">class = No</text>\n</g>\n<!-- 67&#45;&gt;69 -->\n<g id=\"edge69\" class=\"edge\">\n<title>67&#45;&gt;69</title>\n<path fill=\"none\" stroke=\"black\" d=\"M1888.9,-817.91C1898,-808.65 1907.75,-798.73 1917.11,-789.21\"/>\n<polygon fill=\"black\" stroke=\"black\" points=\"1919.66,-791.61 1924.17,-782.02 1914.67,-786.7 1919.66,-791.61\"/>\n</g>\n<!-- 70 -->\n<g id=\"node71\" class=\"node\">\n<title>70</title>\n<path fill=\"#e58139\" stroke=\"black\" d=\"M2001,-655.5C2001,-655.5 1923,-655.5 1923,-655.5 1917,-655.5 1911,-649.5 1911,-643.5 1911,-643.5 1911,-599.5 1911,-599.5 1911,-593.5 1917,-587.5 1923,-587.5 1923,-587.5 2001,-587.5 2001,-587.5 2007,-587.5 2013,-593.5 2013,-599.5 2013,-599.5 2013,-643.5 2013,-643.5 2013,-649.5 2007,-655.5 2001,-655.5\"/>\n<text text-anchor=\"start\" x=\"1934\" y=\"-640.3\" font-family=\"Helvetica,sans-Serif\" font-size=\"14.00\">gini = 0.0</text>\n<text text-anchor=\"start\" x=\"1921\" y=\"-625.3\" font-family=\"Helvetica,sans-Serif\" font-size=\"14.00\">samples = 13</text>\n<text text-anchor=\"start\" x=\"1919\" y=\"-610.3\" font-family=\"Helvetica,sans-Serif\" font-size=\"14.00\">value = [13, 0]</text>\n<text text-anchor=\"start\" x=\"1930\" y=\"-595.3\" font-family=\"Helvetica,sans-Serif\" font-size=\"14.00\">class = No</text>\n</g>\n<!-- 69&#45;&gt;70 -->\n<g id=\"edge70\" class=\"edge\">\n<title>69&#45;&gt;70</title>\n<path fill=\"none\" stroke=\"black\" d=\"M1963.31,-698.91C1963.12,-688.2 1962.93,-676.62 1962.74,-665.78\"/>\n<polygon fill=\"black\" stroke=\"black\" points=\"1966.24,-665.61 1962.57,-655.67 1959.24,-665.73 1966.24,-665.61\"/>\n</g>\n<!-- 71 -->\n<g id=\"node72\" class=\"node\">\n<title>71</title>\n<path fill=\"#399de5\" stroke=\"black\" d=\"M2114.5,-655.5C2114.5,-655.5 2043.5,-655.5 2043.5,-655.5 2037.5,-655.5 2031.5,-649.5 2031.5,-643.5 2031.5,-643.5 2031.5,-599.5 2031.5,-599.5 2031.5,-593.5 2037.5,-587.5 2043.5,-587.5 2043.5,-587.5 2114.5,-587.5 2114.5,-587.5 2120.5,-587.5 2126.5,-593.5 2126.5,-599.5 2126.5,-599.5 2126.5,-643.5 2126.5,-643.5 2126.5,-649.5 2120.5,-655.5 2114.5,-655.5\"/>\n<text text-anchor=\"start\" x=\"2051\" y=\"-640.3\" font-family=\"Helvetica,sans-Serif\" font-size=\"14.00\">gini = 0.0</text>\n<text text-anchor=\"start\" x=\"2041.5\" y=\"-625.3\" font-family=\"Helvetica,sans-Serif\" font-size=\"14.00\">samples = 1</text>\n<text text-anchor=\"start\" x=\"2039.5\" y=\"-610.3\" font-family=\"Helvetica,sans-Serif\" font-size=\"14.00\">value = [0, 1]</text>\n<text text-anchor=\"start\" x=\"2044\" y=\"-595.3\" font-family=\"Helvetica,sans-Serif\" font-size=\"14.00\">class = Yes</text>\n</g>\n<!-- 69&#45;&gt;71 -->\n<g id=\"edge71\" class=\"edge\">\n<title>69&#45;&gt;71</title>\n<path fill=\"none\" stroke=\"black\" d=\"M2003.9,-698.91C2015.29,-687.32 2027.69,-674.7 2039.08,-663.11\"/>\n<polygon fill=\"black\" stroke=\"black\" points=\"2041.89,-665.25 2046.4,-655.67 2036.89,-660.35 2041.89,-665.25\"/>\n</g>\n<!-- 73 -->\n<g id=\"node74\" class=\"node\">\n<title>73</title>\n<path fill=\"#e58139\" stroke=\"black\" d=\"M2196,-893.5C2196,-893.5 2118,-893.5 2118,-893.5 2112,-893.5 2106,-887.5 2106,-881.5 2106,-881.5 2106,-837.5 2106,-837.5 2106,-831.5 2112,-825.5 2118,-825.5 2118,-825.5 2196,-825.5 2196,-825.5 2202,-825.5 2208,-831.5 2208,-837.5 2208,-837.5 2208,-881.5 2208,-881.5 2208,-887.5 2202,-893.5 2196,-893.5\"/>\n<text text-anchor=\"start\" x=\"2129\" y=\"-878.3\" font-family=\"Helvetica,sans-Serif\" font-size=\"14.00\">gini = 0.0</text>\n<text text-anchor=\"start\" x=\"2116\" y=\"-863.3\" font-family=\"Helvetica,sans-Serif\" font-size=\"14.00\">samples = 15</text>\n<text text-anchor=\"start\" x=\"2114\" y=\"-848.3\" font-family=\"Helvetica,sans-Serif\" font-size=\"14.00\">value = [15, 0]</text>\n<text text-anchor=\"start\" x=\"2125\" y=\"-833.3\" font-family=\"Helvetica,sans-Serif\" font-size=\"14.00\">class = No</text>\n</g>\n<!-- 72&#45;&gt;73 -->\n<g id=\"edge73\" class=\"edge\">\n<title>72&#45;&gt;73</title>\n<path fill=\"none\" stroke=\"black\" d=\"M2157,-936.91C2157,-926.2 2157,-914.62 2157,-903.78\"/>\n<polygon fill=\"black\" stroke=\"black\" points=\"2160.5,-903.67 2157,-893.67 2153.5,-903.67 2160.5,-903.67\"/>\n</g>\n<!-- 74 -->\n<g id=\"node75\" class=\"node\">\n<title>74</title>\n<path fill=\"#d0e8f9\" stroke=\"black\" d=\"M2453,-901C2453,-901 2367,-901 2367,-901 2361,-901 2355,-895 2355,-889 2355,-889 2355,-830 2355,-830 2355,-824 2361,-818 2367,-818 2367,-818 2453,-818 2453,-818 2459,-818 2465,-824 2465,-830 2465,-830 2465,-889 2465,-889 2465,-895 2459,-901 2453,-901\"/>\n<text text-anchor=\"start\" x=\"2365.5\" y=\"-885.8\" font-family=\"Helvetica,sans-Serif\" font-size=\"14.00\">oldpeak ≤ 1.95</text>\n<text text-anchor=\"start\" x=\"2374.5\" y=\"-870.8\" font-family=\"Helvetica,sans-Serif\" font-size=\"14.00\">gini = 0.491</text>\n<text text-anchor=\"start\" x=\"2369\" y=\"-855.8\" font-family=\"Helvetica,sans-Serif\" font-size=\"14.00\">samples = 90</text>\n<text text-anchor=\"start\" x=\"2363\" y=\"-840.8\" font-family=\"Helvetica,sans-Serif\" font-size=\"14.00\">value = [39, 51]</text>\n<text text-anchor=\"start\" x=\"2375\" y=\"-825.8\" font-family=\"Helvetica,sans-Serif\" font-size=\"14.00\">class = Yes</text>\n</g>\n<!-- 72&#45;&gt;74 -->\n<g id=\"edge74\" class=\"edge\">\n<title>72&#45;&gt;74</title>\n<path fill=\"none\" stroke=\"black\" d=\"M2223.14,-946.91C2260.93,-929.44 2308.11,-907.62 2345.61,-890.28\"/>\n<polygon fill=\"black\" stroke=\"black\" points=\"2347.32,-893.34 2354.92,-885.97 2344.38,-886.99 2347.32,-893.34\"/>\n</g>\n<!-- 75 -->\n<g id=\"node76\" class=\"node\">\n<title>75</title>\n<path fill=\"#96cbf1\" stroke=\"black\" d=\"M2454.5,-782C2454.5,-782 2365.5,-782 2365.5,-782 2359.5,-782 2353.5,-776 2353.5,-770 2353.5,-770 2353.5,-711 2353.5,-711 2353.5,-705 2359.5,-699 2365.5,-699 2365.5,-699 2454.5,-699 2454.5,-699 2460.5,-699 2466.5,-705 2466.5,-711 2466.5,-711 2466.5,-770 2466.5,-770 2466.5,-776 2460.5,-782 2454.5,-782\"/>\n<text text-anchor=\"start\" x=\"2361.5\" y=\"-766.8\" font-family=\"Helvetica,sans-Serif\" font-size=\"14.00\">trestbps ≤ 176.0</text>\n<text text-anchor=\"start\" x=\"2374.5\" y=\"-751.8\" font-family=\"Helvetica,sans-Serif\" font-size=\"14.00\">gini = 0.435</text>\n<text text-anchor=\"start\" x=\"2369\" y=\"-736.8\" font-family=\"Helvetica,sans-Serif\" font-size=\"14.00\">samples = 72</text>\n<text text-anchor=\"start\" x=\"2363\" y=\"-721.8\" font-family=\"Helvetica,sans-Serif\" font-size=\"14.00\">value = [23, 49]</text>\n<text text-anchor=\"start\" x=\"2375\" y=\"-706.8\" font-family=\"Helvetica,sans-Serif\" font-size=\"14.00\">class = Yes</text>\n</g>\n<!-- 74&#45;&gt;75 -->\n<g id=\"edge75\" class=\"edge\">\n<title>74&#45;&gt;75</title>\n<path fill=\"none\" stroke=\"black\" d=\"M2410,-817.91C2410,-809.65 2410,-800.86 2410,-792.3\"/>\n<polygon fill=\"black\" stroke=\"black\" points=\"2413.5,-792.02 2410,-782.02 2406.5,-792.02 2413.5,-792.02\"/>\n</g>\n<!-- 96 -->\n<g id=\"node97\" class=\"node\">\n<title>96</title>\n<path fill=\"#e89152\" stroke=\"black\" d=\"M2629,-782C2629,-782 2551,-782 2551,-782 2545,-782 2539,-776 2539,-770 2539,-770 2539,-711 2539,-711 2539,-705 2545,-699 2551,-699 2551,-699 2629,-699 2629,-699 2635,-699 2641,-705 2641,-711 2641,-711 2641,-770 2641,-770 2641,-776 2635,-782 2629,-782\"/>\n<text text-anchor=\"start\" x=\"2556.5\" y=\"-766.8\" font-family=\"Helvetica,sans-Serif\" font-size=\"14.00\">slope ≤ 0.5</text>\n<text text-anchor=\"start\" x=\"2554.5\" y=\"-751.8\" font-family=\"Helvetica,sans-Serif\" font-size=\"14.00\">gini = 0.198</text>\n<text text-anchor=\"start\" x=\"2549\" y=\"-736.8\" font-family=\"Helvetica,sans-Serif\" font-size=\"14.00\">samples = 18</text>\n<text text-anchor=\"start\" x=\"2547\" y=\"-721.8\" font-family=\"Helvetica,sans-Serif\" font-size=\"14.00\">value = [16, 2]</text>\n<text text-anchor=\"start\" x=\"2558\" y=\"-706.8\" font-family=\"Helvetica,sans-Serif\" font-size=\"14.00\">class = No</text>\n</g>\n<!-- 74&#45;&gt;96 -->\n<g id=\"edge96\" class=\"edge\">\n<title>74&#45;&gt;96</title>\n<path fill=\"none\" stroke=\"black\" d=\"M2465.47,-822.44C2486.08,-809.05 2509.54,-793.8 2530.49,-780.18\"/>\n<polygon fill=\"black\" stroke=\"black\" points=\"2532.52,-783.03 2539,-774.65 2528.71,-777.17 2532.52,-783.03\"/>\n</g>\n<!-- 76 -->\n<g id=\"node77\" class=\"node\">\n<title>76</title>\n<path fill=\"#7ebfee\" stroke=\"black\" d=\"M2399,-663C2399,-663 2313,-663 2313,-663 2307,-663 2301,-657 2301,-651 2301,-651 2301,-592 2301,-592 2301,-586 2307,-580 2313,-580 2313,-580 2399,-580 2399,-580 2405,-580 2411,-586 2411,-592 2411,-592 2411,-651 2411,-651 2411,-657 2405,-663 2399,-663\"/>\n<text text-anchor=\"start\" x=\"2322.5\" y=\"-647.8\" font-family=\"Helvetica,sans-Serif\" font-size=\"14.00\">slope ≤ 1.5</text>\n<text text-anchor=\"start\" x=\"2320.5\" y=\"-632.8\" font-family=\"Helvetica,sans-Serif\" font-size=\"14.00\">gini = 0.382</text>\n<text text-anchor=\"start\" x=\"2315\" y=\"-617.8\" font-family=\"Helvetica,sans-Serif\" font-size=\"14.00\">samples = 66</text>\n<text text-anchor=\"start\" x=\"2309\" y=\"-602.8\" font-family=\"Helvetica,sans-Serif\" font-size=\"14.00\">value = [17, 49]</text>\n<text text-anchor=\"start\" x=\"2321\" y=\"-587.8\" font-family=\"Helvetica,sans-Serif\" font-size=\"14.00\">class = Yes</text>\n</g>\n<!-- 75&#45;&gt;76 -->\n<g id=\"edge76\" class=\"edge\">\n<title>75&#45;&gt;76</title>\n<path fill=\"none\" stroke=\"black\" d=\"M2391.26,-698.91C2387.29,-690.29 2383.04,-681.09 2378.93,-672.17\"/>\n<polygon fill=\"black\" stroke=\"black\" points=\"2382.07,-670.63 2374.7,-663.02 2375.71,-673.57 2382.07,-670.63\"/>\n</g>\n<!-- 95 -->\n<g id=\"node96\" class=\"node\">\n<title>95</title>\n<path fill=\"#e58139\" stroke=\"black\" d=\"M2512.5,-655.5C2512.5,-655.5 2441.5,-655.5 2441.5,-655.5 2435.5,-655.5 2429.5,-649.5 2429.5,-643.5 2429.5,-643.5 2429.5,-599.5 2429.5,-599.5 2429.5,-593.5 2435.5,-587.5 2441.5,-587.5 2441.5,-587.5 2512.5,-587.5 2512.5,-587.5 2518.5,-587.5 2524.5,-593.5 2524.5,-599.5 2524.5,-599.5 2524.5,-643.5 2524.5,-643.5 2524.5,-649.5 2518.5,-655.5 2512.5,-655.5\"/>\n<text text-anchor=\"start\" x=\"2449\" y=\"-640.3\" font-family=\"Helvetica,sans-Serif\" font-size=\"14.00\">gini = 0.0</text>\n<text text-anchor=\"start\" x=\"2439.5\" y=\"-625.3\" font-family=\"Helvetica,sans-Serif\" font-size=\"14.00\">samples = 6</text>\n<text text-anchor=\"start\" x=\"2437.5\" y=\"-610.3\" font-family=\"Helvetica,sans-Serif\" font-size=\"14.00\">value = [6, 0]</text>\n<text text-anchor=\"start\" x=\"2445\" y=\"-595.3\" font-family=\"Helvetica,sans-Serif\" font-size=\"14.00\">class = No</text>\n</g>\n<!-- 75&#45;&gt;95 -->\n<g id=\"edge95\" class=\"edge\">\n<title>75&#45;&gt;95</title>\n<path fill=\"none\" stroke=\"black\" d=\"M2433.25,-698.91C2439.63,-687.76 2446.56,-675.66 2452.98,-664.44\"/>\n<polygon fill=\"black\" stroke=\"black\" points=\"2456.07,-666.08 2458.01,-655.67 2450,-662.61 2456.07,-666.08\"/>\n</g>\n<!-- 77 -->\n<g id=\"node78\" class=\"node\">\n<title>77</title>\n<path fill=\"#c0e0f7\" stroke=\"black\" d=\"M2400.5,-544C2400.5,-544 2311.5,-544 2311.5,-544 2305.5,-544 2299.5,-538 2299.5,-532 2299.5,-532 2299.5,-473 2299.5,-473 2299.5,-467 2305.5,-461 2311.5,-461 2311.5,-461 2400.5,-461 2400.5,-461 2406.5,-461 2412.5,-467 2412.5,-473 2412.5,-473 2412.5,-532 2412.5,-532 2412.5,-538 2406.5,-544 2400.5,-544\"/>\n<text text-anchor=\"start\" x=\"2307.5\" y=\"-528.8\" font-family=\"Helvetica,sans-Serif\" font-size=\"14.00\">trestbps ≤ 126.5</text>\n<text text-anchor=\"start\" x=\"2320.5\" y=\"-513.8\" font-family=\"Helvetica,sans-Serif\" font-size=\"14.00\">gini = 0.482</text>\n<text text-anchor=\"start\" x=\"2315\" y=\"-498.8\" font-family=\"Helvetica,sans-Serif\" font-size=\"14.00\">samples = 37</text>\n<text text-anchor=\"start\" x=\"2309\" y=\"-483.8\" font-family=\"Helvetica,sans-Serif\" font-size=\"14.00\">value = [15, 22]</text>\n<text text-anchor=\"start\" x=\"2321\" y=\"-468.8\" font-family=\"Helvetica,sans-Serif\" font-size=\"14.00\">class = Yes</text>\n</g>\n<!-- 76&#45;&gt;77 -->\n<g id=\"edge77\" class=\"edge\">\n<title>76&#45;&gt;77</title>\n<path fill=\"none\" stroke=\"black\" d=\"M2356,-579.91C2356,-571.65 2356,-562.86 2356,-554.3\"/>\n<polygon fill=\"black\" stroke=\"black\" points=\"2359.5,-554.02 2356,-544.02 2352.5,-554.02 2359.5,-554.02\"/>\n</g>\n<!-- 90 -->\n<g id=\"node91\" class=\"node\">\n<title>90</title>\n<path fill=\"#48a4e7\" stroke=\"black\" d=\"M2688.5,-544C2688.5,-544 2603.5,-544 2603.5,-544 2597.5,-544 2591.5,-538 2591.5,-532 2591.5,-532 2591.5,-473 2591.5,-473 2591.5,-467 2597.5,-461 2603.5,-461 2603.5,-461 2688.5,-461 2688.5,-461 2694.5,-461 2700.5,-467 2700.5,-473 2700.5,-473 2700.5,-532 2700.5,-532 2700.5,-538 2694.5,-544 2688.5,-544\"/>\n<text text-anchor=\"start\" x=\"2599.5\" y=\"-528.8\" font-family=\"Helvetica,sans-Serif\" font-size=\"14.00\">thalach ≤ 146.0</text>\n<text text-anchor=\"start\" x=\"2610.5\" y=\"-513.8\" font-family=\"Helvetica,sans-Serif\" font-size=\"14.00\">gini = 0.128</text>\n<text text-anchor=\"start\" x=\"2605\" y=\"-498.8\" font-family=\"Helvetica,sans-Serif\" font-size=\"14.00\">samples = 29</text>\n<text text-anchor=\"start\" x=\"2603\" y=\"-483.8\" font-family=\"Helvetica,sans-Serif\" font-size=\"14.00\">value = [2, 27]</text>\n<text text-anchor=\"start\" x=\"2611\" y=\"-468.8\" font-family=\"Helvetica,sans-Serif\" font-size=\"14.00\">class = Yes</text>\n</g>\n<!-- 76&#45;&gt;90 -->\n<g id=\"edge90\" class=\"edge\">\n<title>76&#45;&gt;90</title>\n<path fill=\"none\" stroke=\"black\" d=\"M2411.04,-584.54C2414.04,-582.94 2417.03,-581.42 2420,-580 2472.42,-554.98 2535.21,-534.42 2581.29,-520.94\"/>\n<polygon fill=\"black\" stroke=\"black\" points=\"2582.52,-524.23 2591.15,-518.09 2580.58,-517.5 2582.52,-524.23\"/>\n</g>\n<!-- 78 -->\n<g id=\"node79\" class=\"node\">\n<title>78</title>\n<path fill=\"#53aae8\" stroke=\"black\" d=\"M2335,-425C2335,-425 2257,-425 2257,-425 2251,-425 2245,-419 2245,-413 2245,-413 2245,-354 2245,-354 2245,-348 2251,-342 2257,-342 2257,-342 2335,-342 2335,-342 2341,-342 2347,-348 2347,-354 2347,-354 2347,-413 2347,-413 2347,-419 2341,-425 2335,-425\"/>\n<text text-anchor=\"start\" x=\"2264\" y=\"-409.8\" font-family=\"Helvetica,sans-Serif\" font-size=\"14.00\">age ≤ 51.0</text>\n<text text-anchor=\"start\" x=\"2260.5\" y=\"-394.8\" font-family=\"Helvetica,sans-Serif\" font-size=\"14.00\">gini = 0.208</text>\n<text text-anchor=\"start\" x=\"2255\" y=\"-379.8\" font-family=\"Helvetica,sans-Serif\" font-size=\"14.00\">samples = 17</text>\n<text text-anchor=\"start\" x=\"2253\" y=\"-364.8\" font-family=\"Helvetica,sans-Serif\" font-size=\"14.00\">value = [2, 15]</text>\n<text text-anchor=\"start\" x=\"2261\" y=\"-349.8\" font-family=\"Helvetica,sans-Serif\" font-size=\"14.00\">class = Yes</text>\n</g>\n<!-- 77&#45;&gt;78 -->\n<g id=\"edge78\" class=\"edge\">\n<title>77&#45;&gt;78</title>\n<path fill=\"none\" stroke=\"black\" d=\"M2335.18,-460.91C2330.76,-452.29 2326.05,-443.09 2321.47,-434.17\"/>\n<polygon fill=\"black\" stroke=\"black\" points=\"2324.46,-432.32 2316.78,-425.02 2318.23,-435.52 2324.46,-432.32\"/>\n</g>\n<!-- 83 -->\n<g id=\"node84\" class=\"node\">\n<title>83</title>\n<path fill=\"#f3c5a4\" stroke=\"black\" d=\"M2455,-425C2455,-425 2377,-425 2377,-425 2371,-425 2365,-419 2365,-413 2365,-413 2365,-354 2365,-354 2365,-348 2371,-342 2377,-342 2377,-342 2455,-342 2455,-342 2461,-342 2467,-348 2467,-354 2467,-354 2467,-413 2467,-413 2467,-419 2461,-425 2455,-425\"/>\n<text text-anchor=\"start\" x=\"2375\" y=\"-409.8\" font-family=\"Helvetica,sans-Serif\" font-size=\"14.00\">oldpeak ≤ 1.0</text>\n<text text-anchor=\"start\" x=\"2380.5\" y=\"-394.8\" font-family=\"Helvetica,sans-Serif\" font-size=\"14.00\">gini = 0.455</text>\n<text text-anchor=\"start\" x=\"2375\" y=\"-379.8\" font-family=\"Helvetica,sans-Serif\" font-size=\"14.00\">samples = 20</text>\n<text text-anchor=\"start\" x=\"2373\" y=\"-364.8\" font-family=\"Helvetica,sans-Serif\" font-size=\"14.00\">value = [13, 7]</text>\n<text text-anchor=\"start\" x=\"2384\" y=\"-349.8\" font-family=\"Helvetica,sans-Serif\" font-size=\"14.00\">class = No</text>\n</g>\n<!-- 77&#45;&gt;83 -->\n<g id=\"edge83\" class=\"edge\">\n<title>77&#45;&gt;83</title>\n<path fill=\"none\" stroke=\"black\" d=\"M2376.82,-460.91C2381.24,-452.29 2385.95,-443.09 2390.53,-434.17\"/>\n<polygon fill=\"black\" stroke=\"black\" points=\"2393.77,-435.52 2395.22,-425.02 2387.54,-432.32 2393.77,-435.52\"/>\n</g>\n<!-- 79 -->\n<g id=\"node80\" class=\"node\">\n<title>79</title>\n<path fill=\"#ffffff\" stroke=\"black\" d=\"M2214.5,-306C2214.5,-306 2143.5,-306 2143.5,-306 2137.5,-306 2131.5,-300 2131.5,-294 2131.5,-294 2131.5,-235 2131.5,-235 2131.5,-229 2137.5,-223 2143.5,-223 2143.5,-223 2214.5,-223 2214.5,-223 2220.5,-223 2226.5,-229 2226.5,-235 2226.5,-235 2226.5,-294 2226.5,-294 2226.5,-300 2220.5,-306 2214.5,-306\"/>\n<text text-anchor=\"start\" x=\"2142\" y=\"-290.8\" font-family=\"Helvetica,sans-Serif\" font-size=\"14.00\">chol ≤ 234.5</text>\n<text text-anchor=\"start\" x=\"2151\" y=\"-275.8\" font-family=\"Helvetica,sans-Serif\" font-size=\"14.00\">gini = 0.5</text>\n<text text-anchor=\"start\" x=\"2141.5\" y=\"-260.8\" font-family=\"Helvetica,sans-Serif\" font-size=\"14.00\">samples = 4</text>\n<text text-anchor=\"start\" x=\"2139.5\" y=\"-245.8\" font-family=\"Helvetica,sans-Serif\" font-size=\"14.00\">value = [2, 2]</text>\n<text text-anchor=\"start\" x=\"2147\" y=\"-230.8\" font-family=\"Helvetica,sans-Serif\" font-size=\"14.00\">class = No</text>\n</g>\n<!-- 78&#45;&gt;79 -->\n<g id=\"edge79\" class=\"edge\">\n<title>78&#45;&gt;79</title>\n<path fill=\"none\" stroke=\"black\" d=\"M2255.41,-341.91C2246.15,-332.65 2236.23,-322.73 2226.71,-313.21\"/>\n<polygon fill=\"black\" stroke=\"black\" points=\"2229.07,-310.62 2219.52,-306.02 2224.12,-315.57 2229.07,-310.62\"/>\n</g>\n<!-- 82 -->\n<g id=\"node83\" class=\"node\">\n<title>82</title>\n<path fill=\"#399de5\" stroke=\"black\" d=\"M2335,-298.5C2335,-298.5 2257,-298.5 2257,-298.5 2251,-298.5 2245,-292.5 2245,-286.5 2245,-286.5 2245,-242.5 2245,-242.5 2245,-236.5 2251,-230.5 2257,-230.5 2257,-230.5 2335,-230.5 2335,-230.5 2341,-230.5 2347,-236.5 2347,-242.5 2347,-242.5 2347,-286.5 2347,-286.5 2347,-292.5 2341,-298.5 2335,-298.5\"/>\n<text text-anchor=\"start\" x=\"2268\" y=\"-283.3\" font-family=\"Helvetica,sans-Serif\" font-size=\"14.00\">gini = 0.0</text>\n<text text-anchor=\"start\" x=\"2255\" y=\"-268.3\" font-family=\"Helvetica,sans-Serif\" font-size=\"14.00\">samples = 13</text>\n<text text-anchor=\"start\" x=\"2253\" y=\"-253.3\" font-family=\"Helvetica,sans-Serif\" font-size=\"14.00\">value = [0, 13]</text>\n<text text-anchor=\"start\" x=\"2261\" y=\"-238.3\" font-family=\"Helvetica,sans-Serif\" font-size=\"14.00\">class = Yes</text>\n</g>\n<!-- 78&#45;&gt;82 -->\n<g id=\"edge82\" class=\"edge\">\n<title>78&#45;&gt;82</title>\n<path fill=\"none\" stroke=\"black\" d=\"M2296,-341.91C2296,-331.2 2296,-319.62 2296,-308.78\"/>\n<polygon fill=\"black\" stroke=\"black\" points=\"2299.5,-308.67 2296,-298.67 2292.5,-308.67 2299.5,-308.67\"/>\n</g>\n<!-- 80 -->\n<g id=\"node81\" class=\"node\">\n<title>80</title>\n<path fill=\"#e58139\" stroke=\"black\" d=\"M2214.5,-179.5C2214.5,-179.5 2143.5,-179.5 2143.5,-179.5 2137.5,-179.5 2131.5,-173.5 2131.5,-167.5 2131.5,-167.5 2131.5,-123.5 2131.5,-123.5 2131.5,-117.5 2137.5,-111.5 2143.5,-111.5 2143.5,-111.5 2214.5,-111.5 2214.5,-111.5 2220.5,-111.5 2226.5,-117.5 2226.5,-123.5 2226.5,-123.5 2226.5,-167.5 2226.5,-167.5 2226.5,-173.5 2220.5,-179.5 2214.5,-179.5\"/>\n<text text-anchor=\"start\" x=\"2151\" y=\"-164.3\" font-family=\"Helvetica,sans-Serif\" font-size=\"14.00\">gini = 0.0</text>\n<text text-anchor=\"start\" x=\"2141.5\" y=\"-149.3\" font-family=\"Helvetica,sans-Serif\" font-size=\"14.00\">samples = 2</text>\n<text text-anchor=\"start\" x=\"2139.5\" y=\"-134.3\" font-family=\"Helvetica,sans-Serif\" font-size=\"14.00\">value = [2, 0]</text>\n<text text-anchor=\"start\" x=\"2147\" y=\"-119.3\" font-family=\"Helvetica,sans-Serif\" font-size=\"14.00\">class = No</text>\n</g>\n<!-- 79&#45;&gt;80 -->\n<g id=\"edge80\" class=\"edge\">\n<title>79&#45;&gt;80</title>\n<path fill=\"none\" stroke=\"black\" d=\"M2179,-222.91C2179,-212.2 2179,-200.62 2179,-189.78\"/>\n<polygon fill=\"black\" stroke=\"black\" points=\"2182.5,-189.67 2179,-179.67 2175.5,-189.67 2182.5,-189.67\"/>\n</g>\n<!-- 81 -->\n<g id=\"node82\" class=\"node\">\n<title>81</title>\n<path fill=\"#399de5\" stroke=\"black\" d=\"M2327.5,-179.5C2327.5,-179.5 2256.5,-179.5 2256.5,-179.5 2250.5,-179.5 2244.5,-173.5 2244.5,-167.5 2244.5,-167.5 2244.5,-123.5 2244.5,-123.5 2244.5,-117.5 2250.5,-111.5 2256.5,-111.5 2256.5,-111.5 2327.5,-111.5 2327.5,-111.5 2333.5,-111.5 2339.5,-117.5 2339.5,-123.5 2339.5,-123.5 2339.5,-167.5 2339.5,-167.5 2339.5,-173.5 2333.5,-179.5 2327.5,-179.5\"/>\n<text text-anchor=\"start\" x=\"2264\" y=\"-164.3\" font-family=\"Helvetica,sans-Serif\" font-size=\"14.00\">gini = 0.0</text>\n<text text-anchor=\"start\" x=\"2254.5\" y=\"-149.3\" font-family=\"Helvetica,sans-Serif\" font-size=\"14.00\">samples = 2</text>\n<text text-anchor=\"start\" x=\"2252.5\" y=\"-134.3\" font-family=\"Helvetica,sans-Serif\" font-size=\"14.00\">value = [0, 2]</text>\n<text text-anchor=\"start\" x=\"2257\" y=\"-119.3\" font-family=\"Helvetica,sans-Serif\" font-size=\"14.00\">class = Yes</text>\n</g>\n<!-- 79&#45;&gt;81 -->\n<g id=\"edge81\" class=\"edge\">\n<title>79&#45;&gt;81</title>\n<path fill=\"none\" stroke=\"black\" d=\"M2218.2,-222.91C2229.39,-211.32 2241.59,-198.7 2252.78,-187.11\"/>\n<polygon fill=\"black\" stroke=\"black\" points=\"2255.54,-189.29 2259.97,-179.67 2250.5,-184.43 2255.54,-189.29\"/>\n</g>\n<!-- 84 -->\n<g id=\"node85\" class=\"node\">\n<title>84</title>\n<path fill=\"#eb9e67\" stroke=\"black\" d=\"M2455,-306C2455,-306 2377,-306 2377,-306 2371,-306 2365,-300 2365,-294 2365,-294 2365,-235 2365,-235 2365,-229 2371,-223 2377,-223 2377,-223 2455,-223 2455,-223 2461,-223 2467,-229 2467,-235 2467,-235 2467,-294 2467,-294 2467,-300 2461,-306 2455,-306\"/>\n<text text-anchor=\"start\" x=\"2379\" y=\"-290.8\" font-family=\"Helvetica,sans-Serif\" font-size=\"14.00\">chol ≤ 228.0</text>\n<text text-anchor=\"start\" x=\"2380.5\" y=\"-275.8\" font-family=\"Helvetica,sans-Serif\" font-size=\"14.00\">gini = 0.305</text>\n<text text-anchor=\"start\" x=\"2375\" y=\"-260.8\" font-family=\"Helvetica,sans-Serif\" font-size=\"14.00\">samples = 16</text>\n<text text-anchor=\"start\" x=\"2373\" y=\"-245.8\" font-family=\"Helvetica,sans-Serif\" font-size=\"14.00\">value = [13, 3]</text>\n<text text-anchor=\"start\" x=\"2384\" y=\"-230.8\" font-family=\"Helvetica,sans-Serif\" font-size=\"14.00\">class = No</text>\n</g>\n<!-- 83&#45;&gt;84 -->\n<g id=\"edge84\" class=\"edge\">\n<title>83&#45;&gt;84</title>\n<path fill=\"none\" stroke=\"black\" d=\"M2416,-341.91C2416,-333.65 2416,-324.86 2416,-316.3\"/>\n<polygon fill=\"black\" stroke=\"black\" points=\"2419.5,-316.02 2416,-306.02 2412.5,-316.02 2419.5,-316.02\"/>\n</g>\n<!-- 89 -->\n<g id=\"node90\" class=\"node\">\n<title>89</title>\n<path fill=\"#399de5\" stroke=\"black\" d=\"M2568.5,-298.5C2568.5,-298.5 2497.5,-298.5 2497.5,-298.5 2491.5,-298.5 2485.5,-292.5 2485.5,-286.5 2485.5,-286.5 2485.5,-242.5 2485.5,-242.5 2485.5,-236.5 2491.5,-230.5 2497.5,-230.5 2497.5,-230.5 2568.5,-230.5 2568.5,-230.5 2574.5,-230.5 2580.5,-236.5 2580.5,-242.5 2580.5,-242.5 2580.5,-286.5 2580.5,-286.5 2580.5,-292.5 2574.5,-298.5 2568.5,-298.5\"/>\n<text text-anchor=\"start\" x=\"2505\" y=\"-283.3\" font-family=\"Helvetica,sans-Serif\" font-size=\"14.00\">gini = 0.0</text>\n<text text-anchor=\"start\" x=\"2495.5\" y=\"-268.3\" font-family=\"Helvetica,sans-Serif\" font-size=\"14.00\">samples = 4</text>\n<text text-anchor=\"start\" x=\"2493.5\" y=\"-253.3\" font-family=\"Helvetica,sans-Serif\" font-size=\"14.00\">value = [0, 4]</text>\n<text text-anchor=\"start\" x=\"2498\" y=\"-238.3\" font-family=\"Helvetica,sans-Serif\" font-size=\"14.00\">class = Yes</text>\n</g>\n<!-- 83&#45;&gt;89 -->\n<g id=\"edge89\" class=\"edge\">\n<title>83&#45;&gt;89</title>\n<path fill=\"none\" stroke=\"black\" d=\"M2456.59,-341.91C2468.29,-330.21 2481.04,-317.46 2492.72,-305.78\"/>\n<polygon fill=\"black\" stroke=\"black\" points=\"2495.24,-308.21 2499.83,-298.67 2490.29,-303.26 2495.24,-308.21\"/>\n</g>\n<!-- 85 -->\n<g id=\"node86\" class=\"node\">\n<title>85</title>\n<path fill=\"#ffffff\" stroke=\"black\" d=\"M2448,-187C2448,-187 2374,-187 2374,-187 2368,-187 2362,-181 2362,-175 2362,-175 2362,-116 2362,-116 2362,-110 2368,-104 2374,-104 2374,-104 2448,-104 2448,-104 2454,-104 2460,-110 2460,-116 2460,-116 2460,-175 2460,-175 2460,-181 2454,-187 2448,-187\"/>\n<text text-anchor=\"start\" x=\"2370\" y=\"-171.8\" font-family=\"Helvetica,sans-Serif\" font-size=\"14.00\">oldpeak ≤ 0.7</text>\n<text text-anchor=\"start\" x=\"2383\" y=\"-156.8\" font-family=\"Helvetica,sans-Serif\" font-size=\"14.00\">gini = 0.5</text>\n<text text-anchor=\"start\" x=\"2373.5\" y=\"-141.8\" font-family=\"Helvetica,sans-Serif\" font-size=\"14.00\">samples = 6</text>\n<text text-anchor=\"start\" x=\"2371.5\" y=\"-126.8\" font-family=\"Helvetica,sans-Serif\" font-size=\"14.00\">value = [3, 3]</text>\n<text text-anchor=\"start\" x=\"2379\" y=\"-111.8\" font-family=\"Helvetica,sans-Serif\" font-size=\"14.00\">class = No</text>\n</g>\n<!-- 84&#45;&gt;85 -->\n<g id=\"edge85\" class=\"edge\">\n<title>84&#45;&gt;85</title>\n<path fill=\"none\" stroke=\"black\" d=\"M2414.27,-222.91C2413.91,-214.56 2413.53,-205.67 2413.16,-197.02\"/>\n<polygon fill=\"black\" stroke=\"black\" points=\"2416.66,-196.86 2412.73,-187.02 2409.66,-197.16 2416.66,-196.86\"/>\n</g>\n<!-- 88 -->\n<g id=\"node89\" class=\"node\">\n<title>88</title>\n<path fill=\"#e58139\" stroke=\"black\" d=\"M2568,-179.5C2568,-179.5 2490,-179.5 2490,-179.5 2484,-179.5 2478,-173.5 2478,-167.5 2478,-167.5 2478,-123.5 2478,-123.5 2478,-117.5 2484,-111.5 2490,-111.5 2490,-111.5 2568,-111.5 2568,-111.5 2574,-111.5 2580,-117.5 2580,-123.5 2580,-123.5 2580,-167.5 2580,-167.5 2580,-173.5 2574,-179.5 2568,-179.5\"/>\n<text text-anchor=\"start\" x=\"2501\" y=\"-164.3\" font-family=\"Helvetica,sans-Serif\" font-size=\"14.00\">gini = 0.0</text>\n<text text-anchor=\"start\" x=\"2488\" y=\"-149.3\" font-family=\"Helvetica,sans-Serif\" font-size=\"14.00\">samples = 10</text>\n<text text-anchor=\"start\" x=\"2486\" y=\"-134.3\" font-family=\"Helvetica,sans-Serif\" font-size=\"14.00\">value = [10, 0]</text>\n<text text-anchor=\"start\" x=\"2497\" y=\"-119.3\" font-family=\"Helvetica,sans-Serif\" font-size=\"14.00\">class = No</text>\n</g>\n<!-- 84&#45;&gt;88 -->\n<g id=\"edge88\" class=\"edge\">\n<title>84&#45;&gt;88</title>\n<path fill=\"none\" stroke=\"black\" d=\"M2455.2,-222.91C2466.39,-211.32 2478.59,-198.7 2489.78,-187.11\"/>\n<polygon fill=\"black\" stroke=\"black\" points=\"2492.54,-189.29 2496.97,-179.67 2487.5,-184.43 2492.54,-189.29\"/>\n</g>\n<!-- 86 -->\n<g id=\"node87\" class=\"node\">\n<title>86</title>\n<path fill=\"#399de5\" stroke=\"black\" d=\"M2390.5,-68C2390.5,-68 2319.5,-68 2319.5,-68 2313.5,-68 2307.5,-62 2307.5,-56 2307.5,-56 2307.5,-12 2307.5,-12 2307.5,-6 2313.5,0 2319.5,0 2319.5,0 2390.5,0 2390.5,0 2396.5,0 2402.5,-6 2402.5,-12 2402.5,-12 2402.5,-56 2402.5,-56 2402.5,-62 2396.5,-68 2390.5,-68\"/>\n<text text-anchor=\"start\" x=\"2327\" y=\"-52.8\" font-family=\"Helvetica,sans-Serif\" font-size=\"14.00\">gini = 0.0</text>\n<text text-anchor=\"start\" x=\"2317.5\" y=\"-37.8\" font-family=\"Helvetica,sans-Serif\" font-size=\"14.00\">samples = 3</text>\n<text text-anchor=\"start\" x=\"2315.5\" y=\"-22.8\" font-family=\"Helvetica,sans-Serif\" font-size=\"14.00\">value = [0, 3]</text>\n<text text-anchor=\"start\" x=\"2320\" y=\"-7.8\" font-family=\"Helvetica,sans-Serif\" font-size=\"14.00\">class = Yes</text>\n</g>\n<!-- 85&#45;&gt;86 -->\n<g id=\"edge86\" class=\"edge\">\n<title>85&#45;&gt;86</title>\n<path fill=\"none\" stroke=\"black\" d=\"M2390.15,-103.73C2385.76,-95.15 2381.13,-86.09 2376.71,-77.46\"/>\n<polygon fill=\"black\" stroke=\"black\" points=\"2379.7,-75.61 2372.03,-68.3 2373.47,-78.8 2379.7,-75.61\"/>\n</g>\n<!-- 87 -->\n<g id=\"node88\" class=\"node\">\n<title>87</title>\n<path fill=\"#e58139\" stroke=\"black\" d=\"M2503.5,-68C2503.5,-68 2432.5,-68 2432.5,-68 2426.5,-68 2420.5,-62 2420.5,-56 2420.5,-56 2420.5,-12 2420.5,-12 2420.5,-6 2426.5,0 2432.5,0 2432.5,0 2503.5,0 2503.5,0 2509.5,0 2515.5,-6 2515.5,-12 2515.5,-12 2515.5,-56 2515.5,-56 2515.5,-62 2509.5,-68 2503.5,-68\"/>\n<text text-anchor=\"start\" x=\"2440\" y=\"-52.8\" font-family=\"Helvetica,sans-Serif\" font-size=\"14.00\">gini = 0.0</text>\n<text text-anchor=\"start\" x=\"2430.5\" y=\"-37.8\" font-family=\"Helvetica,sans-Serif\" font-size=\"14.00\">samples = 3</text>\n<text text-anchor=\"start\" x=\"2428.5\" y=\"-22.8\" font-family=\"Helvetica,sans-Serif\" font-size=\"14.00\">value = [3, 0]</text>\n<text text-anchor=\"start\" x=\"2436\" y=\"-7.8\" font-family=\"Helvetica,sans-Serif\" font-size=\"14.00\">class = No</text>\n</g>\n<!-- 85&#45;&gt;87 -->\n<g id=\"edge87\" class=\"edge\">\n<title>85&#45;&gt;87</title>\n<path fill=\"none\" stroke=\"black\" d=\"M2432.22,-103.73C2436.74,-95.06 2441.51,-85.9 2446.04,-77.18\"/>\n<polygon fill=\"black\" stroke=\"black\" points=\"2449.15,-78.79 2450.67,-68.3 2442.94,-75.55 2449.15,-78.79\"/>\n</g>\n<!-- 91 -->\n<g id=\"node92\" class=\"node\">\n<title>91</title>\n<path fill=\"#bddef6\" stroke=\"black\" d=\"M2681.5,-425C2681.5,-425 2610.5,-425 2610.5,-425 2604.5,-425 2598.5,-419 2598.5,-413 2598.5,-413 2598.5,-354 2598.5,-354 2598.5,-348 2604.5,-342 2610.5,-342 2610.5,-342 2681.5,-342 2681.5,-342 2687.5,-342 2693.5,-348 2693.5,-354 2693.5,-354 2693.5,-413 2693.5,-413 2693.5,-419 2687.5,-425 2681.5,-425\"/>\n<text text-anchor=\"start\" x=\"2609\" y=\"-409.8\" font-family=\"Helvetica,sans-Serif\" font-size=\"14.00\">chol ≤ 287.0</text>\n<text text-anchor=\"start\" x=\"2614\" y=\"-394.8\" font-family=\"Helvetica,sans-Serif\" font-size=\"14.00\">gini = 0.48</text>\n<text text-anchor=\"start\" x=\"2608.5\" y=\"-379.8\" font-family=\"Helvetica,sans-Serif\" font-size=\"14.00\">samples = 5</text>\n<text text-anchor=\"start\" x=\"2606.5\" y=\"-364.8\" font-family=\"Helvetica,sans-Serif\" font-size=\"14.00\">value = [2, 3]</text>\n<text text-anchor=\"start\" x=\"2611\" y=\"-349.8\" font-family=\"Helvetica,sans-Serif\" font-size=\"14.00\">class = Yes</text>\n</g>\n<!-- 90&#45;&gt;91 -->\n<g id=\"edge91\" class=\"edge\">\n<title>90&#45;&gt;91</title>\n<path fill=\"none\" stroke=\"black\" d=\"M2646,-460.91C2646,-452.65 2646,-443.86 2646,-435.3\"/>\n<polygon fill=\"black\" stroke=\"black\" points=\"2649.5,-435.02 2646,-425.02 2642.5,-435.02 2649.5,-435.02\"/>\n</g>\n<!-- 94 -->\n<g id=\"node95\" class=\"node\">\n<title>94</title>\n<path fill=\"#399de5\" stroke=\"black\" d=\"M2802,-417.5C2802,-417.5 2724,-417.5 2724,-417.5 2718,-417.5 2712,-411.5 2712,-405.5 2712,-405.5 2712,-361.5 2712,-361.5 2712,-355.5 2718,-349.5 2724,-349.5 2724,-349.5 2802,-349.5 2802,-349.5 2808,-349.5 2814,-355.5 2814,-361.5 2814,-361.5 2814,-405.5 2814,-405.5 2814,-411.5 2808,-417.5 2802,-417.5\"/>\n<text text-anchor=\"start\" x=\"2735\" y=\"-402.3\" font-family=\"Helvetica,sans-Serif\" font-size=\"14.00\">gini = 0.0</text>\n<text text-anchor=\"start\" x=\"2722\" y=\"-387.3\" font-family=\"Helvetica,sans-Serif\" font-size=\"14.00\">samples = 24</text>\n<text text-anchor=\"start\" x=\"2720\" y=\"-372.3\" font-family=\"Helvetica,sans-Serif\" font-size=\"14.00\">value = [0, 24]</text>\n<text text-anchor=\"start\" x=\"2728\" y=\"-357.3\" font-family=\"Helvetica,sans-Serif\" font-size=\"14.00\">class = Yes</text>\n</g>\n<!-- 90&#45;&gt;94 -->\n<g id=\"edge94\" class=\"edge\">\n<title>90&#45;&gt;94</title>\n<path fill=\"none\" stroke=\"black\" d=\"M2686.59,-460.91C2698.29,-449.21 2711.04,-436.46 2722.72,-424.78\"/>\n<polygon fill=\"black\" stroke=\"black\" points=\"2725.24,-427.21 2729.83,-417.67 2720.29,-422.26 2725.24,-427.21\"/>\n</g>\n<!-- 92 -->\n<g id=\"node93\" class=\"node\">\n<title>92</title>\n<path fill=\"#e58139\" stroke=\"black\" d=\"M2681.5,-298.5C2681.5,-298.5 2610.5,-298.5 2610.5,-298.5 2604.5,-298.5 2598.5,-292.5 2598.5,-286.5 2598.5,-286.5 2598.5,-242.5 2598.5,-242.5 2598.5,-236.5 2604.5,-230.5 2610.5,-230.5 2610.5,-230.5 2681.5,-230.5 2681.5,-230.5 2687.5,-230.5 2693.5,-236.5 2693.5,-242.5 2693.5,-242.5 2693.5,-286.5 2693.5,-286.5 2693.5,-292.5 2687.5,-298.5 2681.5,-298.5\"/>\n<text text-anchor=\"start\" x=\"2618\" y=\"-283.3\" font-family=\"Helvetica,sans-Serif\" font-size=\"14.00\">gini = 0.0</text>\n<text text-anchor=\"start\" x=\"2608.5\" y=\"-268.3\" font-family=\"Helvetica,sans-Serif\" font-size=\"14.00\">samples = 2</text>\n<text text-anchor=\"start\" x=\"2606.5\" y=\"-253.3\" font-family=\"Helvetica,sans-Serif\" font-size=\"14.00\">value = [2, 0]</text>\n<text text-anchor=\"start\" x=\"2614\" y=\"-238.3\" font-family=\"Helvetica,sans-Serif\" font-size=\"14.00\">class = No</text>\n</g>\n<!-- 91&#45;&gt;92 -->\n<g id=\"edge92\" class=\"edge\">\n<title>91&#45;&gt;92</title>\n<path fill=\"none\" stroke=\"black\" d=\"M2646,-341.91C2646,-331.2 2646,-319.62 2646,-308.78\"/>\n<polygon fill=\"black\" stroke=\"black\" points=\"2649.5,-308.67 2646,-298.67 2642.5,-308.67 2649.5,-308.67\"/>\n</g>\n<!-- 93 -->\n<g id=\"node94\" class=\"node\">\n<title>93</title>\n<path fill=\"#399de5\" stroke=\"black\" d=\"M2794.5,-298.5C2794.5,-298.5 2723.5,-298.5 2723.5,-298.5 2717.5,-298.5 2711.5,-292.5 2711.5,-286.5 2711.5,-286.5 2711.5,-242.5 2711.5,-242.5 2711.5,-236.5 2717.5,-230.5 2723.5,-230.5 2723.5,-230.5 2794.5,-230.5 2794.5,-230.5 2800.5,-230.5 2806.5,-236.5 2806.5,-242.5 2806.5,-242.5 2806.5,-286.5 2806.5,-286.5 2806.5,-292.5 2800.5,-298.5 2794.5,-298.5\"/>\n<text text-anchor=\"start\" x=\"2731\" y=\"-283.3\" font-family=\"Helvetica,sans-Serif\" font-size=\"14.00\">gini = 0.0</text>\n<text text-anchor=\"start\" x=\"2721.5\" y=\"-268.3\" font-family=\"Helvetica,sans-Serif\" font-size=\"14.00\">samples = 3</text>\n<text text-anchor=\"start\" x=\"2719.5\" y=\"-253.3\" font-family=\"Helvetica,sans-Serif\" font-size=\"14.00\">value = [0, 3]</text>\n<text text-anchor=\"start\" x=\"2724\" y=\"-238.3\" font-family=\"Helvetica,sans-Serif\" font-size=\"14.00\">class = Yes</text>\n</g>\n<!-- 91&#45;&gt;93 -->\n<g id=\"edge93\" class=\"edge\">\n<title>91&#45;&gt;93</title>\n<path fill=\"none\" stroke=\"black\" d=\"M2685.2,-341.91C2696.39,-330.32 2708.59,-317.7 2719.78,-306.11\"/>\n<polygon fill=\"black\" stroke=\"black\" points=\"2722.54,-308.29 2726.97,-298.67 2717.5,-303.43 2722.54,-308.29\"/>\n</g>\n<!-- 97 -->\n<g id=\"node98\" class=\"node\">\n<title>97</title>\n<path fill=\"#399de5\" stroke=\"black\" d=\"M2625.5,-655.5C2625.5,-655.5 2554.5,-655.5 2554.5,-655.5 2548.5,-655.5 2542.5,-649.5 2542.5,-643.5 2542.5,-643.5 2542.5,-599.5 2542.5,-599.5 2542.5,-593.5 2548.5,-587.5 2554.5,-587.5 2554.5,-587.5 2625.5,-587.5 2625.5,-587.5 2631.5,-587.5 2637.5,-593.5 2637.5,-599.5 2637.5,-599.5 2637.5,-643.5 2637.5,-643.5 2637.5,-649.5 2631.5,-655.5 2625.5,-655.5\"/>\n<text text-anchor=\"start\" x=\"2562\" y=\"-640.3\" font-family=\"Helvetica,sans-Serif\" font-size=\"14.00\">gini = 0.0</text>\n<text text-anchor=\"start\" x=\"2552.5\" y=\"-625.3\" font-family=\"Helvetica,sans-Serif\" font-size=\"14.00\">samples = 2</text>\n<text text-anchor=\"start\" x=\"2550.5\" y=\"-610.3\" font-family=\"Helvetica,sans-Serif\" font-size=\"14.00\">value = [0, 2]</text>\n<text text-anchor=\"start\" x=\"2555\" y=\"-595.3\" font-family=\"Helvetica,sans-Serif\" font-size=\"14.00\">class = Yes</text>\n</g>\n<!-- 96&#45;&gt;97 -->\n<g id=\"edge97\" class=\"edge\">\n<title>96&#45;&gt;97</title>\n<path fill=\"none\" stroke=\"black\" d=\"M2590,-698.91C2590,-688.2 2590,-676.62 2590,-665.78\"/>\n<polygon fill=\"black\" stroke=\"black\" points=\"2593.5,-665.67 2590,-655.67 2586.5,-665.67 2593.5,-665.67\"/>\n</g>\n<!-- 98 -->\n<g id=\"node99\" class=\"node\">\n<title>98</title>\n<path fill=\"#e58139\" stroke=\"black\" d=\"M2746,-655.5C2746,-655.5 2668,-655.5 2668,-655.5 2662,-655.5 2656,-649.5 2656,-643.5 2656,-643.5 2656,-599.5 2656,-599.5 2656,-593.5 2662,-587.5 2668,-587.5 2668,-587.5 2746,-587.5 2746,-587.5 2752,-587.5 2758,-593.5 2758,-599.5 2758,-599.5 2758,-643.5 2758,-643.5 2758,-649.5 2752,-655.5 2746,-655.5\"/>\n<text text-anchor=\"start\" x=\"2679\" y=\"-640.3\" font-family=\"Helvetica,sans-Serif\" font-size=\"14.00\">gini = 0.0</text>\n<text text-anchor=\"start\" x=\"2666\" y=\"-625.3\" font-family=\"Helvetica,sans-Serif\" font-size=\"14.00\">samples = 16</text>\n<text text-anchor=\"start\" x=\"2664\" y=\"-610.3\" font-family=\"Helvetica,sans-Serif\" font-size=\"14.00\">value = [16, 0]</text>\n<text text-anchor=\"start\" x=\"2675\" y=\"-595.3\" font-family=\"Helvetica,sans-Serif\" font-size=\"14.00\">class = No</text>\n</g>\n<!-- 96&#45;&gt;98 -->\n<g id=\"edge98\" class=\"edge\">\n<title>96&#45;&gt;98</title>\n<path fill=\"none\" stroke=\"black\" d=\"M2630.59,-698.91C2642.29,-687.21 2655.04,-674.46 2666.72,-662.78\"/>\n<polygon fill=\"black\" stroke=\"black\" points=\"2669.24,-665.21 2673.83,-655.67 2664.29,-660.26 2669.24,-665.21\"/>\n</g>\n</g>\n</svg>\n",
            "text/plain": [
              "<graphviz.sources.Source at 0x7c3779b9bef0>"
            ]
          },
          "metadata": {},
          "execution_count": 107
        }
      ]
    },
    {
      "cell_type": "code",
      "source": [
        "cv_scores_dt = cross_val_score(dt, X, y, cv=5)\n",
        "print(\"Cross-validation scores (Decision Tree):\", cv_scores_dt)\n",
        "print(\"Mean CV Accuracy (Decision Tree):\", cv_scores_dt.mean())"
      ],
      "metadata": {
        "colab": {
          "base_uri": "https://localhost:8080/"
        },
        "id": "-Fe5zC5fzsx9",
        "outputId": "81429b07-0822-4fc4-f7b7-227110282674"
      },
      "execution_count": 108,
      "outputs": [
        {
          "output_type": "stream",
          "name": "stdout",
          "text": [
            "Cross-validation scores (Decision Tree): [1. 1. 1. 1. 1.]\n",
            "Mean CV Accuracy (Decision Tree): 1.0\n"
          ]
        }
      ]
    },
    {
      "cell_type": "markdown",
      "source": [
        "# Why this could be a problem (Overfitting)\n",
        "\n",
        "Decision Trees are high-variance models.\n",
        "They can easily memorize the training data—especially when:\n",
        "\n",
        "The dataset is small, imbalanced, or not noisy.\n",
        "\n",
        "The tree has no restrictions (e.g., unlimited depth).\n",
        "\n",
        "Features allow the tree to split perfectly.\n",
        "\n",
        "This means the model fits the data too well and may fail to generalize to unseen data."
      ],
      "metadata": {
        "id": "M1DCX66v0DYl"
      }
    },
    {
      "cell_type": "markdown",
      "source": [
        "\n",
        "# Analyze overfitting and control tree depth.\n",
        "\n"
      ],
      "metadata": {
        "id": "dWb7T6dFzurN"
      }
    },
    {
      "cell_type": "code",
      "source": [
        "dt_limited = DecisionTreeClassifier(max_depth=4, random_state=42)\n",
        "dt_limited.fit(X_train, y_train)\n",
        "\n",
        "print(\"Training Accuracy (limited):\", dt_limited.score(X_train, y_train))\n",
        "print(\"Test Accuracy (limited):\", dt_limited.score(X_test, y_test))"
      ],
      "metadata": {
        "colab": {
          "base_uri": "https://localhost:8080/"
        },
        "id": "0sIsWgnGraGr",
        "outputId": "f9af146e-fb6f-4e87-ace2-c2044a6388ca"
      },
      "execution_count": 109,
      "outputs": [
        {
          "output_type": "stream",
          "name": "stdout",
          "text": [
            "Training Accuracy (limited): 0.8829268292682927\n",
            "Test Accuracy (limited): 0.8\n"
          ]
        }
      ]
    },
    {
      "cell_type": "code",
      "source": [
        "cv_scores_dt_limited = cross_val_score(dt_limited, X, y, cv=5)\n",
        "print(\"Cross-validation scores (Decision Tree limited):\", cv_scores_dt_limited)\n",
        "print(\"Mean CV Accuracy (Decision Tree limited):\", cv_scores_dt_limited.mean())"
      ],
      "metadata": {
        "colab": {
          "base_uri": "https://localhost:8080/"
        },
        "id": "sE_GfV1p20wd",
        "outputId": "71231d56-7aa7-4e77-9ad4-f3715716e4be"
      },
      "execution_count": 110,
      "outputs": [
        {
          "output_type": "stream",
          "name": "stdout",
          "text": [
            "Cross-validation scores (Decision Tree limited): [0.84390244 0.83414634 0.87317073 0.80487805 0.81463415]\n",
            "Mean CV Accuracy (Decision Tree limited): 0.8341463414634147\n"
          ]
        }
      ]
    },
    {
      "cell_type": "markdown",
      "source": [
        "# Test Result"
      ],
      "metadata": {
        "id": "a1H6lHOp0mdU"
      }
    },
    {
      "cell_type": "code",
      "metadata": {
        "colab": {
          "base_uri": "https://localhost:8080/"
        },
        "id": "9aa0afce",
        "outputId": "a0c13fee-0194-40ef-e446-54445a125ef3"
      },
      "source": [
        "\n",
        "# Create a sample input (must match feature columns)\n",
        "sample_input = pd.DataFrame(\n",
        "    [[52, 1, 0, 125, 212, 0, 1, 168, 0, 1.0, 2, 2, 3]],\n",
        "    columns=X_train.columns\n",
        ")\n",
        "\n",
        "# Generate prediction\n",
        "prediction = dt_limited.predict(sample_input)\n",
        "\n",
        "# Print the prediction\n",
        "print(\"Prediction for the sample input:\", prediction)"
      ],
      "execution_count": 111,
      "outputs": [
        {
          "output_type": "stream",
          "name": "stdout",
          "text": [
            "Prediction for the sample input: [0]\n"
          ]
        }
      ]
    },
    {
      "cell_type": "markdown",
      "source": [
        "# Random Forest"
      ],
      "metadata": {
        "id": "rlUaIFVZ1p6l"
      }
    },
    {
      "cell_type": "code",
      "source": [
        "rf = RandomForestClassifier(n_estimators=100, random_state=42)\n",
        "rf.fit(X_train, y_train)\n",
        "\n",
        "print(\"Random Forest Training Accuracy:\", rf.score(X_train, y_train))\n",
        "print(\"Random Forest Test Accuracy:\", rf.score(X_test, y_test))"
      ],
      "metadata": {
        "colab": {
          "base_uri": "https://localhost:8080/"
        },
        "id": "Kq-eQQQTrgYV",
        "outputId": "c34f1c93-85c9-4296-a482-08ad3b7bbd4c"
      },
      "execution_count": 112,
      "outputs": [
        {
          "output_type": "stream",
          "name": "stdout",
          "text": [
            "Random Forest Training Accuracy: 1.0\n",
            "Random Forest Test Accuracy: 0.9853658536585366\n"
          ]
        }
      ]
    },
    {
      "cell_type": "code",
      "source": [
        "# Create a sample input (must match feature columns)\n",
        "sample_input = pd.DataFrame(\n",
        "    [[52, 1, 0, 125, 212, 0, 1, 168, 0, 1.0, 2, 2, 3]],\n",
        "    columns=X_train.columns\n",
        ")\n",
        "\n",
        "# Generate prediction using the Random Forest model\n",
        "prediction = rf.predict(sample_input)\n",
        "\n",
        "# Print the prediction\n",
        "print(\"Prediction for the sample input (Random Forest):\", prediction)"
      ],
      "metadata": {
        "colab": {
          "base_uri": "https://localhost:8080/"
        },
        "id": "0JC41lM811fE",
        "outputId": "38b9f62b-d2f6-4798-fe8e-08d52ddeb64f"
      },
      "execution_count": 113,
      "outputs": [
        {
          "output_type": "stream",
          "name": "stdout",
          "text": [
            "Prediction for the sample input (Random Forest): [0]\n"
          ]
        }
      ]
    },
    {
      "cell_type": "markdown",
      "source": [
        "# Compare Results of Decision Tree & Random Forest"
      ],
      "metadata": {
        "id": "DKWGwYWV2OsM"
      }
    },
    {
      "cell_type": "code",
      "source": [
        "print(\"Decision Tree Test Accuracy:\", dt_limited.score(X_test, y_test))\n",
        "print(\"Random Forest Test Accuracy:\", rf.score(X_test, y_test))\n",
        "\n",
        "print(\"\\nDecision Tree Mean CV Accuracy:\", cv_scores_dt.mean())\n",
        "print(\"Random Forest Mean CV Accuracy:\", cv_scores.mean())"
      ],
      "metadata": {
        "colab": {
          "base_uri": "https://localhost:8080/"
        },
        "id": "TcVj9ZED2Uae",
        "outputId": "ca75d663-f1b0-46f8-eabc-db178b5e9a22"
      },
      "execution_count": 114,
      "outputs": [
        {
          "output_type": "stream",
          "name": "stdout",
          "text": [
            "Decision Tree Test Accuracy: 0.8\n",
            "Random Forest Test Accuracy: 0.9853658536585366\n",
            "\n",
            "Decision Tree Mean CV Accuracy: 1.0\n",
            "Random Forest Mean CV Accuracy: 0.9970731707317073\n"
          ]
        }
      ]
    },
    {
      "cell_type": "markdown",
      "source": [
        "# Feature importances"
      ],
      "metadata": {
        "id": "NRnQ_LHl1-1W"
      }
    },
    {
      "cell_type": "code",
      "source": [
        "feat_importances = pd.Series(rf.feature_importances_, index=X.columns)\n",
        "feat_importances.nlargest(10).plot(kind='barh')\n",
        "plt.title(\"Top 10 Feature Importances\")\n",
        "plt.show()"
      ],
      "metadata": {
        "colab": {
          "base_uri": "https://localhost:8080/",
          "height": 452
        },
        "id": "zYo5nsp0rj7G",
        "outputId": "369a3612-d466-4a5d-b28d-390ae7366937"
      },
      "execution_count": 115,
      "outputs": [
        {
          "output_type": "display_data",
          "data": {
            "text/plain": [
              "<Figure size 640x480 with 1 Axes>"
            ],
            "image/png": "[encoded data removed]"
          },
          "metadata": {}
        }
      ]
    },
    {
      "cell_type": "code",
      "source": [
        "cv_scores = cross_val_score(rf, X, y, cv=5)\n",
        "print(\"Cross-validation scores:\", cv_scores)\n",
        "print(\"Mean CV Accuracy:\", cv_scores.mean())"
      ],
      "metadata": {
        "colab": {
          "base_uri": "https://localhost:8080/"
        },
        "id": "4Zh4h7isrn-t",
        "outputId": "0b9bf69e-b305-463d-cc9e-4a9898147e8d"
      },
      "execution_count": 116,
      "outputs": [
        {
          "output_type": "stream",
          "name": "stdout",
          "text": [
            "Cross-validation scores: [1.         1.         1.         1.         0.98536585]\n",
            "Mean CV Accuracy: 0.9970731707317073\n"
          ]
        }
      ]
    },
    {
      "cell_type": "code",
      "source": [
        "print(\"Decision Tree Mean CV Accuracy:\", cv_scores_dt_limited.mean())\n",
        "print(\"Random Forest Mean CV Accuracy:\", cv_scores.mean())"
      ],
      "metadata": {
        "colab": {
          "base_uri": "https://localhost:8080/"
        },
        "id": "A7OPRFDV3mj0",
        "outputId": "1ce35725-d024-4f8f-81aa-b3630d161f0c"
      },
      "execution_count": 117,
      "outputs": [
        {
          "output_type": "stream",
          "name": "stdout",
          "text": [
            "Decision Tree Mean CV Accuracy: 0.8341463414634147\n",
            "Random Forest Mean CV Accuracy: 0.9970731707317073\n"
          ]
        }
      ]
    },
    {
      "cell_type": "code",
      "source": [
        "models = ['Limited Decision Tree', 'Random Forest']\n",
        "mean_cv_accuracies = [cv_scores_dt_limited.mean(), cv_scores.mean()]\n",
        "\n",
        "plt.figure(figsize=(8, 6))\n",
        "ax = sns.barplot(x=models, y=mean_cv_accuracies, palette='viridis') # Using 'viridis' palette\n",
        "\n",
        "# Add percentage values on top of the bars\n",
        "for p in ax.patches:\n",
        "    ax.annotate(f'{p.get_height():.1%}', (p.get_x() + p.get_width() / 2., p.get_height()),\n",
        "                ha='center', va='center', xytext=(0, 5), textcoords='offset points')\n",
        "\n",
        "plt.title(\"Mean Cross-Validation Accuracy Comparison\")\n",
        "plt.ylabel(\"Mean CV Accuracy\")\n",
        "plt.ylim(0, 1.1) # Adjust y-limit to accommodate labels\n",
        "plt.show()"
      ],
      "metadata": {
        "colab": {
          "base_uri": "https://localhost:8080/",
          "height": 545
        },
        "id": "3m6gpGxP4JP8",
        "outputId": "6317efcf-6a07-4726-caec-b069f947dfad"
      },
      "execution_count": 118,
      "outputs": [
        {
          "output_type": "display_data",
          "data": {
            "text/plain": [
              "<Figure size 800x600 with 1 Axes>"
            ],
            "image/png": "[encoded data removed]"
          },
          "metadata": {}
        }
      ]
    }
  ]
}